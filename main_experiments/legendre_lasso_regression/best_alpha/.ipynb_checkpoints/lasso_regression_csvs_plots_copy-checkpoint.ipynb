{
 "cells": [
  {
   "cell_type": "code",
   "execution_count": 1,
   "metadata": {
    "collapsed": true
   },
   "outputs": [],
   "source": [
    "import pandas as pd\n",
    "import numpy as np\n",
    "import matplotlib.pyplot as plt\n",
    "import seaborn\n",
    "import os\n",
    "import cPickle"
   ]
  },
  {
   "cell_type": "code",
   "execution_count": 3,
   "metadata": {
    "collapsed": true
   },
   "outputs": [],
   "source": [
    "alpha_values_base = [0.001, 0.01, 0.1, 1, 10, 100]\n",
    "#alpha_values_base = [0.02, 0.03, 0.04, 0.05, 0.06, 0.07, 0.08, 0.09]\n",
    "alpha_values_str = [str(a) for a in alpha_values_base]"
   ]
  },
  {
   "cell_type": "markdown",
   "metadata": {},
   "source": [
    "# Main function"
   ]
  },
  {
   "cell_type": "code",
   "execution_count": 4,
   "metadata": {
    "collapsed": true
   },
   "outputs": [],
   "source": [
    "def load_baselines():\n",
    "    degrees = [3, 4, 5, 6]\n",
    "    baseline_dir = \"/Users/lmatayoshi/Documents/Projects/tesis_notebooks/experiments/ols_vs_numpy/Baselines/\"\n",
    "    baselines_dicc = {}\n",
    "    \n",
    "    for degree in degrees:\n",
    "        degree_str = \"degree_\" + str(degree)\n",
    "        baseline_filename = baseline_dir + degree_str\n",
    "        with open(baseline_filename, \"rb\") as f:\n",
    "            baselines = cPickle.load(f)\n",
    "        baselines_dicc[degree] = baselines\n",
    "       \n",
    "    # keys: ['baseline_ols', 'baseline_numpy_legendre']\n",
    "    return baselines_dicc\n",
    "    "
   ]
  },
  {
   "cell_type": "code",
   "execution_count": 5,
   "metadata": {
    "collapsed": true
   },
   "outputs": [],
   "source": [
    "def anotate(plt, xs, ys, delta, baseline):\n",
    "    text = \"Delta: \" + \"%.2f\" % delta\n",
    "    min_value = np.min(np.array(ys))\n",
    "    min_index = list(ys).index(min_value)\n",
    "    if delta > 0:\n",
    "        ymin = baseline\n",
    "        ymax = min_value\n",
    "    else:\n",
    "        ymin = min_value\n",
    "        ymax = baseline\n",
    "    plt.plot([xs[min_index], xs[min_index]], [ymin, ymax], color=\"red\", linestyle=\":\", linewidth=1.5)\n",
    "    plt.annotate(text, xy=(xs[1], np.sort(ys)[-3]))"
   ]
  },
  {
   "cell_type": "code",
   "execution_count": 85,
   "metadata": {
    "collapsed": true
   },
   "outputs": [],
   "source": [
    "def main(degree, alpha_values, alpha_values_str):\n",
    "    degree_str = \"degree_\" + str(degree)\n",
    "    base_dir = \"/Users/lmatayoshi/Documents/Projects/tesis_notebooks/experiments/eer_main/\" + degree_str + \"/\"\n",
    "    baselines_dicc = load_baselines()\n",
    "    #alpha_values_str = [str(a) for a in alpha_values]\n",
    "    results = []\n",
    "    \n",
    "    for alpha in alpha_values_str:\n",
    "        with open(base_dir + alpha, \"r\") as f:\n",
    "            result = f.read()\n",
    "        result = result.split(\"\\n\")\n",
    "        result = [l.split(\": \") for l in result]\n",
    "        result = [r for r in result if len(r) == 2]\n",
    "        if len(result) != 28:\n",
    "            raise Exception(\"Phonemes are not complete\")\n",
    "        results.append(result)\n",
    "        \n",
    "    base_matrix = np.array(results[0])\n",
    "    phonemes = base_matrix[:, 0]\n",
    "    n_positives = np.array([positives_dict[phoneme] for phoneme in phonemes]).reshape(-1,1)\n",
    "    n_negatives = np.array([negatives_dict[phoneme] for phoneme in phonemes]).reshape(-1,1)\n",
    "    n_total = np.array([positives_dict[phoneme] + negatives_dict[phoneme] for phoneme in phonemes]).reshape(-1,1)\n",
    "\n",
    "    for i in range(1, len(results)):\n",
    "        new_column = np.array(results[i])[:, 1].reshape(-1,1)\n",
    "        base_matrix = np.hstack((base_matrix, new_column))\n",
    "    \n",
    "    base_matrix = np.hstack((base_matrix, n_positives))\n",
    "    base_matrix = np.hstack((base_matrix, n_negatives))\n",
    "    base_matrix = np.hstack((base_matrix, n_total))\n",
    "\n",
    "    dataframe = pd.DataFrame(base_matrix[:, 1:], index=phonemes, columns=alpha_values + ['n_positives', 'n_negatives', 'n_total'])\n",
    "    #output_base_dir = \"/Users/lmatayoshi/pronunciation-scoring/spanish_adults/experiments_legendre/output/exp1/default/\"\n",
    "    output_base_dir_2 = \"/Users/lmatayoshi/Documents/Projects/tesis_notebooks/experiments/\"\n",
    "    #output_filename = output_base_dir + \"csvs/\" + degree_str\n",
    "    output_filename_2 = output_base_dir_2 + \"csvs/\" + degree_str + \".csv\"\n",
    "    \n",
    "    plots_base_dir = output_base_dir_2 + \"plots/\"\n",
    "    #plots_base_dir = output_base_dir_2 + \"plots_adjusting_intervals/\"\n",
    "    plots_dir = plots_base_dir + degree_str + \"/\"\n",
    "    \n",
    "    try:\n",
    "        os.makedirs(plots_dir)\n",
    "    except OSError as exception:\n",
    "        \"\"\n",
    "\n",
    "    for index, row in dataframe.iterrows():  \n",
    "        xs = row.index[:len(alpha_values)]\n",
    "        ys = np.array(row[:len(alpha_values)]).astype(np.float)\n",
    "        baseline_numpy = baselines_dicc[degree]['baseline_numpy_legendre'][index]\n",
    "        baseline = baselines_dicc[degree]['baseline_ols'][index]\n",
    "        plt.semilogx(xs, list(ys))\n",
    "        plt.axhline(y=baseline, linestyle=\"--\", color=\"black\")\n",
    "        delta = (np.min(ys) - baseline) / baseline\n",
    "        anotate(plt, xs, ys, delta, baseline)\n",
    "\n",
    "        #title = \"Grado \" + str(degree) + \". Phoneme: \"+ index + \". Positives: \" + str(positives_dict[index]) + \", Negatives: \" + str(negatives_dict[index])\n",
    "        title = \"Grado \" + str(degree) + \". Phoneme: \"+ index + \". Positives: \" + str(row[-2]) + \", Negatives: \" + str(row[-1])\n",
    "        plt.title(title)\n",
    "        if index in ['g', 'y', 'd', 'b', 'n']:\n",
    "            index = index + \"_lowercase\"\n",
    "        filename = plots_dir + index\n",
    "        plt.savefig(filename)\n",
    "        plt.clf()\n",
    "        \n",
    "    #dataframe.astype(np.float).round(2).to_csv(path_or_buf=output_filename, index_label=\"Phonemes\")\n",
    "    dataframe = dataframe.astype(np.float)\n",
    "    dataframe = dataframe.sort_values(by=['n_total'])\n",
    "    dataframe.round(2).to_csv(path_or_buf=output_filename_2, index_label=\"Phonemes\")\n",
    "    #dataframe.astype(np.float).round(2).to_csv(path_or_buf=output_filename_2, index_label=\"Phonemes\")\n",
    "        \n",
    "    "
   ]
  },
  {
   "cell_type": "markdown",
   "metadata": {},
   "source": [
    "## Recuperar el baseline"
   ]
  },
  {
   "cell_type": "code",
   "execution_count": 86,
   "metadata": {
    "collapsed": true
   },
   "outputs": [],
   "source": [
    "main(3, [0.00001, 0.0001] + alpha_values_base, [\"0.00001\", \"0.0001\"] + alpha_values_str)"
   ]
  },
  {
   "cell_type": "code",
   "execution_count": 87,
   "metadata": {
    "collapsed": true
   },
   "outputs": [],
   "source": [
    "main(4, [0.00001, 0.0001] + alpha_values_base, [\"0.00001\", \"0.0001\"] + alpha_values_str)"
   ]
  },
  {
   "cell_type": "code",
   "execution_count": 88,
   "metadata": {
    "collapsed": true
   },
   "outputs": [],
   "source": [
    "main(5, [0.00001, 0.0001] + alpha_values_base, [\"0.00001\", \"0.0001\"] + alpha_values_str)"
   ]
  },
  {
   "cell_type": "code",
   "execution_count": 89,
   "metadata": {
    "collapsed": true
   },
   "outputs": [],
   "source": [
    "main(6, [0.00001, 0.0001] + alpha_values_base, [\"0.00001\", \"0.0001\"] + alpha_values_str)"
   ]
  },
  {
   "cell_type": "markdown",
   "metadata": {},
   "source": [
    "# Step by step"
   ]
  },
  {
   "cell_type": "code",
   "execution_count": 119,
   "metadata": {
    "collapsed": true
   },
   "outputs": [],
   "source": [
    "def anotate(plt, xs, ys, delta, baseline):\n",
    "    text = \"Delta: \" + \"%.2f\" % delta\n",
    "    min_value = np.min(np.array(ys))\n",
    "    min_index = list(ys).index(min_value)\n",
    "    if delta > 0:\n",
    "        ymin = baseline\n",
    "        ymax = min_value\n",
    "    else:\n",
    "        ymin = min_value\n",
    "        ymax = baseline\n",
    "    plt.plot([xs[min_index], xs[min_index]], [ymin, ymax], color=\"red\", linestyle=\":\")\n",
    "    plt.annotate(text, xy=(xs[1], np.sort(ys)[-2]))"
   ]
  },
  {
   "cell_type": "code",
   "execution_count": 120,
   "metadata": {},
   "outputs": [
    {
     "data": {
      "image/png": "[encoded data removed]",
      "text/plain": [
       "<matplotlib.figure.Figure at 0x10df83e10>"
      ]
     },
     "metadata": {},
     "output_type": "display_data"
    }
   ],
   "source": [
    "degree = 3\n",
    "alpha_values = alpha_values_base\n",
    "degree_str = \"degree_\" + str(degree)\n",
    "base_dir = \"/Users/lmatayoshi/Documents/Projects/tesis_notebooks/experiments/eer_main/\" + degree_str + \"/\"\n",
    "\n",
    "#alpha_values_str = [str(a) for a in alpha_values]\n",
    "results = []\n",
    "\n",
    "for alpha in alpha_values_str:\n",
    "    with open(base_dir + alpha, \"r\") as f:\n",
    "        result = f.read()\n",
    "    result = result.split(\"\\n\")\n",
    "    result = [l.split(\": \") for l in result]\n",
    "    result = [r for r in result if len(r) == 2]\n",
    "    if len(result) != 28:\n",
    "        raise Exception(\"Phonemes are not complete\")\n",
    "    results.append(result)\n",
    "\n",
    "base_matrix = np.array(results[0])\n",
    "\n",
    "for i in range(1, len(results)):\n",
    "    new_column = np.array(results[i])[:, 1].reshape(-1,1)\n",
    "    base_matrix = np.hstack((base_matrix, new_column))\n",
    "\n",
    "phonemes = base_matrix[:, 0]\n",
    "dataframe = pd.DataFrame(base_matrix[:, 1:], index=phonemes, columns=alpha_values)\n",
    "#output_base_dir = \"/Users/lmatayoshi/pronunciation-scoring/spanish_adults/experiments_legendre/output/exp1/default/\"\n",
    "output_base_dir_2 = \"/Users/lmatayoshi/Documents/Projects/tesis_notebooks/experiments/\"\n",
    "#output_filename = output_base_dir + \"csvs/\" + degree_str\n",
    "output_filename_2 = output_base_dir_2 + \"csvs/\" + degree_str + \".csv\"\n",
    "\n",
    "plots_base_dir = output_base_dir_2 + \"plots/\"\n",
    "plots_dir = plots_base_dir + degree_str + \"/\"\n",
    "\n",
    "try:\n",
    "    os.makedirs(plots_dir)\n",
    "except OSError as exception:\n",
    "    \"\"\n",
    "\n",
    "for index, row in dataframe.iterrows():  \n",
    "    if index == \"rr\":\n",
    "        plt.clf()\n",
    "        xs = row.index\n",
    "        ys = np.array(row).astype(np.float)\n",
    "        plt.semilogx(list(row.index), list(ys))\n",
    "        ##\n",
    "        delta = (np.min(ys) - baseline[degree][index]) / baseline[degree][index]\n",
    "        ##\n",
    "        plt.axhline(y=baseline[degree][index], linestyle=\"--\", color=\"black\")\n",
    "        title = \"Grado \" + str(degree) + \". Phoneme: \"+ index + \". Positives: \" + str(positives_dict[index]) + \", Negatives: \" + str(negatives_dict[index])\n",
    "        plt.title(title)\n",
    "        \n",
    "        ##\n",
    "        anotate(plt, xs, ys, delta, baseline[degree][index])\n",
    "        ##\n",
    "        \n",
    "        ##\n",
    "        ##draw_distance(plt, xs, ys)\n",
    "        ##\n",
    "        if index in ['g', 'y', 'd', 'b', 'n']:\n",
    "            index = index + \"_lowercase\"\n",
    "        filename = plots_dir + index\n",
    "        plt.savefig(filename)\n",
    "        plt.show()"
   ]
  },
  {
   "cell_type": "markdown",
   "metadata": {},
   "source": [
    "# DataFrame"
   ]
  },
  {
   "cell_type": "code",
   "execution_count": 333,
   "metadata": {
    "collapsed": true
   },
   "outputs": [],
   "source": [
    "phonemes = base_matrix[:, 0]\n",
    "dataframe = pd.DataFrame(base_matrix[:, 1:], index=phonemes, columns=alpha_values)\n",
    "output_base_dir = \"/Users/lmatayoshi/pronunciation-scoring/spanish_adults/experiments_legendre/output/exp1/default/\"\n",
    "output_base_dir_2 = \"/Users/lmatayoshi/Documents/Projects/tesis_notebooks/experiments/\"\n",
    "output_filename = output_base_dir + \"csvs/\" + degree_str\n",
    "output_filename_2 = output_base_dir_2 + \"csvs/\" + degree_str + \".csv\"\n",
    "##"
   ]
  },
  {
   "cell_type": "markdown",
   "metadata": {},
   "source": [
    "## Plots"
   ]
  },
  {
   "cell_type": "code",
   "execution_count": 334,
   "metadata": {
    "collapsed": true
   },
   "outputs": [],
   "source": [
    "plots_base_dir = output_base_dir_2 + \"plots/\"\n",
    "plots_dir = plots_base_dir + degree_str + \"/\"\n",
    "try:\n",
    "\tos.makedirs(plots_dir)\n",
    "except OSError as exception:\n",
    "\tif exception.errno != errno.EEXIST:\n",
    "\t\traise"
   ]
  },
  {
   "cell_type": "code",
   "execution_count": 335,
   "metadata": {
    "collapsed": true
   },
   "outputs": [],
   "source": [
    "for index, row in dataframe.iterrows():  \n",
    "    plt.semilogx(list(row.index), list(np.array(row).astype(np.float)))\n",
    "    plt.axhline(y=baseline[degree][index], linestyle=\"--\", color=\"black\")\n",
    "    title = \"Grado \" + str(degree) + \". Phoneme: \"+ index + \". Positives: \" + str(positives_dict[index]) + \", Negatives: \" + str(negatives_dict[index])\n",
    "    plt.title(title)\n",
    "    if index in ['g', 'y', 'd', 'b', 'n']:\n",
    "        index = index + \"_lowercase\"\n",
    "    filename = plots_dir + index\n",
    "    plt.savefig(filename)\n",
    "    plt.clf()"
   ]
  },
  {
   "cell_type": "markdown",
   "metadata": {},
   "source": [
    "## CSV"
   ]
  },
  {
   "cell_type": "code",
   "execution_count": 127,
   "metadata": {},
   "outputs": [
    {
     "ename": "NameError",
     "evalue": "name 'output_filename' is not defined",
     "output_type": "error",
     "traceback": [
      "\u001b[0;31m---------------------------------------------------------------------------\u001b[0m",
      "\u001b[0;31mNameError\u001b[0m                                 Traceback (most recent call last)",
      "\u001b[0;32m<ipython-input-127-d0776792e9cf>\u001b[0m in \u001b[0;36m<module>\u001b[0;34m()\u001b[0m\n\u001b[0;32m----> 1\u001b[0;31m \u001b[0mdataframe\u001b[0m\u001b[0;34m.\u001b[0m\u001b[0mastype\u001b[0m\u001b[0;34m(\u001b[0m\u001b[0mnp\u001b[0m\u001b[0;34m.\u001b[0m\u001b[0mfloat\u001b[0m\u001b[0;34m)\u001b[0m\u001b[0;34m.\u001b[0m\u001b[0mround\u001b[0m\u001b[0;34m(\u001b[0m\u001b[0;36m2\u001b[0m\u001b[0;34m)\u001b[0m\u001b[0;34m.\u001b[0m\u001b[0mto_csv\u001b[0m\u001b[0;34m(\u001b[0m\u001b[0mpath_or_buf\u001b[0m\u001b[0;34m=\u001b[0m\u001b[0moutput_filename\u001b[0m\u001b[0;34m,\u001b[0m \u001b[0mindex_label\u001b[0m\u001b[0;34m=\u001b[0m\u001b[0;34m\"Phonemes\"\u001b[0m\u001b[0;34m)\u001b[0m\u001b[0;34m\u001b[0m\u001b[0m\n\u001b[0m\u001b[1;32m      2\u001b[0m \u001b[0mdataframe\u001b[0m\u001b[0;34m.\u001b[0m\u001b[0mastype\u001b[0m\u001b[0;34m(\u001b[0m\u001b[0mnp\u001b[0m\u001b[0;34m.\u001b[0m\u001b[0mfloat\u001b[0m\u001b[0;34m)\u001b[0m\u001b[0;34m.\u001b[0m\u001b[0mround\u001b[0m\u001b[0;34m(\u001b[0m\u001b[0;36m2\u001b[0m\u001b[0;34m)\u001b[0m\u001b[0;34m.\u001b[0m\u001b[0mto_csv\u001b[0m\u001b[0;34m(\u001b[0m\u001b[0mpath_or_buf\u001b[0m\u001b[0;34m=\u001b[0m\u001b[0moutput_filename_2\u001b[0m\u001b[0;34m,\u001b[0m \u001b[0mindex_label\u001b[0m\u001b[0;34m=\u001b[0m\u001b[0;34m\"Phonemes\"\u001b[0m\u001b[0;34m)\u001b[0m\u001b[0;34m\u001b[0m\u001b[0m\n",
      "\u001b[0;31mNameError\u001b[0m: name 'output_filename' is not defined"
     ]
    }
   ],
   "source": [
    "dataframe.astype(np.float).round(2).to_csv(path_or_buf=output_filename, index_label=\"Phonemes\")\n",
    "dataframe.astype(np.float).round(2).to_csv(path_or_buf=output_filename_2, index_label=\"Phonemes\")"
   ]
  },
  {
   "cell_type": "markdown",
   "metadata": {},
   "source": [
    "## Baseline"
   ]
  },
  {
   "cell_type": "code",
   "execution_count": 208,
   "metadata": {
    "collapsed": true
   },
   "outputs": [],
   "source": [
    "degrees = [3, 4, 5, 6]\n",
    "baseline_dir = \"/Users/lmatayoshi/Documents/Projects/tesis_notebooks/experiments/ols_vs_numpy/Baselines/\"\n",
    "baselines_dicc = {}"
   ]
  },
  {
   "cell_type": "code",
   "execution_count": 209,
   "metadata": {
    "collapsed": true
   },
   "outputs": [],
   "source": [
    "for degree in degrees:\n",
    "    degree_str = \"degree_\" + str(degree)\n",
    "    baseline_filename = baseline_dir + degree_str\n",
    "    with open(baseline_filename, \"rb\") as f:\n",
    "        baselines = cPickle.load(f)\n",
    "    baselines_dicc[degree] = baselines"
   ]
  },
  {
   "cell_type": "code",
   "execution_count": 220,
   "metadata": {},
   "outputs": [
    {
     "data": {
      "text/plain": [
       "['baseline_ols', 'baseline_numpy_legendre']"
      ]
     },
     "execution_count": 220,
     "metadata": {},
     "output_type": "execute_result"
    }
   ],
   "source": [
    "baselines_dicc[3].keys()"
   ]
  },
  {
   "cell_type": "markdown",
   "metadata": {
    "collapsed": true
   },
   "source": [
    "# N_instances"
   ]
  },
  {
   "cell_type": "code",
   "execution_count": 29,
   "metadata": {
    "collapsed": true
   },
   "outputs": [],
   "source": [
    "phonemes = [\n",
    "    \"Y\",\n",
    "    \"f\",\n",
    "    \"c\",\n",
    "    \"x\",\n",
    "    \"G\",\n",
    "    \"d\",\n",
    "    \"b\",\n",
    "    \"g\",\n",
    "    \"z\",\n",
    "    \"w\",\n",
    "    \"N\",\n",
    "    \"B\",\n",
    "    \"rr\",\n",
    "    \"u\",\n",
    "    \"p\",\n",
    "    \"D\",\n",
    "    \"y\",\n",
    "    \"k\",\n",
    "    \"m\",\n",
    "    \"t\",\n",
    "    \"l\",\n",
    "    \"i\",\n",
    "    \"r\",\n",
    "    \"n\",\n",
    "    \"s\",\n",
    "    \"o\",\n",
    "    \"a\",\n",
    "    \"e\"\n",
    "]"
   ]
  },
  {
   "cell_type": "code",
   "execution_count": 30,
   "metadata": {
    "collapsed": true
   },
   "outputs": [],
   "source": [
    "positives_dict = dict(zip(phonemes, positive_values))\n",
    "negatives_dict = dict(zip(phonemes, negative_values))"
   ]
  },
  {
   "cell_type": "code",
   "execution_count": 32,
   "metadata": {
    "collapsed": true
   },
   "outputs": [],
   "source": [
    "positive_values = [\n",
    "    53,\n",
    "    682,\n",
    "    405,\n",
    "    590,\n",
    "    222,\n",
    "    773,\n",
    "    528,\n",
    "    887,\n",
    "    189,\n",
    "    743,\n",
    "    911,\n",
    "    428,\n",
    "    491,\n",
    "    1948,\n",
    "    1657,\n",
    "    920,\n",
    "    2453,\n",
    "    1708,\n",
    "    3234,\n",
    "    2938,\n",
    "    3505,\n",
    "    4929,\n",
    "    3650,\n",
    "    7152,\n",
    "    7555,\n",
    "    8040,\n",
    "    10144,\n",
    "    10597\n",
    "]"
   ]
  },
  {
   "cell_type": "code",
   "execution_count": 33,
   "metadata": {
    "collapsed": true
   },
   "outputs": [],
   "source": [
    "negative_values = [\n",
    "    10,\n",
    "    10,\n",
    "    105,\n",
    "    153,\n",
    "    643,\n",
    "    89,\n",
    "    395,\n",
    "    114,\n",
    "    997,\n",
    "    500,\n",
    "    443,\n",
    "    1169,\n",
    "    1739,\n",
    "    482,\n",
    "    1055,\n",
    "    2009,\n",
    "    574,\n",
    "    1472,\n",
    "    686,\n",
    "    1542,\n",
    "    1373,\n",
    "    1238,\n",
    "    2617,\n",
    "    476,\n",
    "    480,\n",
    "    2077,\n",
    "    2069,\n",
    "    3484\n",
    "]"
   ]
  },
  {
   "cell_type": "code",
   "execution_count": null,
   "metadata": {
    "collapsed": true
   },
   "outputs": [],
   "source": [
    "positives_dict = dict(zip(phonemes, positive_values))\n",
    "negatives_dict = dict(zip(phonemes, negative_values))"
   ]
  },
  {
   "cell_type": "markdown",
   "metadata": {},
   "source": [
    "## Loading baselines"
   ]
  },
  {
   "cell_type": "code",
   "execution_count": 251,
   "metadata": {},
   "outputs": [
    {
     "data": {
      "text/plain": [
       "{'baseline_numpy_legendre': {'B': 0.22365628405900001,\n",
       "  'D': 0.239130434783,\n",
       "  'G': 0.22083981337299999,\n",
       "  'N': 0.21218961625300001,\n",
       "  'Y': 0.33628318584099998,\n",
       "  'a': 0.35498817034699998,\n",
       "  'b': 0.18734177215100001,\n",
       "  'c': 0.38271604938199999,\n",
       "  'd': 0.39325842696500002,\n",
       "  'e': 0.39732422430999997,\n",
       "  'f': 0.30000000000100002,\n",
       "  'g': 0.28736629083600002,\n",
       "  'i': 0.25928917609000002,\n",
       "  'k': 0.345788043479,\n",
       "  'l': 0.27829345141799999,\n",
       "  'm': 0.15510204081599999,\n",
       "  'n': 0.42002237136499998,\n",
       "  'o': 0.39440298507499999,\n",
       "  'p': 0.30899215449599998,\n",
       "  'r': 0.34388723615200001,\n",
       "  'rr': 0.33467510063299999,\n",
       "  's': 0.31249999999900002,\n",
       "  't': 0.304969366917,\n",
       "  'u': 0.36004714201600002,\n",
       "  'w': 0.16150740242200001,\n",
       "  'x': 0.18954248366099999,\n",
       "  'y': 0.31533101045400003,\n",
       "  'z': 0.247743229688},\n",
       " 'baseline_ols': {'B': 0.224299065421,\n",
       "  'D': 0.240915878546,\n",
       "  'G': 0.23328149300000001,\n",
       "  'N': 0.21295279912199999,\n",
       "  'Y': 0.33628318584099998,\n",
       "  'a': 0.36039266936100001,\n",
       "  'b': 0.18939393939400001,\n",
       "  'c': 0.39196787148599999,\n",
       "  'd': 0.404494382022,\n",
       "  'e': 0.40190619986800002,\n",
       "  'f': 0.29999999999999999,\n",
       "  'g': 0.27623318385700002,\n",
       "  'i': 0.253965392934,\n",
       "  'k': 0.34830176355300002,\n",
       "  'l': 0.27749453750899999,\n",
       "  'm': 0.15549802010399999,\n",
       "  'n': 0.430672268907,\n",
       "  'o': 0.39672604718400001,\n",
       "  'p': 0.30972302365799997,\n",
       "  'r': 0.33970194879799998,\n",
       "  'rr': 0.32733949601099999,\n",
       "  's': 0.30000000000100002,\n",
       "  't': 0.30190605854300001,\n",
       "  'u': 0.36099585062299999,\n",
       "  'w': 0.15599999999899999,\n",
       "  'x': 0.18954248365900001,\n",
       "  'y': 0.32042397064799999,\n",
       "  'z': 0.249749247743}}"
      ]
     },
     "execution_count": 251,
     "metadata": {},
     "output_type": "execute_result"
    }
   ],
   "source": [
    "degree_str = \"degree_\" + str(3)\n",
    "baseline_dir = \"/Users/lmatayoshi/Documents/Projects/tesis_notebooks/experiments/ols_vs_numpy/Baselines/\"\n",
    "baseline_filename = baseline_dir + degree_str\n",
    "with open(baseline_filename, \"rb\") as f:\n",
    "    baselines = cPickle.load(f)\n",
    "baselines"
   ]
  },
  {
   "cell_type": "markdown",
   "metadata": {},
   "source": [
    "## Drafts"
   ]
  },
  {
   "cell_type": "code",
   "execution_count": null,
   "metadata": {
    "collapsed": true
   },
   "outputs": [],
   "source": [
    "unsorted_phonemes = ['rr', 'B', 'D', 'G', 'N', 'Y', 'a', 'c', 'b', 'e', 'd', 'g', 'f', 'i', 'k', 'm', 'l', 'o', 'n', 'p', 's', 'r', 'u', 't', 'w', 'y', 'x', 'z']\n",
    "unsorted_phonemes = np.array(unsorted_phonemes)\n",
    "positives_unsorted_phonemes = [positives_dict[phoneme] for phoneme in unsorted_phonemes]\n",
    "negatives_unsorted_phonemes = [negatives_dict[phoneme] for phoneme in unsorted_phonemes]"
   ]
  }
 ],
 "metadata": {
  "kernelspec": {
   "display_name": "Python 2",
   "language": "python",
   "name": "python2"
  },
  "language_info": {
   "codemirror_mode": {
    "name": "ipython",
    "version": 2
   },
   "file_extension": ".py",
   "mimetype": "text/x-python",
   "name": "python",
   "nbconvert_exporter": "python",
   "pygments_lexer": "ipython2",
   "version": "2.7.10"
  }
 },
 "nbformat": 4,
 "nbformat_minor": 2
}
