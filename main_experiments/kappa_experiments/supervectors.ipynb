{
 "cells": [
  {
   "cell_type": "code",
   "execution_count": 39,
   "metadata": {
    "collapsed": true
   },
   "outputs": [],
   "source": [
    "import numpy as np\n",
    "import pandas as pd"
   ]
  },
  {
   "cell_type": "code",
   "execution_count": 48,
   "metadata": {
    "collapsed": true
   },
   "outputs": [],
   "source": [
    "base_dir = \"/Users/lmatayoshi/Documents/Projects/tesis_notebooks/kappa_experiments/\"\n",
    "eers_filename = base_dir + \"supervectors_eers\"\n",
    "csv_filename = base_dir + \"supervectors.csv\""
   ]
  },
  {
   "cell_type": "code",
   "execution_count": 41,
   "metadata": {
    "collapsed": true
   },
   "outputs": [],
   "source": [
    "kappa_phonemes = ['G', 'b', 'w', 'B', 'D', 'm', 'i', 's']"
   ]
  },
  {
   "cell_type": "code",
   "execution_count": 42,
   "metadata": {
    "collapsed": true
   },
   "outputs": [],
   "source": [
    "def kappa_positives_negatives_dict():\n",
    "    phonemes = ['G', 'b', 'w', 'B', 'D', 'm', 'i', 's']\n",
    "    total_values = [865, 923, 1243, 1597, 2929, 3920, 6167, 8035]\n",
    "    total_dict = dict(zip(phonemes, total_values))\n",
    "    positives_values = [222, 528, 743, 428, 920, 3234, 4929, 7555]\n",
    "    positives_dict = dict(zip(phonemes, positives_values))\n",
    "    negatives_values = [643, 395, 500, 1169, 2009, 686, 1238, 480]\n",
    "    negatives_dict = dict(zip(phonemes, negatives_values))\n",
    "    return (total_dict, positives_dict, negatives_dict)"
   ]
  },
  {
   "cell_type": "code",
   "execution_count": 43,
   "metadata": {},
   "outputs": [],
   "source": [
    "with open(eers_filename, \"r\") as f:\n",
    "    lines = f.readlines()\n",
    "    eer_values = [lines[j].strip().split(\":\") for j in range(len(lines))]\n",
    "    eer_values = [value for value in eer_values if len(value) == 2]\n",
    "    eers_dict = dict(eer_values)"
   ]
  },
  {
   "cell_type": "code",
   "execution_count": 44,
   "metadata": {},
   "outputs": [],
   "source": [
    "kappa_total_dict, kappa_positives_dict, kappa_negatives_dict = kappa_positives_negatives_dict()\n",
    "kappa_total = np.array([kappa_total_dict[phoneme] for phoneme in kappa_phonemes]).reshape(-1,1)\n",
    "kappa_positives = np.array([kappa_positives_dict[phoneme] for phoneme in kappa_phonemes]).reshape(-1,1)\n",
    "kappa_negatives = np.array([kappa_negatives_dict[phoneme] for phoneme in kappa_phonemes]).reshape(-1,1)"
   ]
  },
  {
   "cell_type": "code",
   "execution_count": 45,
   "metadata": {
    "collapsed": true
   },
   "outputs": [],
   "source": [
    "base_matrix = np.array(kappa_phonemes).reshape(-1,1)"
   ]
  },
  {
   "cell_type": "code",
   "execution_count": 46,
   "metadata": {
    "collapsed": true
   },
   "outputs": [],
   "source": [
    "results_dict = eers_dict\n",
    "results = [float(results_dict[phoneme]) for phoneme in kappa_phonemes]\n",
    "results = np.array(results).reshape(-1,1)\n",
    "base_matrix = np.hstack((base_matrix, results))\n",
    "    \n",
    "base_matrix = np.hstack((base_matrix, kappa_positives))\n",
    "base_matrix = np.hstack((base_matrix, kappa_negatives))\n",
    "base_matrix = np.hstack((base_matrix, kappa_total))"
   ]
  },
  {
   "cell_type": "code",
   "execution_count": 49,
   "metadata": {},
   "outputs": [],
   "source": [
    "dataframe = pd.DataFrame(base_matrix[:, 1:], index=kappa_phonemes, columns=['best-config','corrects', 'incorrects', 'total'])\n",
    "dataframe = dataframe.astype(np.float)\n",
    "dataframe = dataframe.sort_values(by=['total'])\n",
    "dataframe.round(3).to_csv(path_or_buf=csv_filename, index_label=\"Phonemes\")"
   ]
  },
  {
   "cell_type": "code",
   "execution_count": null,
   "metadata": {
    "collapsed": true
   },
   "outputs": [],
   "source": []
  }
 ],
 "metadata": {
  "kernelspec": {
   "display_name": "Python 2",
   "language": "python",
   "name": "python2"
  },
  "language_info": {
   "codemirror_mode": {
    "name": "ipython",
    "version": 2
   },
   "file_extension": ".py",
   "mimetype": "text/x-python",
   "name": "python",
   "nbconvert_exporter": "python",
   "pygments_lexer": "ipython2",
   "version": "2.7.10"
  }
 },
 "nbformat": 4,
 "nbformat_minor": 2
}
