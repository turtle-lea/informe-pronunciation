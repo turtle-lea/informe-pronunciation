{
 "cells": [
  {
   "cell_type": "code",
   "execution_count": 1,
   "metadata": {
    "collapsed": true
   },
   "outputs": [],
   "source": [
    "import pandas as pd\n",
    "import numpy as np\n",
    "import matplotlib.pyplot as plt\n",
    "import seaborn\n",
    "import os\n",
    "import cPickle\n",
    "import errno"
   ]
  },
  {
   "cell_type": "code",
   "execution_count": 1,
   "metadata": {
    "collapsed": true
   },
   "outputs": [],
   "source": [
    "def heldout_positives_negatives_dict():\n",
    "    phonemes = [ \"Y\", \"f\", \"c\", \"x\", \"G\", \"d\", \"b\", \"g\", \"z\", \"w\", \"N\", \"B\", \"rr\", \"u\", \"p\", \"D\", \"y\", \"k\", \"m\", \"t\", \"l\", \"i\", \"r\", \"n\", \"s\", \"o\", \"a\", \"e\"]\n",
    "    positive_values = [ 9, 172, 89, 137, 37, 176, 115, 226, 29, 148, 205, 84, 107, 436, 332, 222, 559, 326, 677, 623, 744, 1094, 811, 1594, 1683, 1725, 2305, 2314]\n",
    "    negative_values = [1, 4, 38, 37, 149, 16, 91, 27, 220, 106, 112, 299, 391, 125, 261, 473, 143, 417, 168, 376, 362, 277, 597, 118, 115, 555, 479, 826]\n",
    "    total_values = [positive_values[i] + negative_values[i] for i in range(len(positive_values))]\n",
    "    total_instances = np.float(sum(total_values))\n",
    "    weighted_values = [v/total_instances for v in total_values]\n",
    "    positives_dict = dict(zip(phonemes, positive_values))\n",
    "    negatives_dict = dict(zip(phonemes, negative_values))\n",
    "    total_dict = dict(zip(phonemes, total_values))\n",
    "    weighted_dict = dict(zip(phonemes, weighted_values))\n",
    "    return (total_dict, weighted_dict, positives_dict, negatives_dict)"
   ]
  },
  {
   "cell_type": "code",
   "execution_count": 24,
   "metadata": {
    "collapsed": true
   },
   "outputs": [],
   "source": [
    "def load_kappa_dict():\n",
    "    total_dict, weighted_dict, positives_dict, negatives_dict = load_positives_negatives_dict()\n",
    "    kappa_phonemes = [\"D\", \"b\", \"w\", \"B\", \"m\", \"i\", \"s\"]\n",
    "    kappa_positives_dict = {}\n",
    "    kappa_negatives_dict = {}\n",
    "    kappa_total_dict = {}\n",
    "    kappa_weighted_dict = {}\n",
    "    for phoneme in kappa_phonemes:\n",
    "        kappa_positives_dict[phoneme] = positives_dict[phoneme]\n",
    "        kappa_negatives_dict[phoneme] = negatives_dict[phoneme]\n",
    "        kappa_total_dict[phoneme] = total_dict[phoneme]\n",
    "    total_kappa_instances = float(sum(kappa_total_dict.values()))\n",
    "    for phoneme in kappa_phonemes:\n",
    "        kappa_weighted_dict[phoneme] = kappa_total_dict[phoneme] / total_kappa_instances\n",
    "    return kappa_total_dict, kappa_weighted_dict, kappa_positives_dict, kappa_negatives_dict\n",
    "    "
   ]
  },
  {
   "cell_type": "code",
   "execution_count": 9,
   "metadata": {
    "collapsed": true
   },
   "outputs": [],
   "source": [
    "def compute_weighted_average(eer_dict, weighted_dict):\n",
    "    weighted_average = 0\n",
    "    for key, value in eer_dict.iteritems():\n",
    "        weighted_average += eer_dict[key] * weighted_dict[key]\n",
    "    return weighted_average"
   ]
  },
  {
   "cell_type": "markdown",
   "metadata": {},
   "source": [
    "# Common"
   ]
  },
  {
   "cell_type": "markdown",
   "metadata": {},
   "source": [
    "## All phonemes"
   ]
  },
  {
   "cell_type": "code",
   "execution_count": null,
   "metadata": {
    "collapsed": true
   },
   "outputs": [],
   "source": [
    "total_dict, weighted_dict, positives_dict, negatives_dict = heldout_positives_negatives_dict()"
   ]
  },
  {
   "cell_type": "code",
   "execution_count": 31,
   "metadata": {
    "collapsed": true
   },
   "outputs": [],
   "source": [
    "total_dict, weighted_dict, positives_dict, negatives_dict = load_positives_negatives_dict()"
   ]
  },
  {
   "cell_type": "code",
   "execution_count": 32,
   "metadata": {
    "collapsed": true
   },
   "outputs": [],
   "source": [
    "phonemes = [ \"Y\", \"f\", \"c\", \"x\", \"G\", \"d\", \"b\", \"g\", \"z\", \"w\", \"N\", \"B\", \"rr\", \"u\", \"p\", \"D\", \"y\", \"k\", \"m\", \"t\", \"l\", \"i\", \"r\", \"n\", \"s\", \"o\", \"a\", \"e\"]"
   ]
  },
  {
   "cell_type": "markdown",
   "metadata": {},
   "source": [
    "## Kappa phonemes"
   ]
  },
  {
   "cell_type": "code",
   "execution_count": 33,
   "metadata": {
    "collapsed": true
   },
   "outputs": [],
   "source": [
    "kappa_total_dict, kappa_weighted_dict, kappa_positives_dict, kappa_negatives_dict = load_kappa_dict()"
   ]
  },
  {
   "cell_type": "code",
   "execution_count": 34,
   "metadata": {
    "collapsed": true
   },
   "outputs": [],
   "source": [
    "kappa_phonemes = [\"D\", \"b\", \"w\", \"B\", \"m\", \"i\", \"s\"]"
   ]
  },
  {
   "cell_type": "markdown",
   "metadata": {},
   "source": [
    "# Baseline supervectors"
   ]
  },
  {
   "cell_type": "markdown",
   "metadata": {},
   "source": [
    "## All phonemes"
   ]
  },
  {
   "cell_type": "code",
   "execution_count": 44,
   "metadata": {},
   "outputs": [
    {
     "data": {
      "text/plain": [
       "0.3253163396086696"
      ]
     },
     "execution_count": 44,
     "metadata": {},
     "output_type": "execute_result"
    }
   ],
   "source": [
    "eers_baselines = [0.384, 0.384, 0.44, 0.164, 0.162, 0.364, 0.122, 0.234, 0.222, 0.151, 0.217, 0.206, 0.324, 0.354, 0.295, 0.182, 0.338, 0.341, 0.154, 0.295, 0.279, 0.254, 0.317, 0.424, 0.319, 0.408, 0.355, 0.4]\n",
    "baseline_eer_dict = dict(zip(phonemes, eers_baselines))\n",
    "compute_weighted_average(baseline_eer_dict, weighted_dict)"
   ]
  },
  {
   "cell_type": "markdown",
   "metadata": {},
   "source": [
    "## Kappa phonemes"
   ]
  },
  {
   "cell_type": "code",
   "execution_count": 52,
   "metadata": {},
   "outputs": [
    {
     "data": {
      "text/plain": [
       "0.23759256871121143"
      ]
     },
     "execution_count": 52,
     "metadata": {},
     "output_type": "execute_result"
    }
   ],
   "source": [
    "kappa_eers_baselines = [0.182, 0.122, 0.151, 0.206, 0.154, 0.254, 0.319]\n",
    "kappa_eers_baselines_dict = dict(zip(kappa_phonemes, kappa_eers_baselines))\n",
    "kappa_baseline_weighted_average = compute_weighted_average(kappa_eers_baselines_dict, kappa_weighted_dict)\n",
    "kappa_baseline_weighted_average"
   ]
  },
  {
   "cell_type": "markdown",
   "metadata": {},
   "source": [
    "# Mix Legendre"
   ]
  },
  {
   "cell_type": "markdown",
   "metadata": {},
   "source": [
    "## All phonemes"
   ]
  },
  {
   "cell_type": "code",
   "execution_count": 45,
   "metadata": {},
   "outputs": [
    {
     "data": {
      "text/plain": [
       "0.31902407602555705"
      ]
     },
     "execution_count": 45,
     "metadata": {},
     "output_type": "execute_result"
    }
   ],
   "source": [
    "eers_mix_legendre = [0.384, 0.342, 0.445, 0.161, 0.165, 0.351, 0.125, 0.246, 0.217, 0.155, 0.21, 0.2, 0.318, 0.358, 0.293, 0.18, 0.316, 0.334, 0.145, 0.292, 0.274, 0.254, 0.313, 0.418, 0.297, 0.401, 0.354, 0.392]\n",
    "eer_mix_legendre_dict = dict(zip(phonemes, eers_mix_legendre))\n",
    "compute_weighted_average(eer_mix_legendre_dict, weighted_dict)"
   ]
  },
  {
   "cell_type": "markdown",
   "metadata": {},
   "source": [
    "## Kappa phonemes"
   ]
  },
  {
   "cell_type": "code",
   "execution_count": 53,
   "metadata": {},
   "outputs": [
    {
     "data": {
      "text/plain": [
       "0.22873672120577096"
      ]
     },
     "execution_count": 53,
     "metadata": {},
     "output_type": "execute_result"
    }
   ],
   "source": [
    "kappa_eers_mix_legendre = [0.18, 0.125, 0.155, 0.2, 0.145, 0.254, 0.297]\n",
    "kappa_mix_legendre_dict = dict(zip(kappa_phonemes, kappa_eers_mix_legendre))\n",
    "kappa_mix_legendre_weighted_average = compute_weighted_average(kappa_mix_legendre_dict, kappa_weighted_dict)\n",
    "kappa_mix_legendre_weighted_average"
   ]
  },
  {
   "cell_type": "code",
   "execution_count": 54,
   "metadata": {},
   "outputs": [
    {
     "data": {
      "text/plain": [
       "-0.037273251236256286"
      ]
     },
     "execution_count": 54,
     "metadata": {},
     "output_type": "execute_result"
    }
   ],
   "source": [
    "(kappa_mix_legendre_weighted_average - kappa_baseline_weighted_average)/kappa_baseline_weighted_average"
   ]
  },
  {
   "cell_type": "markdown",
   "metadata": {},
   "source": [
    "# Mix DCT"
   ]
  },
  {
   "cell_type": "markdown",
   "metadata": {},
   "source": [
    "## All phonemes"
   ]
  },
  {
   "cell_type": "code",
   "execution_count": 47,
   "metadata": {},
   "outputs": [
    {
     "data": {
      "text/plain": [
       "0.31514028841863423"
      ]
     },
     "execution_count": 47,
     "metadata": {},
     "output_type": "execute_result"
    }
   ],
   "source": [
    "eers_mix_dct = [0.447, 0.3, 0.457, 0.161, 0.174, 0.37, 0.127, 0.239, 0.22, 0.15, 0.205, 0.202, 0.306, 0.349, 0.299, 0.183, 0.306, 0.332, 0.141, 0.289, 0.268, 0.252, 0.312, 0.413, 0.283, 0.399, 0.352, 0.387]\n",
    "eer_mix_dct_dict = dict(zip(phonemes, eers_mix_dct))\n",
    "compute_weighted_average(eer_mix_dct_dict, weighted_dict)"
   ]
  },
  {
   "cell_type": "markdown",
   "metadata": {},
   "source": [
    "## Kappa phonemes"
   ]
  },
  {
   "cell_type": "code",
   "execution_count": 58,
   "metadata": {},
   "outputs": [
    {
     "data": {
      "text/plain": [
       "0.22338119609897636"
      ]
     },
     "execution_count": 58,
     "metadata": {},
     "output_type": "execute_result"
    }
   ],
   "source": [
    "kappa_eers_mix_dct = [0.183, 0.127, 0.15, 0.202, 0.141, 0.252, 0.283]\n",
    "kappa_mix_dct_dict = dict(zip(kappa_phonemes, kappa_eers_mix_dct))\n",
    "kappa_mix_dct_weighted_average = compute_weighted_average(kappa_mix_dct_dict, kappa_weighted_dict)\n",
    "kappa_mix_dct_weighted_average"
   ]
  },
  {
   "cell_type": "code",
   "execution_count": null,
   "metadata": {
    "collapsed": true
   },
   "outputs": [],
   "source": []
  }
 ],
 "metadata": {
  "kernelspec": {
   "display_name": "Python 2",
   "language": "python",
   "name": "python2"
  },
  "language_info": {
   "codemirror_mode": {
    "name": "ipython",
    "version": 2
   },
   "file_extension": ".py",
   "mimetype": "text/x-python",
   "name": "python",
   "nbconvert_exporter": "python",
   "pygments_lexer": "ipython2",
   "version": "2.7.10"
  }
 },
 "nbformat": 4,
 "nbformat_minor": 2
}
