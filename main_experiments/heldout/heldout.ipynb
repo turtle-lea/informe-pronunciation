{
 "cells": [
  {
   "cell_type": "code",
   "execution_count": 15,
   "metadata": {
    "collapsed": true
   },
   "outputs": [],
   "source": [
    "import pandas as pd\n",
    "import numpy as np\n",
    "import matplotlib.pyplot as plt\n",
    "import seaborn\n",
    "import os\n",
    "import cPickle\n",
    "import errno"
   ]
  },
  {
   "cell_type": "markdown",
   "metadata": {},
   "source": [
    "# Heldout"
   ]
  },
  {
   "cell_type": "code",
   "execution_count": 16,
   "metadata": {
    "collapsed": true
   },
   "outputs": [],
   "source": [
    "def heldout_positives_negatives_dict():\n",
    "    phonemes = [ \"Y\", \"f\", \"c\", \"x\", \"G\", \"d\", \"b\", \"g\", \"z\", \"w\", \"N\", \"B\", \"rr\", \"u\", \"p\", \"D\", \"y\", \"k\", \"m\", \"t\", \"l\", \"i\", \"r\", \"n\", \"s\", \"o\", \"a\", \"e\"]\n",
    "    positive_values = [ 9, 172, 89, 137, 37, 176, 115, 226, 29, 148, 205, 84, 107, 436, 332, 222, 559, 326, 677, 623, 744, 1094, 811, 1594, 1683, 1725, 2305, 2314]\n",
    "    negative_values = [1, 4, 38, 37, 149, 16, 91, 27, 220, 106, 112, 299, 391, 125, 261, 473, 143, 417, 168, 376, 362, 277, 597, 118, 115, 555, 479, 826]\n",
    "    total_values = [positive_values[i] + negative_values[i] for i in range(len(positive_values))]\n",
    "    total_instances = np.float(sum(total_values))\n",
    "    weighted_values = [v/total_instances for v in total_values]\n",
    "    positives_dict = dict(zip(phonemes, positive_values))\n",
    "    negatives_dict = dict(zip(phonemes, negative_values))\n",
    "    total_dict = dict(zip(phonemes, total_values))\n",
    "    weighted_dict = dict(zip(phonemes, weighted_values))\n",
    "    return (total_dict, weighted_dict, positives_dict, negatives_dict)"
   ]
  },
  {
   "cell_type": "code",
   "execution_count": 22,
   "metadata": {
    "collapsed": true
   },
   "outputs": [],
   "source": [
    "def load_kappa_dict():\n",
    "    total_dict, weighted_dict, positives_dict, negatives_dict = heldout_positives_negatives_dict()\n",
    "    kappa_phonemes = [\"D\", \"b\", \"w\", \"B\", \"m\", \"i\", \"s\"]\n",
    "    kappa_positives_dict = {}\n",
    "    kappa_negatives_dict = {}\n",
    "    kappa_total_dict = {}\n",
    "    kappa_weighted_dict = {}\n",
    "    for phoneme in kappa_phonemes:\n",
    "        kappa_positives_dict[phoneme] = positives_dict[phoneme]\n",
    "        kappa_negatives_dict[phoneme] = negatives_dict[phoneme]\n",
    "        kappa_total_dict[phoneme] = total_dict[phoneme]\n",
    "    total_kappa_instances = float(sum(kappa_total_dict.values()))\n",
    "    for phoneme in kappa_phonemes:\n",
    "        kappa_weighted_dict[phoneme] = kappa_total_dict[phoneme] / total_kappa_instances\n",
    "    return kappa_total_dict, kappa_weighted_dict, kappa_positives_dict, kappa_negatives_dict\n",
    "    "
   ]
  },
  {
   "cell_type": "code",
   "execution_count": 23,
   "metadata": {
    "collapsed": true
   },
   "outputs": [],
   "source": [
    "def compute_weighted_average(eer_dict, weighted_dict):\n",
    "    weighted_average = 0\n",
    "    for key, value in eer_dict.iteritems():\n",
    "        weighted_average += eer_dict[key] * weighted_dict[key]\n",
    "    return weighted_average"
   ]
  },
  {
   "cell_type": "markdown",
   "metadata": {},
   "source": [
    "## All phonemes"
   ]
  },
  {
   "cell_type": "code",
   "execution_count": 24,
   "metadata": {},
   "outputs": [],
   "source": [
    "total_dict, weighted_dict, positives_dict, negatives_dict = heldout_positives_negatives_dict()"
   ]
  },
  {
   "cell_type": "code",
   "execution_count": 25,
   "metadata": {
    "collapsed": true
   },
   "outputs": [],
   "source": [
    "phonemes = [ \"Y\", \"f\", \"c\", \"x\", \"G\", \"d\", \"b\", \"g\", \"z\", \"w\", \"N\", \"B\", \"rr\", \"u\", \"p\", \"D\", \"y\", \"k\", \"m\", \"t\", \"l\", \"i\", \"r\", \"n\", \"s\", \"o\", \"a\", \"e\"]"
   ]
  },
  {
   "cell_type": "markdown",
   "metadata": {},
   "source": [
    "## Kappa phonemes"
   ]
  },
  {
   "cell_type": "code",
   "execution_count": 29,
   "metadata": {},
   "outputs": [],
   "source": [
    "kappa_total_dict, kappa_weighted_dict, kappa_positives_dict, kappa_negatives_dict = load_kappa_dict()"
   ]
  },
  {
   "cell_type": "code",
   "execution_count": 30,
   "metadata": {
    "collapsed": true
   },
   "outputs": [],
   "source": [
    "kappa_phonemes = [\"D\", \"b\", \"w\", \"B\", \"m\", \"i\", \"s\"]"
   ]
  },
  {
   "cell_type": "markdown",
   "metadata": {},
   "source": [
    "# Baseline supervectors heldout"
   ]
  },
  {
   "cell_type": "markdown",
   "metadata": {},
   "source": [
    "### All phonemes"
   ]
  },
  {
   "cell_type": "code",
   "execution_count": 33,
   "metadata": {},
   "outputs": [
    {
     "data": {
      "text/plain": [
       "0.2041536991835704"
      ]
     },
     "execution_count": 33,
     "metadata": {},
     "output_type": "execute_result"
    }
   ],
   "source": [
    "eers_supervectorss = [0.889, 0.25, 0.112, 0.083, 0.168, 0.063, 0.077, 0.074, 0.114, 0.088, 0.146, 0.119, 0.187, 0.211, 0.209, 0.148, 0.238, 0.212, 0.131, 0.239, 0.207, 0.1552, 0.253, 0.153, 0.104, 0.266, 0.236, 0.295]\n",
    "supervectors_eer_dict = dict(zip(phonemes, eers_supervectorss))\n",
    "supervectors_weighted_average = compute_weighted_average(supervectors_eer_dict, weighted_dict)\n",
    "supervectors_weighted_average"
   ]
  },
  {
   "cell_type": "markdown",
   "metadata": {},
   "source": [
    "### Kappa phonemes"
   ]
  },
  {
   "cell_type": "code",
   "execution_count": 32,
   "metadata": {},
   "outputs": [
    {
     "data": {
      "text/plain": [
       "0.1255614553314121"
      ]
     },
     "execution_count": 32,
     "metadata": {},
     "output_type": "execute_result"
    }
   ],
   "source": [
    "kappa_eers_supervectors = [0.148, 0.077, 0.088, 0.119, 0.131, 0.1552, 0.104]\n",
    "kappa_eers_supervectors_dict = dict(zip(kappa_phonemes, kappa_eers_supervectors))\n",
    "kappa_supervectors_weighted_average = compute_weighted_average(kappa_eers_supervectors_dict, kappa_weighted_dict)\n",
    "kappa_supervectors_weighted_average"
   ]
  },
  {
   "cell_type": "markdown",
   "metadata": {},
   "source": [
    "# Legendre Heldout"
   ]
  },
  {
   "cell_type": "markdown",
   "metadata": {},
   "source": [
    "### All phonemes"
   ]
  },
  {
   "cell_type": "code",
   "execution_count": 37,
   "metadata": {},
   "outputs": [
    {
     "data": {
      "text/plain": [
       "0.29478903290968783"
      ]
     },
     "execution_count": 37,
     "metadata": {},
     "output_type": "execute_result"
    }
   ],
   "source": [
    "eers_legendre = [0.778, 0.25, 0.184, 0.139, 0.215, 0.188, 0.17, 0.146, 0.236, 0.101, 0.214, 0.171, 0.297, 0.281, 0.28, 0.203, 0.266, 0.297, 0.178, 0.307, 0.251, 0.216, 0.311, 0.337, 0.295, 0.366, 0.347, 0.364]\n",
    "eer_legendre_dict = dict(zip(phonemes, eers_legendre))\n",
    "legendre_weighted_average = compute_weighted_average(eer_legendre_dict, weighted_dict)\n",
    "legendre_weighted_average"
   ]
  },
  {
   "cell_type": "markdown",
   "metadata": {},
   "source": [
    "### Kappa phonemes"
   ]
  },
  {
   "cell_type": "code",
   "execution_count": 41,
   "metadata": {},
   "outputs": [
    {
     "data": {
      "text/plain": [
       "0.22410086455331413"
      ]
     },
     "execution_count": 41,
     "metadata": {},
     "output_type": "execute_result"
    }
   ],
   "source": [
    "kappa_eers_legendre = [0.203, 0.17, 0.101, 0.171, 0.178, 0.216, 0.295]\n",
    "kappa_legendre_dict = dict(zip(kappa_phonemes, kappa_eers_legendre))\n",
    "kappa_legendre_weighted_average = compute_weighted_average(kappa_legendre_dict, kappa_weighted_dict)\n",
    "kappa_legendre_weighted_average"
   ]
  },
  {
   "cell_type": "markdown",
   "metadata": {},
   "source": [
    "# DCT Heldout"
   ]
  },
  {
   "cell_type": "markdown",
   "metadata": {},
   "source": [
    "### All phonemes"
   ]
  },
  {
   "cell_type": "code",
   "execution_count": 49,
   "metadata": {},
   "outputs": [
    {
     "data": {
      "text/plain": [
       "0.2986774682265802"
      ]
     },
     "execution_count": 49,
     "metadata": {},
     "output_type": "execute_result"
    }
   ],
   "source": [
    "eers_dct = [1, 0.215, 0.236, 0.124, 0.242, 0.216, 0.16, 0.199, 0.227, 0.088, 0.205, 0.184, 0.29, 0.275, 0.283, 0.199, 0.268, 0.312, 0.153, 0.31, 0.249, 0.231, 0.319, 0.343, 0.301, 0.361, 0.344, 0.382]\n",
    "eer_dct_dict = dict(zip(phonemes, eers_dct))\n",
    "compute_weighted_average(eer_dct_dict, weighted_dict)"
   ]
  },
  {
   "cell_type": "markdown",
   "metadata": {},
   "source": [
    "### Kappa phonemes"
   ]
  },
  {
   "cell_type": "code",
   "execution_count": 50,
   "metadata": {},
   "outputs": [
    {
     "data": {
      "text/plain": [
       "0.225373378962536"
      ]
     },
     "execution_count": 50,
     "metadata": {},
     "output_type": "execute_result"
    }
   ],
   "source": [
    "kappa_eers_dct = [0.199, 0.16, 0.088, 0.184, 0.153, 0.231, 0.301]\n",
    "kappa_dct_dict = dict(zip(kappa_phonemes, kappa_eers_dct))\n",
    "kappa_dct_weighted_average = compute_weighted_average(kappa_dct_dict, kappa_weighted_dict)\n",
    "kappa_dct_weighted_average"
   ]
  },
  {
   "cell_type": "markdown",
   "metadata": {},
   "source": [
    "## Mix Legendre Heldout"
   ]
  },
  {
   "cell_type": "markdown",
   "metadata": {},
   "source": [
    "### All phonemes"
   ]
  },
  {
   "cell_type": "code",
   "execution_count": 53,
   "metadata": {},
   "outputs": [
    {
     "data": {
      "text/plain": [
       "0.22214821984681427"
      ]
     },
     "execution_count": 53,
     "metadata": {},
     "output_type": "execute_result"
    }
   ],
   "source": [
    "eers_mix_legendre = [0.889, 0.25, 0.105, 0.081, 0.174, 0.063, 0.103, 0.075, 0.136, 0.088, 0.147, 0.119, 0.199, 0.209, 0.232, 0.142, 0.233, 0.223, 0.137, 0.253, 0.222, 0.178, 0.263, 0.165, 0.1, 0.304, 0.281, 0.324]\n",
    "eer_mix_legendre_dict = dict(zip(phonemes, eers_mix_legendre))\n",
    "compute_weighted_average(eer_mix_legendre_dict, weighted_dict)"
   ]
  },
  {
   "cell_type": "markdown",
   "metadata": {},
   "source": [
    "### Heldout"
   ]
  },
  {
   "cell_type": "code",
   "execution_count": 55,
   "metadata": {},
   "outputs": [
    {
     "data": {
      "text/plain": [
       "0.13102305475504322"
      ]
     },
     "execution_count": 55,
     "metadata": {},
     "output_type": "execute_result"
    }
   ],
   "source": [
    "kappa_eers_mix_legendre = [0.142, 0.103, 0.088, 0.119, 0.137, 0.178, 0.1]\n",
    "kappa_mix_legendre_dict = dict(zip(kappa_phonemes, kappa_eers_mix_legendre))\n",
    "kappa_mix_legendre_weighted_average = compute_weighted_average(kappa_mix_legendre_dict, kappa_weighted_dict)\n",
    "kappa_mix_legendre_weighted_average"
   ]
  },
  {
   "cell_type": "markdown",
   "metadata": {},
   "source": [
    "## Mix DCT Heldout"
   ]
  },
  {
   "cell_type": "markdown",
   "metadata": {},
   "source": [
    "### All phonemes"
   ]
  },
  {
   "cell_type": "code",
   "execution_count": 57,
   "metadata": {
    "collapsed": true
   },
   "outputs": [],
   "source": [
    "eers_mix_dct = [0.889, 0.25, 0.126, 0.081, 0.174, 0.063, 0.087, 0.111, 0.109, 0.088, 0.145, 0.12, 0.224, 0.211, 0.234, 0.15, 0.256, 0.23, 0.137, 0.255, 0.219, 0.173, 0.271, 0.178, 0.117, 0.31, 0.29, 0.329]"
   ]
  },
  {
   "cell_type": "code",
   "execution_count": 58,
   "metadata": {
    "collapsed": true
   },
   "outputs": [],
   "source": [
    "eer_mix_dct_dict = dict(zip(phonemes, eers_mix_dct))"
   ]
  },
  {
   "cell_type": "code",
   "execution_count": 59,
   "metadata": {},
   "outputs": [
    {
     "data": {
      "text/plain": [
       "0.22860882922312933"
      ]
     },
     "execution_count": 59,
     "metadata": {},
     "output_type": "execute_result"
    }
   ],
   "source": [
    "compute_weighted_average(eer_mix_dct_dict, weighted_dict)"
   ]
  },
  {
   "cell_type": "markdown",
   "metadata": {},
   "source": [
    "### Heldout"
   ]
  },
  {
   "cell_type": "code",
   "execution_count": 61,
   "metadata": {},
   "outputs": [
    {
     "data": {
      "text/plain": [
       "0.13577053314121038"
      ]
     },
     "execution_count": 61,
     "metadata": {},
     "output_type": "execute_result"
    }
   ],
   "source": [
    "kappa_eers_mix_dct = [0.15, 0.087, 0.088, 0.12, 0.137, 0.173, 0.117]\n",
    "kappa_mix_dct_dict = dict(zip(kappa_phonemes, kappa_eers_mix_dct))\n",
    "kappa_mix_dct_weighted_average = compute_weighted_average(kappa_mix_dct_dict, kappa_weighted_dict)\n",
    "kappa_mix_dct_weighted_average"
   ]
  },
  {
   "cell_type": "code",
   "execution_count": null,
   "metadata": {
    "collapsed": true
   },
   "outputs": [],
   "source": []
  }
 ],
 "metadata": {
  "kernelspec": {
   "display_name": "Python 2",
   "language": "python",
   "name": "python2"
  },
  "language_info": {
   "codemirror_mode": {
    "name": "ipython",
    "version": 2
   },
   "file_extension": ".py",
   "mimetype": "text/x-python",
   "name": "python",
   "nbconvert_exporter": "python",
   "pygments_lexer": "ipython2",
   "version": "2.7.10"
  }
 },
 "nbformat": 4,
 "nbformat_minor": 2
}
