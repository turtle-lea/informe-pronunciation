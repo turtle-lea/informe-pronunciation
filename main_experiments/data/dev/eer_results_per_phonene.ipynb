{
 "cells": [
  {
   "cell_type": "code",
   "execution_count": 6,
   "metadata": {
    "collapsed": true
   },
   "outputs": [],
   "source": [
    "import numpy as np"
   ]
  },
  {
   "cell_type": "code",
   "execution_count": 32,
   "metadata": {
    "collapsed": true
   },
   "outputs": [],
   "source": [
    "phonemes = \"Y_f_c_d_g_z\""
   ]
  },
  {
   "cell_type": "code",
   "execution_count": 33,
   "metadata": {
    "collapsed": true
   },
   "outputs": [],
   "source": [
    "base_dir = \"/Users/lmatayoshi/Documents/Projects/tesis_notebooks/main_experiments/scatter-plots/data/dev/\""
   ]
  },
  {
   "cell_type": "code",
   "execution_count": 34,
   "metadata": {
    "collapsed": true
   },
   "outputs": [],
   "source": [
    "output_dir = base_dir + \"single_phonemes/\""
   ]
  },
  {
   "cell_type": "code",
   "execution_count": 35,
   "metadata": {
    "collapsed": true
   },
   "outputs": [],
   "source": [
    "phonemes_dir = base_dir + \"Y_f_c_d_g_z\" + \"/\""
   ]
  },
  {
   "cell_type": "code",
   "execution_count": 38,
   "metadata": {
    "collapsed": true
   },
   "outputs": [],
   "source": [
    "for current_phoneme in phonemes.split(\"_\"):\n",
    "    output_filename = output_dir + current_phoneme\n",
    "    with open(output_filename, \"w\") as output_file:\n",
    "        for fold in range(1, 5):\n",
    "            fold_file = phonemes_dir + \"fold\" + str(fold)\n",
    "            with open(fold_file, \"r\") as f:\n",
    "                for line in f.readlines():\n",
    "                    words = line.split(\" \")\n",
    "                    phoneme = words[2]\n",
    "                    if phoneme == current_phoneme:\n",
    "                        output_file.write(line)"
   ]
  }
 ],
 "metadata": {
  "kernelspec": {
   "display_name": "Python 2",
   "language": "python",
   "name": "python2"
  },
  "language_info": {
   "codemirror_mode": {
    "name": "ipython",
    "version": 2
   },
   "file_extension": ".py",
   "mimetype": "text/x-python",
   "name": "python",
   "nbconvert_exporter": "python",
   "pygments_lexer": "ipython2",
   "version": "2.7.10"
  }
 },
 "nbformat": 4,
 "nbformat_minor": 2
}
