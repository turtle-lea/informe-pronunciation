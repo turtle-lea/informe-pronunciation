{
 "cells": [
  {
   "cell_type": "code",
   "execution_count": 11,
   "metadata": {
    "collapsed": true
   },
   "outputs": [],
   "source": [
    "import numpy as np\n",
    "import matplotlib.pyplot as plt"
   ]
  },
  {
   "cell_type": "code",
   "execution_count": 1,
   "metadata": {
    "collapsed": true
   },
   "outputs": [],
   "source": [
    "supervectors_dir = \"/Users/lmatayoshi/Documents/Projects/tesis_notebooks/main_experiments/scatter-plots/data/heldout/supervectors/supervectors_single_phonemes/\"\n",
    "legendre_dir = \"/Users/lmatayoshi/Documents/Projects/tesis_notebooks/main_experiments/scatter-plots/data/heldout/legendre/legendre_single_phonemes/\""
   ]
  },
  {
   "cell_type": "code",
   "execution_count": 42,
   "metadata": {
    "collapsed": true
   },
   "outputs": [],
   "source": [
    "output_dir = \"/Users/lmatayoshi/Documents/Projects/tesis_notebooks/main_experiments/scatter-plots/data/heldout/output\""
   ]
  },
  {
   "cell_type": "code",
   "execution_count": 44,
   "metadata": {
    "collapsed": true
   },
   "outputs": [],
   "source": [
    "all_phonemes = [\"Y\", \"f\", \"c\", \"x\", \"G\", \"d\", \"b\", \"g\", \"z\", \"w\", \"N\", \"B\", \"rr\", \"u\", \"p\", \"D\", \"y\", \"k\", \"m\", \"t\", \"l\", \"i\", \"r\", \"n\", \"s\", \"o\", \"a\", \"e\"]"
   ]
  },
  {
   "cell_type": "code",
   "execution_count": 49,
   "metadata": {
    "collapsed": true
   },
   "outputs": [],
   "source": [
    "for phoneme in all_phonemes:\n",
    "    original_phoneme = phoneme\n",
    "    if phoneme in ['g', 'y', 'd', 'b', 'n']:\n",
    "        phoneme = phoneme + \"_lowercase\"\n",
    "    supervectors_filename = supervectors_dir + phoneme\n",
    "    legendre_filename = legendre_dir + phoneme\n",
    "    with open(supervectors_filename, \"r\") as f_supervectors:\n",
    "        lines = f_supervectors.readlines()\n",
    "        logids_supervectors = [line.split(\" \")[0] for line in lines]\n",
    "        scores_supervectors = [float(line.split(\" \")[4]) for line in lines]\n",
    "    with open(legendre_filename, \"r\") as f_legendre:\n",
    "        lines = f_legendre.readlines()\n",
    "        logids_legendre = [line.split(\" \")[0] for line in lines]\n",
    "        scores_legendre = [float(line.split(\" \")[4]) for line in lines]\n",
    "    if not logids_supervectors == logids_legendre:\n",
    "        raise Exception(phoneme + \" instances problem\")\n",
    "    plt.clf()\n",
    "    plt.plot(scores_supervectors, scores_legendre, marker=\".\", linestyle=\"\", color=\"blue\")\n",
    "    title = phoneme + \" dev, positives: \" + str(positives_dict[original_phoneme]) + \", negatives: \" + str(negatives_dict[original_phoneme])\n",
    "    plt.xlabel(\"supervectors score\")\n",
    "    plt.ylabel(\"legendre score\")\n",
    "    plt.title(title)\n",
    "    plt.savefig(output_dir + phoneme)"
   ]
  },
  {
   "cell_type": "markdown",
   "metadata": {},
   "source": [
    "## Step by step"
   ]
  },
  {
   "cell_type": "code",
   "execution_count": 37,
   "metadata": {
    "collapsed": true
   },
   "outputs": [],
   "source": [
    "phoneme = \"G\"\n",
    "original_phoneme = phoneme\n",
    "if phoneme in ['g', 'y', 'd', 'b', 'n']:\n",
    "    phoneme = phoneme + \"_lowercase\"\n",
    "supervectors_filename = supervectors_dir + phoneme\n",
    "legendre_filename = legendre_dir + phoneme"
   ]
  },
  {
   "cell_type": "code",
   "execution_count": 28,
   "metadata": {
    "collapsed": true
   },
   "outputs": [],
   "source": [
    "with open(supervectors_filename, \"r\") as f_supervectors:\n",
    "    lines = f_supervectors.readlines()\n",
    "    logids_supervectors = [line.split(\" \")[0] for line in lines]\n",
    "    scores_supervectors = [float(line.split(\" \")[4]) for line in lines]\n",
    "    \n",
    "with open(legendre_filename, \"r\") as f_legendre:\n",
    "    lines = f_legendre.readlines()\n",
    "    logids_legendre = [line.split(\" \")[0] for line in lines]\n",
    "    scores_legendre = [float(line.split(\" \")[4]) for line in lines]"
   ]
  },
  {
   "cell_type": "code",
   "execution_count": 43,
   "metadata": {
    "collapsed": true
   },
   "outputs": [],
   "source": [
    "plt.clf()\n",
    "plt.plot(scores_supervectors, scores_legendre, marker=\".\", linestyle=\"\", color=\"blue\")\n",
    "title = phoneme + \" dev, positives: \" + str(positives_dict[original_phoneme]) + \", negatives: \" + str(negatives_dict[original_phoneme])\n",
    "plt.xlabel(\"supervectors score\")\n",
    "plt.ylabel(\"legendre score\")\n",
    "plt.title(title)\n",
    "plt.savefig(output_dir + phoneme)\n"
   ]
  },
  {
   "cell_type": "markdown",
   "metadata": {},
   "source": [
    "## N instances"
   ]
  },
  {
   "cell_type": "code",
   "execution_count": 36,
   "metadata": {
    "collapsed": true
   },
   "outputs": [],
   "source": [
    "phonemes = [\"Y\", \"f\", \"c\", \"x\", \"G\", \"d\", \"b\", \"g\", \"z\", \"w\", \"N\", \"B\", \"rr\", \"u\", \"p\", \"D\", \"y\", \"k\", \"m\", \"t\", \"l\", \"i\", \"r\", \"n\", \"s\", \"o\", \"a\", \"e\"]\n",
    "positive_values = [53, 682, 405, 590, 222, 773, 528, 887, 189, 743, 911, 428, 491, 1948, 1657, 920, 2453, 1708, 3234, 2938, 3505, 4929, 3650, 7152, 7555, 8040, 10144, 10597]\n",
    "negative_values = [10, 10, 105, 153, 643, 89, 395, 114, 997, 500, 443, 1169, 1739, 482, 1055, 2009, 574, 1472, 686, 1542, 1373, 1238, 2617, 476, 480, 2077, 2069, 3484]\n",
    "positives_dict = dict(zip(phonemes, positive_values))\n",
    "negatives_dict = dict(zip(phonemes, negative_values))\n",
    "\n"
   ]
  },
  {
   "cell_type": "code",
   "execution_count": 47,
   "metadata": {},
   "outputs": [
    {
     "ename": "Exception",
     "evalue": "There are no features for logi",
     "output_type": "error",
     "traceback": [
      "\u001b[0;31m---------------------------------------------------------------------------\u001b[0m",
      "\u001b[0;31mException\u001b[0m                                 Traceback (most recent call last)",
      "\u001b[0;32m<ipython-input-47-60d9e689b66b>\u001b[0m in \u001b[0;36m<module>\u001b[0;34m()\u001b[0m\n\u001b[0;32m----> 1\u001b[0;31m \u001b[0;32mraise\u001b[0m \u001b[0mException\u001b[0m\u001b[0;34m(\u001b[0m\u001b[0;34m\"There are no features for logi\"\u001b[0m\u001b[0;34m)\u001b[0m\u001b[0;34m\u001b[0m\u001b[0m\n\u001b[0m",
      "\u001b[0;31mException\u001b[0m: There are no features for logi"
     ]
    }
   ],
   "source": [
    "raise Exception(\"There are no features for logi\")"
   ]
  },
  {
   "cell_type": "code",
   "execution_count": null,
   "metadata": {
    "collapsed": true
   },
   "outputs": [],
   "source": []
  }
 ],
 "metadata": {
  "kernelspec": {
   "display_name": "Python 2",
   "language": "python",
   "name": "python2"
  },
  "language_info": {
   "codemirror_mode": {
    "name": "ipython",
    "version": 2
   },
   "file_extension": ".py",
   "mimetype": "text/x-python",
   "name": "python",
   "nbconvert_exporter": "python",
   "pygments_lexer": "ipython2",
   "version": "2.7.10"
  }
 },
 "nbformat": 4,
 "nbformat_minor": 2
}
