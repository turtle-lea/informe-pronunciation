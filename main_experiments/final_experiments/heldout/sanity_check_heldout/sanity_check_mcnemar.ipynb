{
 "cells": [
  {
   "cell_type": "code",
   "execution_count": 27,
   "metadata": {
    "collapsed": true
   },
   "outputs": [],
   "source": [
    "import numpy as np\n",
    "from statsmodels.sandbox.stats.runs import mcnemar\n",
    "import cPickle\n",
    "from sklearn.metrics import roc_curve\n",
    "from scipy.optimize import brentq\n",
    "from scipy.interpolate import interp1d\n",
    "import cPickle"
   ]
  },
  {
   "cell_type": "code",
   "execution_count": 28,
   "metadata": {
    "collapsed": true
   },
   "outputs": [],
   "source": [
    "base_dir = \"/Users/lmatayoshi/Documents/Projects/tesis_notebooks/final_experiments/heldout/sanity_check_heldout/\""
   ]
  },
  {
   "cell_type": "code",
   "execution_count": 32,
   "metadata": {
    "collapsed": true
   },
   "outputs": [],
   "source": [
    "mcnemar_vectors_dir = base_dir + \"mcnemar_vectors/\""
   ]
  },
  {
   "cell_type": "markdown",
   "metadata": {},
   "source": [
    "# m"
   ]
  },
  {
   "cell_type": "code",
   "execution_count": 44,
   "metadata": {
    "collapsed": true
   },
   "outputs": [],
   "source": [
    "mcnemar_supervectors_m_filename = mcnemar_vectors_dir + \"supervectors/m\"\n",
    "mcnemar_dct_m_filename = mcnemar_vectors_dir + \"dct/m\""
   ]
  },
  {
   "cell_type": "code",
   "execution_count": 45,
   "metadata": {},
   "outputs": [],
   "source": [
    "with open(mcnemar_supervectors_m_filename, \"rb\") as f:\n",
    "    mcnemar_supervectors_m = cPickle.load(f)"
   ]
  },
  {
   "cell_type": "code",
   "execution_count": 48,
   "metadata": {},
   "outputs": [],
   "source": [
    "with open(mcnemar_dct_m_filename, \"rb\") as f:\n",
    "    mcnemar_dct_m = cPickle.load(f)"
   ]
  },
  {
   "cell_type": "code",
   "execution_count": 49,
   "metadata": {},
   "outputs": [
    {
     "name": "stdout",
     "output_type": "stream",
     "text": [
      "805\n",
      "804\n"
     ]
    }
   ],
   "source": [
    "print sum(mcnemar_supervectors_m['m'])\n",
    "print sum(mcnemar_dct_m['m'])"
   ]
  },
  {
   "cell_type": "code",
   "execution_count": 50,
   "metadata": {},
   "outputs": [
    {
     "data": {
      "text/plain": [
       "(49, 1.0)"
      ]
     },
     "execution_count": 50,
     "metadata": {},
     "output_type": "execute_result"
    }
   ],
   "source": [
    "mcnemar(mcnemar_supervectors_m['m'], mcnemar_dct_m['m'])"
   ]
  },
  {
   "cell_type": "code",
   "execution_count": 4,
   "metadata": {
    "collapsed": true
   },
   "outputs": [],
   "source": [
    "phonemes = [\"i\", \"m\"]"
   ]
  },
  {
   "cell_type": "code",
   "execution_count": 124,
   "metadata": {
    "collapsed": true
   },
   "outputs": [],
   "source": [
    "def check_lines(lines_supervectors, lines_dct):\n",
    "    logids_supervectors = [l[0] for l in lines_supervectors]\n",
    "    logids_dct = [l[0] for l in lines_dct]\n",
    "    if not logids_supervectors == logids_dct:\n",
    "        raise Exception(phoneme + \" logids doesn't match in supervectors vs dct\")\n",
    "    labels_supervectors = [t[3] for t in lines_supervectors]\n",
    "    labels_dct = [t[3] for t in lines_supervectors]\n",
    "    if not labels_supervectors == labels_dct:\n",
    "        raise Exception(phoneme + \" labels doesn't match in supervectors vs dct\")"
   ]
  },
  {
   "cell_type": "code",
   "execution_count": 125,
   "metadata": {
    "collapsed": true
   },
   "outputs": [],
   "source": [
    "def all_phonemes_empty_dict(phonemes):\n",
    "    return dict(zip(phonemes, [None for p in phonemes]))"
   ]
  },
  {
   "cell_type": "code",
   "execution_count": 126,
   "metadata": {
    "collapsed": true
   },
   "outputs": [],
   "source": [
    "def label_for(label):\n",
    "    if label == \"True\":\n",
    "        return 1\n",
    "    elif label == \"False\":\n",
    "        return -1"
   ]
  },
  {
   "cell_type": "code",
   "execution_count": 127,
   "metadata": {
    "collapsed": true
   },
   "outputs": [],
   "source": [
    "def load_positives_negatives_dict():\n",
    "    phonemes = [\"b\", \"m\", \"B\", \"s\", \"D\", \"G\", \"w\", \"i\", \"y\", \"p\", \"r\", \"z\", \"t\", \"k\", \"rr\", \"a\", \"o\", \"l\", \"e\", \"n\", \"u\", \"c\", \"x\", \"d\", \"g\", \"N\"]\n",
    "    positive_values = [140, 801, 126, 1963, 268, 61, 179, 1224, 596, 441, 910, 49, 733, 434, 122, 2509, 2030, 851, 2658, 1792, 471, 104, 161, 191, 237, 246]\n",
    "    positive_values = [str(p) for p in positive_values]\n",
    "    negative_values = [95, 188, 302, 107, 486, 145, 128, 301, 156, 254, 641, 247, 360, 388, 453, 548, 548, 356, 899, 125, 110, 24, 37, 18, 29, 116]\n",
    "    negative_values = [str(n) for n in negative_values]\n",
    "    positives_dict = dict(zip(phonemes, positive_values))\n",
    "    negatives_dict = dict(zip(phonemes, negative_values))\n",
    "    return (positives_dict, negatives_dict)"
   ]
  },
  {
   "cell_type": "code",
   "execution_count": 128,
   "metadata": {
    "collapsed": true
   },
   "outputs": [],
   "source": [
    "def score_combination_dict():\n",
    "    return {\n",
    "        'Y': 0.8,\n",
    "        'c': 0.9,\n",
    "        'f': 0.4,\n",
    "        'x': 0.6,\n",
    "        'd': 0.2,\n",
    "        'G': 0.1,\n",
    "        'b': 0.1,\n",
    "        'g': 0.1,\n",
    "        'z': 0.3,\n",
    "        'w': 0.0,\n",
    "        'N': 1.0,\n",
    "        'B': 0.3,\n",
    "        'rr': 0.9,\n",
    "        'u': 1.0,\n",
    "        'p': 0.0,\n",
    "        'D': 0.1,\n",
    "        'y': 1.0,\n",
    "        'k': 0.2,\n",
    "        'm': 0.6,\n",
    "        't': 0.6,\n",
    "        'l': 0.8,\n",
    "        'i': 0.3,\n",
    "        'r': 0.6,\n",
    "        'n': 0.7,\n",
    "        's': 1.0,\n",
    "        'o': 0.9,\n",
    "        'a': 0.7,\n",
    "        'e': 0.6\n",
    "    }"
   ]
  },
  {
   "cell_type": "code",
   "execution_count": 129,
   "metadata": {
    "collapsed": true
   },
   "outputs": [],
   "source": [
    "def compute_decision_vectors(per_phoneme_values):\n",
    "    labels = [t[1] for t in per_phoneme_values]\n",
    "    llrs = [t[0] for t in per_phoneme_values]\n",
    "    fpr, tpr, thresholds = roc_curve(labels, llrs)\n",
    "    eer = brentq(lambda x : 1. - x - interp1d(fpr, tpr)(x), 0., 1.)\n",
    "    fpr_eer_diff = abs(fpr - eer)\n",
    "    min_index = np.argmin(fpr_eer_diff, axis=0)\n",
    "    threshold = thresholds[min_index]\n",
    "    decisions = llrs > threshold\n",
    "    labels = [l == True for l in labels]\n",
    "    return (decisions == labels)"
   ]
  },
  {
   "cell_type": "markdown",
   "metadata": {},
   "source": [
    "# Score combination"
   ]
  },
  {
   "cell_type": "code",
   "execution_count": 130,
   "metadata": {
    "collapsed": true
   },
   "outputs": [],
   "source": [
    "score_combination_dir = \"/Users/lmatayoshi/Documents/Projects/tesis_notebooks/final_experiments/heldout/score_combination/\"\n",
    "supervectors_single_phonemes_dir = score_combination_dir + \"supervectors_single_phonemes/\"\n",
    "dct_single_phonemes_dir = score_combination_dir + \"dct_single_phonemes/\""
   ]
  },
  {
   "cell_type": "code",
   "execution_count": 148,
   "metadata": {
    "collapsed": true
   },
   "outputs": [],
   "source": [
    "mcnemar_dict = all_phonemes_empty_dict(phonemes)\n",
    "decision_vectors_supervectors_dict = all_phonemes_empty_dict(phonemes)\n",
    "for phoneme in phonemes:\n",
    "    combination_dict = score_combination_dict()[phoneme]\n",
    "    original_phoneme = phoneme\n",
    "    if phoneme in ['g', 'y', 'd', 'b', 'n']:\n",
    "        phoneme = phoneme + \"_lowercase\"\n",
    "    supervectors_single_phoneme_filename = supervectors_single_phonemes_dir + phoneme\n",
    "    with open(supervectors_single_phoneme_filename, \"r\") as f:\n",
    "        lines_supervectors = f.readlines()\n",
    "        lines_supervectors = [l.strip().split(\" \") for l in lines_supervectors]\n",
    "    dct_single_phoneme_filename = dct_single_phonemes_dir + phoneme\n",
    "    with open(dct_single_phoneme_filename, \"r\") as f:\n",
    "        lines_dct = f.readlines()\n",
    "        lines_dct = [l.strip().split(\" \") for l in lines_dct]\n",
    "    check_lines(lines_supervectors, lines_dct)\n",
    "    labels = [label_for(t[3]) for t in lines_supervectors]\n",
    "    per_phoneme_values_combination = []\n",
    "    per_phoneme_values_supervectors = []\n",
    "    for i in range(len(lines_supervectors)):\n",
    "        supervectors_value = float(lines_supervectors[i][4])\n",
    "        dct_value = float(lines_dct[i][4])\n",
    "        per_phoneme_values_combination.append((supervectors_value + factor*dct_value, labels[i]))\n",
    "        per_phoneme_values_supervectors.append((supervectors_value, labels[i]))\n",
    "    decision_vectors_supervectors = compute_decision_vectors(per_phoneme_values_supervectors)\n",
    "    decision_vectors_supervectors_dict[original_phoneme] = decision_vectors_supervectors\n",
    "    decision_vectors_combination = compute_decision_vectors(per_phoneme_values_combination)\n",
    "    mcnemar_dict[original_phoneme] = mcnemar(decision_vectors_supervectors, decision_vectors_combination)[1]"
   ]
  },
  {
   "cell_type": "code",
   "execution_count": 149,
   "metadata": {},
   "outputs": [
    {
     "data": {
      "text/plain": [
       "{'B': 0.17956542968750003,\n",
       " 'D': 0.13380050659179688,\n",
       " 'G': 1.0,\n",
       " 'N': 0.60723876953125011,\n",
       " 'a': 0.18131184532598765,\n",
       " 'b': 0.17968750000000003,\n",
       " 'c': 0.078353881835937486,\n",
       " 'd': 0.26493089646100998,\n",
       " 'e': 0.17698343952928525,\n",
       " 'g': 0.078353881835937486,\n",
       " 'i': 0.0045116404083552176,\n",
       " 'k': 0.13367423536410539,\n",
       " 'l': 0.43970542918582195,\n",
       " 'm': 0.40503224614076327,\n",
       " 'n': 0.15457114715373352,\n",
       " 'o': 0.65010561688412305,\n",
       " 'p': 0.29121523654589498,\n",
       " 'r': 0.3193082974752447,\n",
       " 'rr': 0.74364418610520333,\n",
       " 's': 0.093766736079311977,\n",
       " 't': 0.029493493531317305,\n",
       " 'u': 0.15240777196147803,\n",
       " 'w': 1.0,\n",
       " 'x': 0.125,\n",
       " 'y': 0.37417441760470826,\n",
       " 'z': 0.38769531250000011}"
      ]
     },
     "execution_count": 149,
     "metadata": {},
     "output_type": "execute_result"
    }
   ],
   "source": [
    "mcnemar_dict"
   ]
  },
  {
   "cell_type": "markdown",
   "metadata": {},
   "source": [
    "# Features combination"
   ]
  },
  {
   "cell_type": "code",
   "execution_count": 133,
   "metadata": {
    "collapsed": true
   },
   "outputs": [],
   "source": [
    "features_combination_dir = \"/Users/lmatayoshi/Documents/Projects/tesis_notebooks/final_experiments/heldout/mcnemar/mcnemar_vectors/features_combination/\"\n",
    "supervectors_dir = \"/Users/lmatayoshi/Documents/Projects/tesis_notebooks/final_experiments/heldout/mcnemar/mcnemar_vectors/supervectors/\""
   ]
  },
  {
   "cell_type": "code",
   "execution_count": 134,
   "metadata": {
    "collapsed": true
   },
   "outputs": [],
   "source": [
    "phonemes_features_combination = [\"c\", \"x\", \"G\", \"d\", \"b\", \"g\", \"z\", \"w\", \"N\", \"B\", \"rr\", \"u\", \"p\", \"D\", \"y\", \"k\", \"m\", \"t\", \"l\", \"i\", \"r\", \"n\", \"s\", \"o\", \"a\", \"e\"]"
   ]
  },
  {
   "cell_type": "code",
   "execution_count": 135,
   "metadata": {
    "collapsed": true
   },
   "outputs": [],
   "source": [
    "mcnemar_dict_features_combination = all_phonemes_empty_dict(phonemes_features_combination)\n",
    "mcnemar_dict_2_features_combination = all_phonemes_empty_dict(phonemes_features_combination)\n",
    "decision_vectors_features_combination_dict = all_phonemes_empty_dict(phonemes_features_combination)\n",
    "decision_vectors_supervectors_2_dict = all_phonemes_empty_dict(phonemes_features_combination)"
   ]
  },
  {
   "cell_type": "code",
   "execution_count": 136,
   "metadata": {
    "collapsed": true
   },
   "outputs": [],
   "source": [
    "sets = ['e', 'r', 'a', 'o', 'c_x_d_G_b_g', 'k_m_t', 'l_i', 'p_D_y', 'r', 's', 'z_w_N_B_rr_u', 'n']"
   ]
  },
  {
   "cell_type": "code",
   "execution_count": 137,
   "metadata": {
    "collapsed": true
   },
   "outputs": [],
   "source": [
    "for s in sets:\n",
    "    filename = features_combination_dir + s\n",
    "    with open(filename, \"rb\") as f:\n",
    "        s_dict = cPickle.load(f)\n",
    "        for k in s_dict.keys():\n",
    "            decision_vectors_features_combination_dict[k] = s_dict[k]"
   ]
  },
  {
   "cell_type": "code",
   "execution_count": 138,
   "metadata": {
    "collapsed": true
   },
   "outputs": [],
   "source": [
    "for s in sets:\n",
    "    filename = supervectors_dir + s\n",
    "    with open(filename, \"rb\") as f:\n",
    "        s_dict = cPickle.load(f)\n",
    "        for k in s_dict.keys():\n",
    "            decision_vectors_supervectors_2_dict[k] = s_dict[k]"
   ]
  },
  {
   "cell_type": "code",
   "execution_count": 139,
   "metadata": {
    "collapsed": true
   },
   "outputs": [],
   "source": [
    "for phoneme in phonemes_features_combination:\n",
    "    decision_vectors_supervectors = decision_vectors_supervectors_dict[phoneme]\n",
    "    decision_vectors_supervectors_2 = decision_vectors_supervectors_2_dict[phoneme] \n",
    "    decision_vectors_features_combination = decision_vectors_features_combination_dict[phoneme]\n",
    "    mcnemar_dict_features_combination[phoneme] = mcnemar(decision_vectors_supervectors, decision_vectors_features_combination)[1]\n",
    "    mcnemar_dict_2_features_combination[phoneme] = mcnemar(decision_vectors_supervectors_2, decision_vectors_features_combination)[1]"
   ]
  },
  {
   "cell_type": "code",
   "execution_count": 140,
   "metadata": {},
   "outputs": [
    {
     "data": {
      "text/plain": [
       "{'B': 0.77441406250000033,\n",
       " 'D': 1.0,\n",
       " 'G': 1.0,\n",
       " 'N': 0.99999999999999933,\n",
       " 'a': 0.093477470231310283,\n",
       " 'b': 1.0,\n",
       " 'c': 0.87462931238042085,\n",
       " 'd': 0.043285250663757359,\n",
       " 'e': 0.2260801690470079,\n",
       " 'g': 1.0,\n",
       " 'i': 0.61844546603881445,\n",
       " 'k': 0.74364418610520333,\n",
       " 'l': 0.0011686374974383242,\n",
       " 'm': 0.16188140552559774,\n",
       " 'n': 0.85286561860668608,\n",
       " 'o': 0.2765531697433502,\n",
       " 'p': 1.0,\n",
       " 'r': 0.0080875894711945062,\n",
       " 'rr': 0.82214424245218543,\n",
       " 's': 0.90914639012300891,\n",
       " 't': 0.0042724050316516708,\n",
       " 'u': 0.65296437551645969,\n",
       " 'w': 0.548828125,\n",
       " 'x': 1.0,\n",
       " 'y': 0.16825920465992439,\n",
       " 'z': 0.00085544586181640603}"
      ]
     },
     "execution_count": 140,
     "metadata": {},
     "output_type": "execute_result"
    }
   ],
   "source": [
    "mcnemar_dict_features_combination"
   ]
  },
  {
   "cell_type": "markdown",
   "metadata": {},
   "source": [
    "# Supervectors sanity checks"
   ]
  },
  {
   "cell_type": "code",
   "execution_count": 141,
   "metadata": {
    "collapsed": true
   },
   "outputs": [],
   "source": [
    "decision_vectors_supervectors_dict_2 = {}\n",
    "mcnemar_vectors_supervectors_dir = \"/Users/lmatayoshi/Documents/Projects/tesis_notebooks/final_experiments/heldout/mcnemar/mcnemar_vectors/supervectors/\""
   ]
  },
  {
   "cell_type": "code",
   "execution_count": 143,
   "metadata": {
    "collapsed": true
   },
   "outputs": [],
   "source": [
    "#for phoneme in phonemes_features_combination:\n",
    "#    mcnemar_filename = mcnemar_vectors_supervectors_dir + phoneme\n",
    "#    with open(mcnemar_filename, \"rb\") as f:\n",
    "#        d = cPickle.load(f)\n",
    "#        decision_vectors_supervectors_dict_2[phoneme] = d[phoneme]"
   ]
  },
  {
   "cell_type": "code",
   "execution_count": 144,
   "metadata": {},
   "outputs": [
    {
     "name": "stdout",
     "output_type": "stream",
     "text": [
      "True\n",
      "True\n",
      "True\n",
      "True\n",
      "True\n",
      "True\n",
      "True\n",
      "True\n",
      "True\n",
      "True\n",
      "True\n",
      "True\n",
      "True\n",
      "True\n",
      "True\n",
      "True\n",
      "True\n",
      "True\n",
      "True\n",
      "True\n",
      "True\n",
      "True\n",
      "True\n",
      "True\n",
      "True\n",
      "True\n"
     ]
    }
   ],
   "source": [
    "for phoneme in phonemes_features_combination:\n",
    "    print all((decision_vectors_supervectors_dict[phoneme] == decision_vectors_supervectors_2_dict[phoneme]))"
   ]
  },
  {
   "cell_type": "markdown",
   "metadata": {},
   "source": [
    "# Phonemes differences"
   ]
  },
  {
   "cell_type": "code",
   "execution_count": 425,
   "metadata": {
    "collapsed": true
   },
   "outputs": [],
   "source": [
    "s1 = set(mcnemar_dict_features_combination.keys())\n",
    "s2 = set(phonemes)"
   ]
  },
  {
   "cell_type": "code",
   "execution_count": 426,
   "metadata": {},
   "outputs": [
    {
     "data": {
      "text/plain": [
       "{'Y', 'c', 'f'}"
      ]
     },
     "execution_count": 426,
     "metadata": {},
     "output_type": "execute_result"
    }
   ],
   "source": [
    "s2.difference(s1)"
   ]
  },
  {
   "cell_type": "code",
   "execution_count": null,
   "metadata": {
    "collapsed": true
   },
   "outputs": [],
   "source": []
  }
 ],
 "metadata": {
  "kernelspec": {
   "display_name": "Python 2",
   "language": "python",
   "name": "python2"
  },
  "language_info": {
   "codemirror_mode": {
    "name": "ipython",
    "version": 2
   },
   "file_extension": ".py",
   "mimetype": "text/x-python",
   "name": "python",
   "nbconvert_exporter": "python",
   "pygments_lexer": "ipython2",
   "version": "2.7.10"
  }
 },
 "nbformat": 4,
 "nbformat_minor": 2
}
