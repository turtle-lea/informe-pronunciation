{
 "cells": [
  {
   "cell_type": "code",
   "execution_count": 164,
   "metadata": {
    "collapsed": true
   },
   "outputs": [],
   "source": [
    "import numpy as np\n",
    "from sklearn.metrics import roc_curve\n",
    "from scipy.optimize import brentq\n",
    "from scipy.interpolate import interp1d\n",
    "import pandas as pd\n",
    "import matplotlib.pyplot as plt\n",
    "import cPickle"
   ]
  },
  {
   "cell_type": "code",
   "execution_count": 3,
   "metadata": {
    "collapsed": true
   },
   "outputs": [],
   "source": [
    "#base_dir = \"/Users/lmatayoshi/Documents/Projects/tesis_notebooks/final_experiments/dev/\"\n",
    "#eers_dir = base_dir + \"score_combination/score_single_phonemes/\"\n",
    "#features_combination_dir = base_dir + \"features_combination/single/\"\n",
    "#output_dir = \"/Users/lmatayoshi/Desktop/mail_bootstrapping/\"\n",
    "#output_dir_features_combination = output_dir + \"features_combination/\"\n",
    "#output_dir_score_combination = output_dir + \"score_combination/\""
   ]
  },
  {
   "cell_type": "markdown",
   "metadata": {},
   "source": [
    "# Score combination"
   ]
  },
  {
   "cell_type": "code",
   "execution_count": 235,
   "metadata": {
    "collapsed": true
   },
   "outputs": [],
   "source": [
    "base_dir = \"/Users/lmatayoshi/Documents/Projects/tesis_notebooks/final_experiments/dev/\"\n",
    "features_combination_dir = base_dir + \"features_combination/single/\"\n",
    "score_combination_dir = base_dir + \"score_combination/\"\n",
    "supervectors_single_phonemes_dir = score_combination_dir + \"supervectors_single_phonemes/\"\n",
    "dct_single_phonemes_dir = score_combination_dir + \"dct_single_phonemes/\"\n",
    "plots_dir = base_dir + \"plots/\"\n",
    "score_combination_plots_dir = plots_dir + \"score_combination/\"\n",
    "features_combination_plots_dir = plots_dir + \"features_combination/\"\n",
    "barplots_dir = plots_dir + \"barplots/\""
   ]
  },
  {
   "cell_type": "code",
   "execution_count": 166,
   "metadata": {
    "collapsed": true
   },
   "outputs": [],
   "source": [
    "phonemes = [\"c\", \"x\", \"G\", \"d\", \"b\", \"g\", \"z\", \"w\", \"N\", \"B\", \"rr\", \"u\", \"p\", \"D\", \"y\", \"k\", \"m\", \"t\", \"l\", \"i\", \"r\", \"n\", \"s\", \"o\", \"a\", \"e\"]"
   ]
  },
  {
   "cell_type": "code",
   "execution_count": 167,
   "metadata": {
    "collapsed": true
   },
   "outputs": [],
   "source": [
    "pvalues_score_combination_dict = {\n",
    "    'B': \"0.096\",\n",
    "    'D': \"0.83\",\n",
    "    'G': \"1.0\",\n",
    "    'N': \"0.075\",\n",
    "    'Y': \"1.0\",\n",
    "    'a': \"0.0195\",\n",
    "    'b': \"1.0\",\n",
    "    'c': \"0.014\",\n",
    "    'd': \"0.77\",\n",
    "    'e': \"9.95e-06\",\n",
    "    'f': \"0.0087\",\n",
    "    'g': \"1.0\",\n",
    "    'i': \"0.032\",\n",
    "    'k': \"0.0126\",\n",
    "    'l': \"0.001\",\n",
    "    'm': \"0.0003\",\n",
    "    'n': \"6.45e-05\",\n",
    "    'o': \"1.97e-05\",\n",
    "    'p': \"1.0\",\n",
    "    'r': \"0.242\",\n",
    "    'rr': \"0.136\",\n",
    "    's': \"1.64e-09\",\n",
    "    't': \"0.056\",\n",
    "    'u': \"0.144\",\n",
    "    'w': \"1.0\",\n",
    "    'x': \"0.29\",\n",
    "    'y': \"5.50e-10\",\n",
    "    'z': \"0.004\"\n",
    "}"
   ]
  },
  {
   "cell_type": "code",
   "execution_count": 168,
   "metadata": {
    "collapsed": true
   },
   "outputs": [],
   "source": [
    "pvalues_features_combination_dict = {\n",
    "    'B': \"0.46\",\n",
    "    'D': \"1.0\",\n",
    "    'G': \"1.0\",\n",
    "    'N': \"0.123\",\n",
    "    'a': \"0.868\",\n",
    "    'b': \"1.0\",\n",
    "    'c': \"0.0002\",\n",
    "    'd': \"0.74\",\n",
    "    'e': \"0.0024\",\n",
    "    'g': \"1.0\",\n",
    "    'i': \"0.35\",\n",
    "    'k': \"0.146\",\n",
    "    'l': \"0.007\",\n",
    "    'm': \"0.002\",\n",
    "    'n': \"9.45e-07\",\n",
    "    'o': \"0.017\",\n",
    "    'p': \"1.0\",\n",
    "    'r': \"0.253\",\n",
    "    'rr': \"0.024\",\n",
    "    's': \"5.28e-20\",\n",
    "    't': \"0.18\",\n",
    "    'u': \"0.298\",\n",
    "    'w': \"1.0\",\n",
    "    'x': \"0.052\",\n",
    "    'y': \"3.87e-05\",\n",
    "    'z': \"0.48\"\n",
    "}"
   ]
  },
  {
   "cell_type": "code",
   "execution_count": 169,
   "metadata": {
    "collapsed": true
   },
   "outputs": [],
   "source": [
    "def load_dev_speakers():\n",
    "\tspeakers_filename = base_dir + \"dev_speakers\"\n",
    "\twith open(speakers_filename, \"r\") as f:\n",
    "\t\tspeakers = [line.rstrip() for line in f.readlines()]\n",
    "\treturn speakers"
   ]
  },
  {
   "cell_type": "code",
   "execution_count": 170,
   "metadata": {
    "collapsed": true
   },
   "outputs": [],
   "source": [
    "def all_phonemes_empty_dict(phonemes):\n",
    "    return dict(zip(phonemes, [[] for p in phonemes]))"
   ]
  },
  {
   "cell_type": "code",
   "execution_count": 171,
   "metadata": {
    "collapsed": true
   },
   "outputs": [],
   "source": [
    "def load_positives_negatives_dict():\n",
    "    phonemes = [ \"Y\", \"f\", \"c\", \"x\", \"G\", \"d\", \"b\", \"g\", \"z\", \"w\", \"N\", \"B\", \"rr\", \"u\", \"p\", \"D\", \"y\", \"k\", \"m\", \"t\", \"l\", \"i\", \"r\", \"n\", \"s\", \"o\", \"a\", \"e\"]\n",
    "    positive_values = [ 53, 682, 405, 590, 222, 773, 528, 887, 189, 743, 911, 428, 491, 1948, 1657, 920, 2453, 1708, 3234, 2938, 3505, 4929, 3650, 7152, 7555, 8040, 10144, 10597]\n",
    "    positive_values = [str(v) for v in positive_values]\n",
    "    negative_values = [10, 10, 105, 153, 643, 89, 395, 114, 997, 500, 443, 1169, 1739, 482, 1055, 2009, 574, 1472, 686, 1542, 1373, 1238, 2617, 476, 480, 2077, 2069, 3484 ]\n",
    "    negative_values = [str(v) for v in negative_values]\n",
    "    positives_dict = dict(zip(phonemes, positive_values))\n",
    "    negatives_dict = dict(zip(phonemes, negative_values))\n",
    "    return (positives_dict, negatives_dict)"
   ]
  },
  {
   "cell_type": "code",
   "execution_count": 172,
   "metadata": {
    "collapsed": true
   },
   "outputs": [],
   "source": [
    "def check_logids(lines_supervectors, lines_second_source):\n",
    "    logids_supervectors = [l[0] for l in lines_supervectors]\n",
    "    logids_second_source = [l[0] for l in lines_second_source]\n",
    "    if not logids_supervectors == logids_second_source:\n",
    "        raise Exception(phoneme + \" logids doesn't match in supervectors vs second source\")\n",
    "    "
   ]
  },
  {
   "cell_type": "code",
   "execution_count": 173,
   "metadata": {
    "collapsed": true
   },
   "outputs": [],
   "source": [
    "def label_for(label):\n",
    "    if label == \"True\":\n",
    "        return 1\n",
    "    elif label == \"False\":\n",
    "        return -1"
   ]
  },
  {
   "cell_type": "code",
   "execution_count": 174,
   "metadata": {
    "collapsed": true
   },
   "outputs": [],
   "source": [
    "def compute_EER(tuples):\n",
    "    labels = [t[1] for t in tuples]\n",
    "    hyperplane_distances = [t[0] for t in tuples]\n",
    "    fpr, tpr, _ = roc_curve(labels, hyperplane_distances)\n",
    "    # eer is where fpr is equal to fnr\n",
    "    eer = brentq(lambda x : 1. - x - interp1d(fpr, tpr)(x), 0., 1.)\n",
    "    return eer"
   ]
  },
  {
   "cell_type": "code",
   "execution_count": 175,
   "metadata": {
    "collapsed": true
   },
   "outputs": [],
   "source": [
    "def lines_for_speaker(lines, speaker):\n",
    "    return [line for line in lines if speaker in line[0]]"
   ]
  },
  {
   "cell_type": "code",
   "execution_count": 176,
   "metadata": {
    "collapsed": true
   },
   "outputs": [],
   "source": [
    "def generate_shuffled_speakers_list(speakers, n):\n",
    "    res = []\n",
    "    for i in range(n):\n",
    "        res.append(shuffled_with_replacement(speakers))\n",
    "    return res"
   ]
  },
  {
   "cell_type": "code",
   "execution_count": 177,
   "metadata": {
    "collapsed": true
   },
   "outputs": [],
   "source": [
    "def shuffled_with_replacement(speakers):\n",
    "\tn_speakers = len(speakers)\n",
    "\tshuffled_indexes_with_replacement = np.random.randint(n_speakers, size=n_speakers)\n",
    "\treturn [speakers[j] for j in shuffled_indexes_with_replacement]"
   ]
  },
  {
   "cell_type": "markdown",
   "metadata": {},
   "source": [
    "Para cada fonema, combino scores utilizando como factor el diccionario pasado por parámetro."
   ]
  },
  {
   "cell_type": "code",
   "execution_count": 178,
   "metadata": {
    "collapsed": true
   },
   "outputs": [],
   "source": [
    "def main(eers_dir, second_source, proportion_dict):\n",
    "    ### Dictionary generation \n",
    "    dev_speakers = load_dev_speakers()\n",
    "    shuffled_speakers_list = generate_shuffled_speakers_list(dev_speakers, 1000)\n",
    "    res = all_phonemes_empty_dict(phonemes)\n",
    "    supervectors_dir = supervectors_single_phonemes_dir\n",
    "    second_source_dir = dct_single_phonemes_dir\n",
    "    #supervectors_dir = eers_dir + \"supervectors/\"\n",
    "    #second_source_dir = eers_dir + second_source + \"/\"\n",
    "    for phoneme in phonemes:\n",
    "        original_phoneme = phoneme\n",
    "        if phoneme in ['g', 'y', 'd', 'b', 'n']:\n",
    "            phoneme = phoneme + \"_lowercase\"\n",
    "        supervectors_filename = supervectors_dir + phoneme\n",
    "        second_source_filename = second_source_dir + phoneme\n",
    "        with open(supervectors_filename, \"r\") as f_supervectors:\n",
    "            lines_supervectors = f_supervectors.readlines()\n",
    "            lines_supervectors = [l.split(\" \") for l in lines_supervectors]\n",
    "        with open(second_source_filename, \"r\") as f_second_source:\n",
    "            lines_second_source = f_second_source.readlines()\n",
    "            lines_second_source = [l.split(\" \") for l in lines_second_source]\n",
    "        check_logids(lines_supervectors, lines_second_source)\n",
    "        \n",
    "        for speakers in shuffled_speakers_list:\n",
    "            new_lines_supervectors = []\n",
    "            new_lines_second_source = []\n",
    "            for speaker in speakers:\n",
    "                new_lines_supervectors = new_lines_supervectors + lines_for_speaker(lines_supervectors, speaker)\n",
    "                new_lines_second_source = new_lines_second_source + lines_for_speaker(lines_second_source, speaker)\n",
    "            check_logids(new_lines_supervectors, new_lines_second_source)\n",
    "            \n",
    "            phoneme_values = []\n",
    "            for i in range(len(new_lines_supervectors)):\n",
    "                new_value = float(new_lines_supervectors[i][4]) + proportion_dict[original_phoneme]*float(new_lines_second_source[i][4])\n",
    "                new_line = new_lines_supervectors[i]\n",
    "                label = label_for(new_line[3])\n",
    "                new_tuple = (new_value, label)\n",
    "                #new_line[4] = str(new_value)\n",
    "                #new_line = \" \".join(new_line) + \"\\n\"\n",
    "                phoneme_values.append(new_tuple)\n",
    "            res[original_phoneme].append(compute_EER(phoneme_values))\n",
    "    \n",
    "    return res"
   ]
  },
  {
   "cell_type": "code",
   "execution_count": 179,
   "metadata": {
    "collapsed": true
   },
   "outputs": [],
   "source": [
    "def main_single_source(eers_dir, features_combination_type):\n",
    "    ### Dictionary generation \n",
    "    dev_speakers = load_dev_speakers()\n",
    "    shuffled_speakers_list = generate_shuffled_speakers_list(dev_speakers, 1000)\n",
    "    res = all_phonemes_empty_dict(phonemes)\n",
    "    supervectors_dir = features_combination_dir\n",
    "    for phoneme in phonemes:\n",
    "        original_phoneme = phoneme\n",
    "        if phoneme in ['g', 'y', 'd', 'b', 'n']:\n",
    "            phoneme = phoneme + \"_lowercase\"\n",
    "        supervectors_filename = supervectors_dir + phoneme\n",
    "        with open(supervectors_filename, \"r\") as f_supervectors:\n",
    "            lines_supervectors = f_supervectors.readlines()\n",
    "            lines_supervectors = [l.split(\" \") for l in lines_supervectors]\n",
    "        \n",
    "        for speakers in shuffled_speakers_list:\n",
    "            new_lines_supervectors = []\n",
    "            for speaker in speakers:\n",
    "                new_lines_supervectors = new_lines_supervectors + lines_for_speaker(lines_supervectors, speaker)\n",
    "            \n",
    "            phoneme_values = []\n",
    "            for i in range(len(new_lines_supervectors)):\n",
    "                new_value = float(new_lines_supervectors[i][4]) \n",
    "                new_line = new_lines_supervectors[i]\n",
    "                label = label_for(new_line[3])\n",
    "                new_tuple = (new_value, label)\n",
    "                #new_line[4] = str(new_value)\n",
    "                #new_line = \" \".join(new_line) + \"\\n\"\n",
    "                phoneme_values.append(new_tuple)\n",
    "            res[original_phoneme].append(compute_EER(phoneme_values))\n",
    "    \n",
    "    return res"
   ]
  },
  {
   "cell_type": "code",
   "execution_count": 180,
   "metadata": {
    "collapsed": true
   },
   "outputs": [],
   "source": [
    "score_combination_factor_dict = {\n",
    "    'Y': 0.8,\n",
    "    'c': 0.9,\n",
    "    'f': 0.4,\n",
    "    'x': 0.6,\n",
    "    'd': 0.2,\n",
    "    'G': 0.1,\n",
    "    'b': 0.1,\n",
    "    'g': 0.1,\n",
    "    'z': 0.3,\n",
    "    'w': 0.0,\n",
    "    'N': 1.0,\n",
    "    'B': 0.3,\n",
    "    'rr': 0.9,\n",
    "    'u': 1.0,\n",
    "    'p': 0.0,\n",
    "    'D': 0.1,\n",
    "    'y': 1.0,\n",
    "    'k': 0.2,\n",
    "    'm': 0.6,\n",
    "    't': 0.6,\n",
    "    'l': 0.8,\n",
    "    'i': 0.3,\n",
    "    'r': 0.6,\n",
    "    'n': 0.7,\n",
    "    's': 1.0,\n",
    "    'o': 0.9,\n",
    "    'a': 0.7,\n",
    "    'e': 0.6\n",
    "}"
   ]
  },
  {
   "cell_type": "code",
   "execution_count": 57,
   "metadata": {
    "collapsed": true
   },
   "outputs": [],
   "source": [
    "#supervectors_dct = main(None, None, score_combination_factor_dict)\n",
    "#supervectors = main_single_source(None, None)\n",
    "#features_combination = main_single_source(None, None)"
   ]
  },
  {
   "cell_type": "code",
   "execution_count": 181,
   "metadata": {
    "collapsed": true
   },
   "outputs": [],
   "source": [
    "dicts_dir = base_dir + \"dicts/\"\n",
    "supervectors_dict_filename = dicts_dir + \"supervectors_dict\"\n",
    "score_combination_dict_filename = dicts_dir +\"score_combination_dict\"\n",
    "features_combination_dict_filename = dicts_dir +\"features_combination_dict\"\n",
    "\n",
    "with open(supervectors_dict_filename, \"rb\") as f:\n",
    "    supervectors = cPickle.load(f)\n",
    "with open(score_combination_dict_filename, \"rb\") as f:\n",
    "    score_combination = cPickle.load(f)\n",
    "with open(features_combination_dict_filename, \"rb\") as f:\n",
    "    features_combination = cPickle.load(f)"
   ]
  },
  {
   "cell_type": "markdown",
   "metadata": {},
   "source": [
    "# Results analysis"
   ]
  },
  {
   "cell_type": "code",
   "execution_count": 182,
   "metadata": {},
   "outputs": [
    {
     "name": "stdout",
     "output_type": "stream",
     "text": [
      "Phone: c\n",
      "Supervectors: 0.447843010907\n",
      "Score combination: 0.397000804029\n",
      "Features combination: 0.377994546655\n",
      "\n",
      "\n",
      "Phone: x\n",
      "Supervectors: 0.163101536944\n",
      "Score combination: 0.159634030514\n",
      "Features combination: 0.162013384411\n",
      "\n",
      "\n",
      "Phone: G\n",
      "Supervectors: 0.166272884218\n",
      "Score combination: 0.165292715064\n",
      "Features combination: 0.166931272681\n",
      "\n",
      "\n",
      "Phone: d\n",
      "Supervectors: 0.362732921639\n",
      "Score combination: 0.359961028301\n",
      "Features combination: 0.36905959706\n",
      "\n",
      "\n",
      "Phone: b\n",
      "Supervectors: 0.122064414231\n",
      "Score combination: 0.123711347201\n",
      "Features combination: 0.122167834387\n",
      "\n",
      "\n",
      "Phone: g\n",
      "Supervectors: 0.234178847851\n",
      "Score combination: 0.234079069852\n",
      "Features combination: 0.235517386164\n",
      "\n",
      "\n",
      "Phone: z\n",
      "Supervectors: 0.220083164731\n",
      "Score combination: 0.212934336184\n",
      "Features combination: 0.221531710787\n",
      "\n",
      "\n",
      "Phone: w\n",
      "Supervectors: 0.151820297868\n",
      "Score combination: 0.153023703266\n",
      "Features combination: 0.152841412827\n",
      "\n",
      "\n",
      "Phone: N\n",
      "Supervectors: 0.216939594048\n",
      "Score combination: 0.203285258234\n",
      "Features combination: 0.204432581475\n",
      "\n",
      "\n",
      "Phone: B\n",
      "Supervectors: 0.203305698636\n",
      "Score combination: 0.200213601212\n",
      "Features combination: 0.200630418405\n",
      "\n",
      "\n",
      "Phone: rr\n",
      "Supervectors: 0.324470466301\n",
      "Score combination: 0.31450529805\n",
      "Features combination: 0.307670475227\n",
      "\n",
      "\n",
      "Phone: u\n",
      "Supervectors: 0.352885583386\n",
      "Score combination: 0.343063603456\n",
      "Features combination: 0.344205958163\n",
      "\n",
      "\n",
      "Phone: p\n",
      "Supervectors: 0.296693498787\n",
      "Score combination: 0.296310046032\n",
      "Features combination: 0.295565597104\n",
      "\n",
      "\n",
      "Phone: D\n",
      "Supervectors: 0.181474117667\n",
      "Score combination: 0.180636090639\n",
      "Features combination: 0.181620019696\n",
      "\n",
      "\n",
      "Phone: y\n",
      "Supervectors: 0.336179979312\n",
      "Score combination: 0.300342832774\n",
      "Features combination: 0.303978351259\n",
      "\n",
      "\n",
      "Phone: k\n",
      "Supervectors: 0.34129549894\n",
      "Score combination: 0.332210414698\n",
      "Features combination: 0.333065788484\n",
      "\n",
      "\n",
      "Phone: m\n",
      "Supervectors: 0.154320043112\n",
      "Score combination: 0.142778749817\n",
      "Features combination: 0.141262034797\n",
      "\n",
      "\n",
      "Phone: t\n",
      "Supervectors: 0.293602809196\n",
      "Score combination: 0.288673465036\n",
      "Features combination: 0.289350523596\n",
      "\n",
      "\n",
      "Phone: l\n",
      "Supervectors: 0.279568724703\n",
      "Score combination: 0.268637859357\n",
      "Features combination: 0.267453180336\n",
      "\n",
      "\n",
      "Phone: i\n",
      "Supervectors: 0.253965873161\n",
      "Score combination: 0.250094282549\n",
      "Features combination: 0.249824607393\n",
      "\n",
      "\n",
      "Phone: r\n",
      "Supervectors: 0.316214806445\n",
      "Score combination: 0.312688887568\n",
      "Features combination: 0.312080230823\n",
      "\n",
      "\n",
      "Phone: n\n",
      "Supervectors: 0.42248588408\n",
      "Score combination: 0.410166149351\n",
      "Features combination: 0.396450133655\n",
      "\n",
      "\n",
      "Phone: s\n",
      "Supervectors: 0.32577981078\n",
      "Score combination: 0.29578527118\n",
      "Features combination: 0.282973228123\n",
      "\n",
      "\n",
      "Phone: o\n",
      "Supervectors: 0.409910694706\n",
      "Score combination: 0.395774141137\n",
      "Features combination: 0.399249097832\n",
      "\n",
      "\n",
      "Phone: a\n",
      "Supervectors: 0.347948372274\n",
      "Score combination: 0.339262176238\n",
      "Features combination: 0.346156899125\n",
      "\n",
      "\n",
      "Phone: e\n",
      "Supervectors: 0.400392495985\n",
      "Score combination: 0.388347354797\n",
      "Features combination: 0.388279211626\n",
      "\n",
      "\n"
     ]
    }
   ],
   "source": [
    "for phoneme in phonemes:\n",
    "    print \"Phone: \" + phoneme\n",
    "    print \"Supervectors: \" + str(np.mean(supervectors[phoneme]))\n",
    "    print \"Score combination: \" + str(np.mean(score_combination[phoneme]))\n",
    "    print \"Features combination: \" + str(np.mean(features_combination[phoneme]))\n",
    "    print \"\\n\""
   ]
  },
  {
   "cell_type": "markdown",
   "metadata": {},
   "source": [
    "# Histograms"
   ]
  },
  {
   "cell_type": "code",
   "execution_count": 183,
   "metadata": {
    "collapsed": true
   },
   "outputs": [],
   "source": [
    "def text_for_delta(number):\n",
    "    if number > 0:\n",
    "        return \"improvement\"\n",
    "    else:\n",
    "        return \"degradation\""
   ]
  },
  {
   "cell_type": "code",
   "execution_count": 184,
   "metadata": {
    "collapsed": true
   },
   "outputs": [],
   "source": [
    "def plot_and_save_histogram(supervectors, score_combination, phoneme, label, title_info, output_filename=None):\n",
    "    n_bins = 30\n",
    "    #counts_positives_negatives, bins_positives_negatives, patches_positives_negatives = plt.hist(positives_negatives_distances, n_bins)\n",
    "    counts_both, bins_both, _ = plt.hist(supervectors + score_combination, n_bins)\n",
    "\n",
    "    ################\n",
    "    # SUPERVECTORS # \n",
    "    ################\n",
    "\n",
    "    n_supervectors, bins_supervectors, _ = plt.hist(supervectors, bins=bins_both)\n",
    "    plt.clf()\n",
    "    #normalized_positives = n_positives/total_positives\n",
    "\n",
    "    #####################\n",
    "    # SCORE COMBINATION #\n",
    "    #####################\n",
    "\n",
    "    n_score_combination, bins_score_combination, _ = plt.hist(score_combination, bins=bins_both)\n",
    "    #normalized_negatives = n_negatives/total_negatives\n",
    "\n",
    "    fixed_bins = []\n",
    "    for i in range(0, len(bins_both) - 1):\n",
    "        mean = (bins_both[i] + bins_both[i+1]) / 2\n",
    "        fixed_bins.append(mean)\n",
    "\n",
    "    plt.clf()\n",
    "    \n",
    "    supervectors_mean = np.mean(supervectors)\n",
    "    combination_mean = np.mean(score_combination)\n",
    "    delta = (supervectors_mean - combination_mean) / supervectors_mean\n",
    "    delta_text = \"%.2f\" % np.abs(delta) + \"% \" #+ text_for_delta(delta)\n",
    "    p_value_text = \"P-value: \" + title_info['p-value']\n",
    "    positive_negatives_text = \"Positives: \" + title_info['n_positives'] + \", Negatives: \" + title_info['n_negatives']\n",
    "    plt.title(\"'\" + phoneme + \"', \" + delta_text + \", \" + p_value_text + \", \" + positive_negatives_text )\n",
    "    #plt.figure(figsize= (22,7))\n",
    "    plt.plot(fixed_bins, n_supervectors, color=\"blue\", label=\"supervectors\")   \n",
    "    plt.plot(fixed_bins, n_score_combination, color=\"red\", label= label)\n",
    "    plt.axvline(x=supervectors_mean, linestyle=\"--\", linewidth=0.5, color=\"blue\")\n",
    "    plt.axvline(x=combination_mean, linestyle=\"--\", linewidth=0.5, color=\"red\")\n",
    "    plt.legend()\n",
    "    plt.xticks(fixed_bins, rotation='vertical')\n",
    "    plt.tight_layout()\n",
    "    plt.xlabel(\"EER\")\n",
    "    plt.ylabel(\"count\")\n",
    "    if output_filename:\n",
    "        plt.savefig(output_filename)\n",
    "    plt.show()\n"
   ]
  },
  {
   "cell_type": "code",
   "execution_count": 185,
   "metadata": {
    "collapsed": true
   },
   "outputs": [],
   "source": [
    "def barplot(supervectors, eers):\n",
    "    eers = np.array(eers)\n",
    "    trimmed_eers = eers\n",
    "    n_instances = eers.shape[0]\n",
    "    n_trim_each_tail = int((2.5 * 1000) / 100)\n",
    "    trimmed_eers = np.sort(eers)\n",
    "    trimmed_eers = trimmed_eers[n_trim_each_tail: -n_trim_each_tail]\n",
    "    mean = np.mean(eers)\n",
    "    min_error = np.abs(mean - np.min(trimmed_eers))\n",
    "    max_error = np.abs(mean - np.max(trimmed_eers))\n",
    "    \n",
    "    supervectors = np.array(supervectors)\n",
    "    trimmed_supervectors = supervectors\n",
    "    n_instances = supervectors.shape[0]\n",
    "    n_trim_each_tail = int((2.5 * 1000) / 100)\n",
    "    trimmed_supervectors = np.sort(supervectors)\n",
    "    trimmed_supervectors = trimmed_supervectors[n_trim_each_tail: -n_trim_each_tail]\n",
    "    mean_supervectors = np.mean(supervectors)\n",
    "    min_error_supervectors = np.abs(mean_supervectors - np.min(trimmed_supervectors))\n",
    "    max_error_supervectors = np.abs(mean_supervectors - np.max(trimmed_supervectors))\n",
    "    \n",
    "    plt.bar([1], [mean], width=0.5, yerr=[[min_error],[max_error]], capsize=7)\n",
    "    plt.bar([2], [mean_supervectors], width=0.5, yerr=[[min_error_supervectors],[max_error_supervectors]], capsize=7)\n",
    "    plt.show()"
   ]
  },
  {
   "cell_type": "markdown",
   "metadata": {},
   "source": [
    "# Barplot"
   ]
  },
  {
   "cell_type": "code",
   "execution_count": 199,
   "metadata": {
    "collapsed": true
   },
   "outputs": [],
   "source": [
    "phonemes_by_kappa = [\"b\", \"m\", \"B\", \"s\", \"D\", \"G\", \"w\", \"i\", \"y\", \"p\", \"r\", \"z\", \"t\", \"k\", \"rr\", \"a\", \"o\", \"l\", \"e\", \"n\", \"u\", \"c\", \"x\", \"d\", \"g\", \"N\"]"
   ]
  },
  {
   "cell_type": "code",
   "execution_count": 200,
   "metadata": {
    "collapsed": true
   },
   "outputs": [],
   "source": [
    "def calculate_tuple(eers):\n",
    "    eers = np.array(eers)\n",
    "    trimmed_eers = eers\n",
    "    n_instances = eers.shape[0]\n",
    "    n_trim_each_tail = int((2.5 * n_instances) / 100)\n",
    "    trimmed_eers = np.sort(eers)\n",
    "    trimmed_eers = trimmed_eers[n_trim_each_tail: -n_trim_each_tail]\n",
    "    mean = np.mean(eers)\n",
    "    min_error = np.abs(mean - np.min(trimmed_eers))\n",
    "    max_error = np.abs(mean - np.max(trimmed_eers))\n",
    "    return {\"mean\": mean, \"min\": min_error, \"max\": max_error}"
   ]
  },
  {
   "cell_type": "code",
   "execution_count": 201,
   "metadata": {
    "collapsed": true
   },
   "outputs": [],
   "source": [
    "def empty_model_entry():\n",
    "    return {\"mean\": None, \"min\": None, \"max\": None}"
   ]
  },
  {
   "cell_type": "code",
   "execution_count": 202,
   "metadata": {
    "collapsed": true
   },
   "outputs": [],
   "source": [
    "barplot_values = [{\"supervectors\": empty_model_entry(), \"features_combination\": empty_model_entry(), \"score_combination\": empty_model_entry()} for p in phonemes]\n",
    "barplot_dicc = dict(zip(phonemes_by_kappa, barplot_values))"
   ]
  },
  {
   "cell_type": "code",
   "execution_count": 247,
   "metadata": {
    "collapsed": true
   },
   "outputs": [],
   "source": [
    "def plot_barplots(phonemes, title, filename=None):\n",
    "    for p in phonemes:\n",
    "        barplot_dicc[p][\"supervectors\"] = calculate_tuple(supervectors[p])\n",
    "        barplot_dicc[p][\"features_combination\"] = calculate_tuple(features_combination[p])\n",
    "        barplot_dicc[p][\"score_combination\"] = calculate_tuple(score_combination[p])\n",
    "        \n",
    "    min_yerr_supervectors = [barplot_dicc[p][\"supervectors\"][\"min\"] for p in phonemes]\n",
    "    max_yerr_supervectors = [barplot_dicc[p][\"supervectors\"][\"max\"] for p in phonemes]\n",
    "\n",
    "    min_yerr_features_combination = [barplot_dicc[p][\"features_combination\"][\"min\"] for p in phonemes]\n",
    "    max_yerr_features_combination = [barplot_dicc[p][\"features_combination\"][\"max\"] for p in phonemes]\n",
    "\n",
    "    min_yerr_score_combination = [barplot_dicc[p][\"score_combination\"][\"min\"] for p in phonemes]\n",
    "    max_yerr_score_combination = [barplot_dicc[p][\"score_combination\"][\"max\"] for p in phonemes]\n",
    "    \n",
    "    barWidth = 0.4\n",
    "    xs_1 = np.arange(len(phonemes)) * 1.6\n",
    "    xs_2 = [x + barWidth for x in xs_1]\n",
    "    xs_3 = [x + 2*barWidth for x in xs_1]\n",
    "\n",
    "    ys_1 = [barplot_dicc[p][\"supervectors\"][\"mean\"] for p in phonemes]\n",
    "    ys_2 = [barplot_dicc[p][\"features_combination\"][\"mean\"] for p in phonemes]\n",
    "    ys_3 = [barplot_dicc[p][\"score_combination\"][\"mean\"] for p in phonemes]\n",
    "    plt.bar(xs_1, ys_1, width=barWidth, color=\"blue\", yerr=[min_yerr_supervectors, max_yerr_supervectors], capsize=2, label=\"supervectors\")\n",
    "    plt.bar(xs_2, ys_2, width=barWidth, color=\"violet\", yerr=[min_yerr_features_combination, max_yerr_features_combination], capsize=2, label=\"features combination\")\n",
    "    plt.bar(xs_3, ys_3, width=barWidth, color=\"red\", yerr=[min_yerr_score_combination, max_yerr_score_combination], capsize=2, label=\"score combination\")\n",
    "    plt.xticks(xs_2, phonemes)\n",
    "    plt.legend(loc=\"lower left\")\n",
    "    plt.title(title)\n",
    "    plt.savefig(filename)\n",
    "    plt.show()"
   ]
  },
  {
   "cell_type": "code",
   "execution_count": 240,
   "metadata": {},
   "outputs": [
    {
     "data": {
      "image/png": "[encoded data removed]",
      "text/plain": [
       "<matplotlib.figure.Figure at 0x10929dc10>"
      ]
     },
     "metadata": {},
     "output_type": "display_data"
    }
   ],
   "source": [
    "title = \"Dev results. First thirteen phonemes\"\n",
    "output_filename = barplots_dir + \"dev_part_1\"\n",
    "plot_barplots(phonemes_by_kappa[:13], title, filename=output_filename)"
   ]
  },
  {
   "cell_type": "code",
   "execution_count": 248,
   "metadata": {},
   "outputs": [
    {
     "data": {
      "image/png": "[encoded data removed]",
      "text/plain": [
       "<matplotlib.figure.Figure at 0x109803850>"
      ]
     },
     "metadata": {},
     "output_type": "display_data"
    }
   ],
   "source": [
    "title = \"Dev results. Last thirteen phonemes\"\n",
    "output_filename = barplots_dir + \"dev_part_2\"\n",
    "plot_barplots(phonemes_by_kappa[13:], title, filename=output_filename)"
   ]
  },
  {
   "cell_type": "code",
   "execution_count": 244,
   "metadata": {},
   "outputs": [
    {
     "data": {
      "image/png": "[encoded data removed]",
      "text/plain": [
       "<matplotlib.figure.Figure at 0x10aa76a50>"
      ]
     },
     "metadata": {},
     "output_type": "display_data"
    }
   ],
   "source": [
    "title = \"Dev results\"\n",
    "output_filename = barplots_dir + \"dev_all\"\n",
    "plot_barplots(phonemes_by_kappa, title, filename=output_filename)"
   ]
  },
  {
   "cell_type": "code",
   "execution_count": 203,
   "metadata": {},
   "outputs": [],
   "source": [
    "for p in phonemes_by_kappa:\n",
    "    barplot_dicc[p][\"supervectors\"] = calculate_tuple(supervectors[p])\n",
    "    barplot_dicc[p][\"features_combination\"] = calculate_tuple(features_combination[p])\n",
    "    barplot_dicc[p][\"score_combination\"] = calculate_tuple(score_combination[p])"
   ]
  },
  {
   "cell_type": "code",
   "execution_count": 204,
   "metadata": {
    "collapsed": true
   },
   "outputs": [],
   "source": [
    "min_yerr_supervectors = [barplot_dicc[p][\"supervectors\"][\"min\"] for p in phonemes]\n",
    "max_yerr_supervectors = [barplot_dicc[p][\"supervectors\"][\"max\"] for p in phonemes]\n",
    "\n",
    "min_yerr_features_combination = [barplot_dicc[p][\"features_combination\"][\"min\"] for p in phonemes]\n",
    "max_yerr_features_combination = [barplot_dicc[p][\"features_combination\"][\"max\"] for p in phonemes]\n",
    "\n",
    "min_yerr_score_combination = [barplot_dicc[p][\"score_combination\"][\"min\"] for p in phonemes]\n",
    "max_yerr_score_combination = [barplot_dicc[p][\"score_combination\"][\"max\"] for p in phonemes]"
   ]
  },
  {
   "cell_type": "code",
   "execution_count": 205,
   "metadata": {},
   "outputs": [
    {
     "data": {
      "image/png": "[encoded data removed]",
      "text/plain": [
       "<matplotlib.figure.Figure at 0x10aa92090>"
      ]
     },
     "metadata": {},
     "output_type": "display_data"
    }
   ],
   "source": [
    "barWidth = 0.4\n",
    "xs_1 = np.arange(len(phonemes)) * 1.6\n",
    "xs_2 = [x + barWidth for x in xs_1]\n",
    "xs_3 = [x + 2*barWidth for x in xs_1]\n",
    "\n",
    "ys_1 = [barplot_dicc[p][\"supervectors\"][\"mean\"] for p in phonemes]\n",
    "ys_2 = [barplot_dicc[p][\"features_combination\"][\"mean\"] for p in phonemes]\n",
    "ys_3 = [barplot_dicc[p][\"score_combination\"][\"mean\"] for p in phonemes]\n",
    "plt.bar(xs_1, ys_1, width=barWidth, color=\"blue\", yerr=[min_yerr_supervectors, max_yerr_supervectors], capsize=2)\n",
    "plt.bar(xs_2, ys_2, width=barWidth, color=\"violet\", yerr=[min_yerr_features_combination, max_yerr_features_combination], capsize=2)\n",
    "plt.bar(xs_3, ys_3, width=barWidth, color=\"red\", yerr=[min_yerr_score_combination, max_yerr_score_combination], capsize=2)\n",
    "plt.show()"
   ]
  },
  {
   "cell_type": "markdown",
   "metadata": {},
   "source": [
    "# Score combination"
   ]
  },
  {
   "cell_type": "code",
   "execution_count": 83,
   "metadata": {
    "collapsed": true
   },
   "outputs": [],
   "source": [
    "positives_dict, negatives_dict = load_positives_negatives_dict()"
   ]
  },
  {
   "cell_type": "code",
   "execution_count": 98,
   "metadata": {},
   "outputs": [
    {
     "name": "stdout",
     "output_type": "stream",
     "text": [
      "/Users/lmatayoshi/Documents/Projects/tesis_notebooks/final_experiments/dev/plots/score_combination/s\n"
     ]
    },
    {
     "data": {
      "image/png": "[encoded data removed]",
      "text/plain": [
       "<matplotlib.figure.Figure at 0x10945b550>"
      ]
     },
     "metadata": {},
     "output_type": "display_data"
    }
   ],
   "source": [
    "for p in phonemes:\n",
    "    output_phoneme = p\n",
    "    if p in ['g', 'y', 'd', 'b', 'n']:\n",
    "        output_phoneme = p + \"_lowercase\"\n",
    "    output_filename = score_combination_plots_dir + output_phoneme\n",
    "    print output_filename\n",
    "    title_info = {\n",
    "        'n_positives': positives_dict[p], \n",
    "        'n_negatives': negatives_dict[p], \n",
    "        'p-value': pvalues_score_combination_dict[p]\n",
    "    }\n",
    "    plot_and_save_histogram(supervectors[p], score_combination[p], p, \"score_combination\", title_info, output_filename=output_filename)"
   ]
  },
  {
   "cell_type": "markdown",
   "metadata": {},
   "source": [
    "# Features combination"
   ]
  },
  {
   "cell_type": "code",
   "execution_count": 33,
   "metadata": {},
   "outputs": [
    {
     "name": "stdout",
     "output_type": "stream",
     "text": [
      "/Users/lmatayoshi/Documents/Projects/tesis_notebooks/final_experiments/dev/plots/features_combination/s\n"
     ]
    },
    {
     "data": {
      "image/png": "[encoded data removed]",
      "text/plain": [
       "<matplotlib.figure.Figure at 0x10986db50>"
      ]
     },
     "metadata": {},
     "output_type": "display_data"
    }
   ],
   "source": [
    "for p in phonemes:\n",
    "    output_phoneme = p\n",
    "    if p in ['g', 'y', 'd', 'b', 'n']:\n",
    "        output_phoneme = p + \"_lowercase\"\n",
    "    output_filename = features_combination_plots_dir + output_phoneme\n",
    "    print output_filename\n",
    "    title_info = {\n",
    "        'n_positives': positives_dict[p], \n",
    "        'n_negatives': negatives_dict[p], \n",
    "        'p-value': pvalues_features_combination_dict[p]\n",
    "    }\n",
    "    plot_and_save_histogram(supervectors[p], features_combination[p], p, \"features_combination\", title_info, output_filename=output_filename)"
   ]
  },
  {
   "cell_type": "code",
   "execution_count": null,
   "metadata": {
    "collapsed": true
   },
   "outputs": [],
   "source": []
  }
 ],
 "metadata": {
  "kernelspec": {
   "display_name": "Python 2",
   "language": "python",
   "name": "python2"
  },
  "language_info": {
   "codemirror_mode": {
    "name": "ipython",
    "version": 2
   },
   "file_extension": ".py",
   "mimetype": "text/x-python",
   "name": "python",
   "nbconvert_exporter": "python",
   "pygments_lexer": "ipython2",
   "version": "2.7.10"
  }
 },
 "nbformat": 4,
 "nbformat_minor": 1
}
