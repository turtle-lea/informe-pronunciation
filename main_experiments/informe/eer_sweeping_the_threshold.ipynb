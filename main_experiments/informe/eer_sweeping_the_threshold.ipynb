{
 "cells": [
  {
   "cell_type": "code",
   "execution_count": 2,
   "metadata": {
    "collapsed": true
   },
   "outputs": [],
   "source": [
    "import matplotlib.pyplot as plt\n",
    "import numpy as np\n",
    "import seaborn as sns"
   ]
  },
  {
   "cell_type": "markdown",
   "metadata": {},
   "source": [
    "The idea is drawing two overlapping distributions.\n",
    "\n",
    "Strategies? Cómo las modelo?\n",
    "Cómo hago un histograma acorde a una distribución normal?\n",
    "Cómo coloreo una distribución normal?\n",
    "\n",
    "Probablemente funcione el fill_between\n",
    "\n",
    "Probar ax.fill"
   ]
  },
  {
   "cell_type": "code",
   "execution_count": 183,
   "metadata": {},
   "outputs": [],
   "source": [
    "def normal_distribution(mu, sigma):\n",
    "    return lambda x: 1 / (np.sqrt(2*np.pi*(sigma**2))) * np.e ** ((-(x - mu)**2)/(2*sigma**2))"
   ]
  },
  {
   "cell_type": "code",
   "execution_count": 184,
   "metadata": {
    "collapsed": true
   },
   "outputs": [],
   "source": [
    "def normalize_rbg(c):\n",
    "    #acum = c[0] + c[1] + c[2] \n",
    "    acum = max(c)\n",
    "    return (float(c[0]/acum), float(c[1]/acum), float(c[2]/acum))"
   ]
  },
  {
   "cell_type": "code",
   "execution_count": 252,
   "metadata": {
    "collapsed": true
   },
   "outputs": [],
   "source": [
    "def combine_colors(c1, c2):\n",
    "    #new_color = (2*c1[0] + c2[0], 2*c1[1] + c2[1], 2*c1[2] + c2[2])\n",
    "    new_color = (5*c1[0] + 4*c2[0], 5*c1[1] + 4*c2[1], 5*c1[2] + 4*c2[2])\n",
    "    return normalize_rbg(new_color)"
   ]
  },
  {
   "cell_type": "code",
   "execution_count": 240,
   "metadata": {
    "collapsed": true
   },
   "outputs": [],
   "source": [
    "def combine_colors_equally(c1, c2):\n",
    "    new_color = (c1[0] + c2[0], c1[1] + c2[1], c1[2] + c2[2])\n",
    "    return normalize_rbg(new_color)"
   ]
  },
  {
   "cell_type": "code",
   "execution_count": 241,
   "metadata": {
    "collapsed": true
   },
   "outputs": [],
   "source": [
    "n1 = normal_distribution(0.3, 0.15)\n",
    "n2 = normal_distribution(0.7, 0.15)"
   ]
  },
  {
   "cell_type": "markdown",
   "metadata": {},
   "source": [
    "# Main plot"
   ]
  },
  {
   "cell_type": "code",
   "execution_count": 298,
   "metadata": {
    "collapsed": true
   },
   "outputs": [],
   "source": [
    "destination_folder = \"/Users/lmatayoshi/Desktop/plots_comparativos/\"\n",
    "destination_filename = destination_folder + \"eer\""
   ]
  },
  {
   "cell_type": "code",
   "execution_count": 275,
   "metadata": {
    "collapsed": true
   },
   "outputs": [],
   "source": [
    "xs = np.linspace(0.0001, 0.999, 500)\n",
    "true_negatives_ys = n1(xs)\n",
    "true_positives_ys = n2(xs)\n",
    "xs = np.insert(xs, 0, 0)\n",
    "xs = np.append(xs, 1)\n",
    "true_negatives_ys = np.insert(true_negatives_ys, 0, 0)\n",
    "true_negatives_ys = np.append(true_negatives_ys, 0)\n",
    "true_positives_ys = np.insert(true_positives_ys, 0, 0)\n",
    "true_positives_ys = np.append(true_positives_ys, 0)"
   ]
  },
  {
   "cell_type": "code",
   "execution_count": 276,
   "metadata": {
    "collapsed": true
   },
   "outputs": [],
   "source": [
    "false_negatives_xs = np.linspace(0.2, 0.5, 100)\n",
    "false_negatives_ys = n2(false_negatives_xs)\n",
    "false_negatives_zeros = np.zeros(false_negatives_ys.shape[0])"
   ]
  },
  {
   "cell_type": "code",
   "execution_count": 277,
   "metadata": {
    "collapsed": true
   },
   "outputs": [],
   "source": [
    "false_positives_xs = np.linspace(0.5, 0.8, 100)\n",
    "false_positives_ys = n1(false_positives_xs)\n",
    "false_positives_zeros = np.zeros(false_positives_ys.shape[0])"
   ]
  },
  {
   "cell_type": "code",
   "execution_count": 278,
   "metadata": {},
   "outputs": [],
   "source": [
    "palette = sns.color_palette(\"hls\", 8)\n",
    "red = palette[0]\n",
    "blue = palette[5]"
   ]
  },
  {
   "cell_type": "code",
   "execution_count": 279,
   "metadata": {
    "collapsed": true
   },
   "outputs": [],
   "source": [
    "blue=\"#3498db\"\n",
    "red=\"#e74c3c\""
   ]
  },
  {
   "cell_type": "code",
   "execution_count": 286,
   "metadata": {
    "collapsed": true
   },
   "outputs": [],
   "source": [
    "blue=(52.0, 152.0, 219.0)\n",
    "blue_alternative=(155, 89, 182)\n",
    "blue=normalize_rbg(blue)\n",
    "red=(231, 76, 60)\n",
    "red=normalize_rbg(red)"
   ]
  },
  {
   "cell_type": "code",
   "execution_count": 291,
   "metadata": {},
   "outputs": [],
   "source": [
    "false_negatives_color = combine_colors(red, blue)\n",
    "#false_positives_color = combine_colors(blue,red)\n",
    "#false_positives_color = combine_colors(blue_alternative, red)\n",
    "false_positives_color = combine_colors_equally(red, blue_alternative)"
   ]
  },
  {
   "cell_type": "code",
   "execution_count": 302,
   "metadata": {},
   "outputs": [
    {
     "data": {
      "image/png": "[encoded data removed]",
      "text/plain": [
       "<matplotlib.figure.Figure at 0x112623710>"
      ]
     },
     "metadata": {},
     "output_type": "display_data"
    }
   ],
   "source": [
    "sns.set(style=\"whitegrid\")\n",
    "\n",
    "fig = plt.figure(figsize=(10,5))\n",
    "ax = plt.subplot(111)\n",
    "\n",
    "ax.fill(xs, true_negatives_ys, color=blue, label=\"True Negatives\")\n",
    "ax.fill_between(false_positives_xs, false_positives_zeros, false_positives_ys, color=false_positives_color, zorder=2, label=\"False Positives\")\n",
    "ax.fill(xs, true_positives_ys, color=red, label=\"True Positives\")\n",
    "ax.fill_between(false_negatives_xs, false_negatives_zeros, false_negatives_ys, color=false_negatives_color, zorder=2, label=\"False Negatives\")\n",
    "ax.axvline(x=0.5, color=\"black\", linestyle=\"--\", linewidth=0.9)\n",
    "\n",
    "box = ax.get_position()\n",
    "ax.set_position([box.x0, box.y0, box.width * 0.75, box.height])\n",
    "ax.legend(loc='center left', bbox_to_anchor=(1., 0.5))\n",
    "plt.xlabel(\"Domain of decision function\")\n",
    "plt.ylabel(\"Normalized count\")\n",
    "plt.savefig(destination_filename)\n",
    "plt.show()"
   ]
  },
  {
   "cell_type": "code",
   "execution_count": 52,
   "metadata": {},
   "outputs": [
    {
     "data": {
      "text/plain": [
       "5"
      ]
     },
     "execution_count": 52,
     "metadata": {},
     "output_type": "execute_result"
    }
   ],
   "source": [
    "sns.set(style=\"white\", palette=\"hls\")\n",
    "\n",
    "fig = plt.figure(figsize=(10,5))\n",
    "ax = plt.subplot(111)\n",
    "\n",
    "ax.plot(xs, ys_l0, label=\"P0: Degree 0\")\n",
    "ax.plot(xs, ys_l1, label=\"P1: Degree 1\")\n",
    "ax.plot(xs, ys_l2, label=\"P2: Degree 2\")\n",
    "ax.plot(xs, ys_l3, label=\"P3: Degree 3\")\n",
    "ax.plot(xs, ys_l4, label=\"P4: Degree 4\")\n",
    "ax.axvline(x=0, linestyle=\"--\", color=\"black\", linewidth=0.6)\n",
    "ax.axhline(y=0, linestyle=\"--\", color=\"black\", linewidth=0.6)\n",
    "\n",
    "# Shrink current axis by 20%\n",
    "box = ax.get_position()\n",
    "ax.set_position([box.x0, box.y0, box.width * 0.75, box.height])\n",
    "\n",
    "ax.legend(loc='center left', bbox_to_anchor=(1., 0.5))\n",
    "plt.xticks([-1,-0.5, 0, 0.5, 1])\n",
    "plt.yticks([-1,-0.5, 0, 0.5, 1])\n",
    "plt.xlabel(\"x (time)\")\n",
    "plt.ylabel(\"y\")\n",
    "plt.savefig(destination_folder + \"legendre\")\n",
    "plt.show()"
   ]
  },
  {
   "cell_type": "markdown",
   "metadata": {},
   "source": [
    "## Ejemplo usando fill_between con normal distributions"
   ]
  },
  {
   "cell_type": "code",
   "execution_count": 47,
   "metadata": {
    "collapsed": true
   },
   "outputs": [],
   "source": [
    "xs_1 = [0, 1, 2, 2.5]\n",
    "ys_1 = [0, 1, 2, 2]\n",
    "#fig, ax = plt.subplots()\n",
    "#xs_2 = [2]\n",
    "#ys_2 = [3]"
   ]
  },
  {
   "cell_type": "code",
   "execution_count": 48,
   "metadata": {},
   "outputs": [
    {
     "data": {
      "image/png": "[encoded data removed]",
      "text/plain": [
       "<matplotlib.figure.Figure at 0x113049810>"
      ]
     },
     "metadata": {},
     "output_type": "display_data"
    }
   ],
   "source": [
    "#plt.plot(xs,ys)\n",
    "plt.fill(xs_1, ys_1, \"r\")\n",
    "plt.show()"
   ]
  },
  {
   "cell_type": "code",
   "execution_count": 42,
   "metadata": {},
   "outputs": [
    {
     "data": {
      "image/png": "[encoded data removed]",
      "text/plain": [
       "<matplotlib.figure.Figure at 0x1121d29d0>"
      ]
     },
     "metadata": {},
     "output_type": "display_data"
    }
   ],
   "source": [
    "x = np.linspace(-1, 1, 500)\n",
    "fig, ax = plt.subplots()\n",
    "\n",
    "#ax.plot(x,x) \n",
    "ax.fill(x, x, \"r\")\n",
    "plt.show()"
   ]
  },
  {
   "cell_type": "code",
   "execution_count": 17,
   "metadata": {},
   "outputs": [
    {
     "data": {
      "image/png": "[encoded data removed]",
      "text/plain": [
       "<matplotlib.figure.Figure at 0x11225dd50>"
      ]
     },
     "metadata": {},
     "output_type": "display_data"
    }
   ],
   "source": [
    "x = np.linspace(0, 1, 500)\n",
    "y = np.sin(4 * np.pi * x) * np.exp(-5 * x)\n",
    "\n",
    "fig, ax = plt.subplots()\n",
    "\n",
    "ax.fill(x, y, zorder=10)\n",
    "ax.grid(True, zorder=5)\n",
    "plt.show()"
   ]
  },
  {
   "cell_type": "code",
   "execution_count": null,
   "metadata": {
    "collapsed": true
   },
   "outputs": [],
   "source": []
  }
 ],
 "metadata": {
  "kernelspec": {
   "display_name": "Python 2",
   "language": "python",
   "name": "python2"
  },
  "language_info": {
   "codemirror_mode": {
    "name": "ipython",
    "version": 2
   },
   "file_extension": ".py",
   "mimetype": "text/x-python",
   "name": "python",
   "nbconvert_exporter": "python",
   "pygments_lexer": "ipython2",
   "version": "2.7.10"
  }
 },
 "nbformat": 4,
 "nbformat_minor": 2
}
