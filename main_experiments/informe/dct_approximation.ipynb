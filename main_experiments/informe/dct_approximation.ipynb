{
 "cells": [
  {
   "cell_type": "code",
   "execution_count": 98,
   "metadata": {
    "collapsed": true
   },
   "outputs": [],
   "source": [
    "import seaborn as sns\n",
    "import numpy as np\n",
    "import matplotlib.pyplot as plt\n",
    "from scipy.fftpack import dct\n",
    "from scipy.fftpack import idct"
   ]
  },
  {
   "cell_type": "markdown",
   "metadata": {},
   "source": [
    "Documentación:\n",
    "\n",
    "https://docs.scipy.org/doc/scipy-0.18.1/reference/generated/scipy.fftpack.dct.html\n",
    "\n",
    "https://en.wikipedia.org/wiki/Discrete_cosine_transform#DCT-II"
   ]
  },
  {
   "cell_type": "code",
   "execution_count": 131,
   "metadata": {
    "collapsed": true
   },
   "outputs": [],
   "source": [
    "pi = np.pi\n",
    "cos = np.cos"
   ]
  },
  {
   "cell_type": "code",
   "execution_count": 132,
   "metadata": {
    "collapsed": true
   },
   "outputs": [],
   "source": [
    "# Forma manual de recuperar los puntos originales a partir de los coeficientes. Es correcta?\n",
    "# Los coeficientes son las amplitudes?\n",
    "def manual_approximation(t, coeffs):\n",
    "    accum = np.ones(t.shape[0]) * coeffs[0]\n",
    "    for i in range(1, len(coeffs)):\n",
    "        accum += coeffs[i] * np.cos(2*pi*i*t)\n",
    "    return accum / len(coeffs)"
   ]
  },
  {
   "cell_type": "code",
   "execution_count": 133,
   "metadata": {
    "collapsed": true
   },
   "outputs": [],
   "source": [
    "def cosine(t):\n",
    "    f=1\n",
    "    return cos(2*pi*f*t)"
   ]
  },
  {
   "cell_type": "code",
   "execution_count": 188,
   "metadata": {
    "collapsed": true
   },
   "outputs": [],
   "source": [
    "# times and values para coseno de frecuencia 1\n",
    "ts = np.linspace(0, 1.0, 7)[:-1]\n",
    "ys = cosine(ts)"
   ]
  },
  {
   "cell_type": "code",
   "execution_count": 189,
   "metadata": {},
   "outputs": [
    {
     "data": {
      "image/png": "[encoded data removed]",
      "text/plain": [
       "<matplotlib.figure.Figure at 0x10e049c10>"
      ]
     },
     "metadata": {},
     "output_type": "display_data"
    }
   ],
   "source": [
    "sns.set(style=\"whitegrid\")\n",
    "plt.plot(ts, ys, color=\"black\", linewidth=0.75)\n",
    "plt.plot(ts, ys, marker=\"o\", color=\"black\", linewidth=0.75, label=\"Original points\")\n",
    "plt.legend()\n",
    "plt.show()"
   ]
  },
  {
   "cell_type": "markdown",
   "metadata": {},
   "source": [
    "# DCT approximation"
   ]
  },
  {
   "cell_type": "markdown",
   "metadata": {},
   "source": [
    "Al final me confundí. DCT sí permite especificar la cantidad de coeficientes. En este caso elijo n=2. Posteriormente\n",
    "obtengo valores de los coeficientes que no entiendo. Hubiera esperado que fueran [0., 1.], porque la función es un coseno con f=1.\n",
    "También está la opción de aplicar una normalización ortonormal, que no entiendo del todo el uso"
   ]
  },
  {
   "cell_type": "code",
   "execution_count": 190,
   "metadata": {},
   "outputs": [
    {
     "name": "stdout",
     "output_type": "stream",
     "text": [
      "[ 3.          0.70710678]\n"
     ]
    }
   ],
   "source": [
    "dct_coeffs = dct(ys, n=2)\n",
    "print dct_coeffs"
   ]
  },
  {
   "cell_type": "markdown",
   "metadata": {},
   "source": [
    "Genero 20 puntos usando IDCT (caja negra) y los coefficients que acabo de calcular"
   ]
  },
  {
   "cell_type": "code",
   "execution_count": 174,
   "metadata": {
    "collapsed": true
   },
   "outputs": [],
   "source": [
    "idct_ys = idct(dct_coeffs, n=20)\n",
    "idct_ts = np.linspace(0, 1.0, idct_ys.shape[0])"
   ]
  },
  {
   "cell_type": "markdown",
   "metadata": {},
   "source": [
    "Alternativamente, hago una aproximación manual (porque imagino que funciona de esta manera o similar). Uso los coefficientes para generar términos de la pinta res += A * cos(2 pi f t). Es decir, los uso como amplitudes. Es correcto eso?"
   ]
  },
  {
   "cell_type": "code",
   "execution_count": 171,
   "metadata": {
    "collapsed": true
   },
   "outputs": [],
   "source": [
    "manual_ys = manual_approximation(ts, dct_coeffs)"
   ]
  },
  {
   "cell_type": "markdown",
   "metadata": {},
   "source": [
    "Ninguna de las 2 alternativas me sirve para recuperar los puntos originales: \n",
    "Los coeficientes que devuelve la función dct son las amplitudes de las frecuencias según los índices? O son otra cosa?"
   ]
  },
  {
   "cell_type": "code",
   "execution_count": 172,
   "metadata": {},
   "outputs": [
    {
     "data": {
      "image/png": "[encoded data removed]",
      "text/plain": [
       "<matplotlib.figure.Figure at 0x10e758590>"
      ]
     },
     "metadata": {},
     "output_type": "display_data"
    }
   ],
   "source": [
    "sns.set(style=\"whitegrid\")\n",
    "plt.plot(ts, ys, color=\"black\", linewidth=0.75)\n",
    "plt.plot(ts, ys, marker=\"o\", color=\"black\", linewidth=0.75, label=\"Original points\")\n",
    "plt.plot(idct_ts, idct_ys, color=\"blue\", label=\"Reconstruccion IDCT\")\n",
    "plt.plot(ts, manual_ys, color=\"red\", label=\"Reconstruccion manual\")\n",
    "plt.legend()\n",
    "plt.show()"
   ]
  },
  {
   "cell_type": "markdown",
   "metadata": {},
   "source": [
    "## Corroborar ecuaciones"
   ]
  },
  {
   "cell_type": "markdown",
   "metadata": {},
   "source": [
    "https://www.tu-ilmenau.de/fileadmin/public/mt_ams/GrundlagenDerVideotechnikb/Vorlesung/WS_2017-18/06_16-11-28DCT_-_English.pdf"
   ]
  },
  {
   "cell_type": "code",
   "execution_count": 452,
   "metadata": {
    "collapsed": true
   },
   "outputs": [],
   "source": [
    "def cosine(t):\n",
    "    f=1\n",
    "    return cos(2*pi*f*t)"
   ]
  },
  {
   "cell_type": "code",
   "execution_count": 453,
   "metadata": {
    "collapsed": true
   },
   "outputs": [],
   "source": [
    "def manual_dct(ts, ys):\n",
    "    n = ys.shape[0]\n",
    "    res = np.array([])\n",
    "    for k in range(n):\n",
    "        acum = 0.\n",
    "        s = np.sqrt(0.5) if (k==0) else 1.\n",
    "        for i in range(n):\n",
    "            acum += s * ys[i] * cos((pi * (i + 0.5) * k) / n )\n",
    "        res = np.append(res, [acum])\n",
    "        \n",
    "    # FUNCIONA PARA EL TERMINO INDEPENDIENTE. FUNCIONA PARA LOS DEMÁS COEFICIENTES?\n",
    "    return np.sqrt(2./n) * res\n",
    "    \n",
    "    # Without ortho normalization\n",
    "    #return 2*np.sum(ys)"
   ]
  },
  {
   "cell_type": "code",
   "execution_count": 462,
   "metadata": {
    "collapsed": true
   },
   "outputs": [],
   "source": [
    "def manual_idct(coeffs):\n",
    "    n = coeffs.shape[0]\n",
    "    res = np.array([])\n",
    "    for i in range(n):\n",
    "        acum = 0\n",
    "        for k in range(n):\n",
    "            s = np.sqrt(0.5) if (k==0) else 1.\n",
    "            acum += s * coeffs[k] * cos((pi * (i + 0.5) * k) / n)\n",
    "        res = np.append(res, [acum])\n",
    "    return np.sqrt(2./n) * res"
   ]
  },
  {
   "cell_type": "code",
   "execution_count": 542,
   "metadata": {
    "collapsed": true
   },
   "outputs": [],
   "source": [
    "def approximate_with_dct(coeffs, n_instances):\n",
    "    n = coeffs.shape[0]\n",
    "    res = np.array([])\n",
    "    for i in range(n_instances):\n",
    "        acum = 0\n",
    "        for k in range(n):\n",
    "            s = np.sqrt(0.5) if (k==0) else 1.\n",
    "            #acum += s * coeffs[k] * cos((pi * (i + 0.5) * k) / n)\n",
    "            acum += s * coeffs[k] * cos((pi * (i + 0.5) * k) / n_instances)\n",
    "        res = np.append(res, [acum])\n",
    "    return np.sqrt(2./n) * res"
   ]
  },
  {
   "cell_type": "code",
   "execution_count": 576,
   "metadata": {
    "collapsed": true
   },
   "outputs": [],
   "source": [
    "ts_original = np.linspace(0, 2, 100)\n",
    "ys_original = cosine(ts_original)"
   ]
  },
  {
   "cell_type": "code",
   "execution_count": 589,
   "metadata": {
    "collapsed": true
   },
   "outputs": [],
   "source": [
    "#ts = np.linspace(0, 0.5, 5)[:-1]\n",
    "ts = np.linspace(0, 1.0, 5)[:-1]\n",
    "#ts = np.linspace(0, 1.0, 100)[:-1]\n",
    "ys = cosine(ts)\n",
    "coeffs = dct(ys, norm=\"ortho\")"
   ]
  },
  {
   "cell_type": "code",
   "execution_count": 590,
   "metadata": {},
   "outputs": [
    {
     "name": "stdout",
     "output_type": "stream",
     "text": [
      "Coeffs: \n",
      "[ -5.55111512e-17   9.23879533e-01   1.00000000e+00  -3.82683432e-01]\n",
      "\n",
      "\n",
      "Manually computed coefficients: \n",
      "[ -9.18485099e-17   9.23879533e-01   1.00000000e+00  -3.82683432e-01]\n",
      "\n",
      "\n",
      "Original values: \n",
      "[  1.00000000e+00   6.12323400e-17  -1.00000000e+00  -1.83697020e-16]\n",
      "\n",
      "\n",
      "Manually re-obtaining the original points: \n",
      "[  1.00000000e+00   0.00000000e+00  -1.00000000e+00  -1.17756934e-16]\n",
      "\n",
      "\n"
     ]
    }
   ],
   "source": [
    "print \"Coeffs: \"\n",
    "print coeffs\n",
    "print \"\\n\"\n",
    "print \"Manually computed coefficients: \"\n",
    "print manual_dct(ts, ys) \n",
    "print \"\\n\"\n",
    "print \"Original values: \"\n",
    "print ys\n",
    "print \"\\n\"\n",
    "print \"Manually re-obtaining the original points: \"\n",
    "print manual_idct(coeffs)\n",
    "print \"\\n\""
   ]
  },
  {
   "cell_type": "code",
   "execution_count": 591,
   "metadata": {
    "collapsed": true
   },
   "outputs": [],
   "source": [
    "computed_ys = approximate_with_dct(coeffs, 200)\n",
    "#computed_ts = np.linspace(0, .5, computed_ys.shape[0] + 1)[:-1]\n",
    "computed_ts = np.linspace(0, 1., computed_ys.shape[0] + 1)[:-1]"
   ]
  },
  {
   "cell_type": "code",
   "execution_count": 596,
   "metadata": {
    "collapsed": true
   },
   "outputs": [],
   "source": [
    "# EXTENSIONS\n",
    "computed_ts2 = np.linspace(1, 2., computed_ys.shape[0] + 1)[:-1]\n",
    "computed_ys2 = np.flip(computed_ys,0)"
   ]
  },
  {
   "cell_type": "code",
   "execution_count": 597,
   "metadata": {},
   "outputs": [
    {
     "data": {
      "image/png": "[encoded data removed]",
      "text/plain": [
       "<matplotlib.figure.Figure at 0x10e0b9cd0>"
      ]
     },
     "metadata": {},
     "output_type": "display_data"
    }
   ],
   "source": [
    "sns.set(style=\"whitegrid\")\n",
    "plt.plot(ts, ys, marker=\"o\", linestyle=\"None\", color=\"black\", label=\"Original values\")\n",
    "plt.plot(ts_original, ys_original, color=\"black\")\n",
    "plt.plot(computed_ts, computed_ys, color=\"red\")\n",
    "plt.plot(computed_ts2, computed_ys2, color=\"red\")\n",
    "plt.show()"
   ]
  }
 ],
 "metadata": {
  "kernelspec": {
   "display_name": "Python 2",
   "language": "python",
   "name": "python2"
  },
  "language_info": {
   "codemirror_mode": {
    "name": "ipython",
    "version": 2
   },
   "file_extension": ".py",
   "mimetype": "text/x-python",
   "name": "python",
   "nbconvert_exporter": "python",
   "pygments_lexer": "ipython2",
   "version": "2.7.10"
  }
 },
 "nbformat": 4,
 "nbformat_minor": 2
}
