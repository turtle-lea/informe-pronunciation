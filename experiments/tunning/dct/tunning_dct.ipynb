{
 "cells": [
  {
   "cell_type": "code",
   "execution_count": 1,
   "metadata": {
    "collapsed": true
   },
   "outputs": [],
   "source": [
    "import numpy as np\n",
    "import pandas as pd\n",
    "import matplotlib.pyplot as plt\n",
    "import seaborn as sns\n",
    "\n",
    "from matplotlib import rcParams\n",
    "rcParams.update({'figure.autolayout': True})"
   ]
  },
  {
   "cell_type": "markdown",
   "metadata": {},
   "source": [
    "Choosen palette: 'deep' qualitative color palette de seaborn"
   ]
  },
  {
   "cell_type": "code",
   "execution_count": 2,
   "metadata": {
    "collapsed": true
   },
   "outputs": [],
   "source": [
    "base_dir = \"/Users/lmatayoshi/Documents/Projects/tesis_notebooks/final_v2_experiments/dev/dct/\"\n",
    "eers_dir = base_dir + \"n_coefficients/\""
   ]
  },
  {
   "cell_type": "code",
   "execution_count": 3,
   "metadata": {
    "collapsed": true
   },
   "outputs": [],
   "source": [
    "degree_2_raw_filename = eers_dir + \"degree_2_raw/svm_eer_results\"\n",
    "degree_2_duration_filename = eers_dir + \"degree_2_duration/svm_eer_results\"\n",
    "degree_3_raw_filename = eers_dir + \"degree_3_raw/svm_eer_results\"\n",
    "degree_3_duration_filename = eers_dir + \"degree_3_duration/svm_eer_results\""
   ]
  },
  {
   "cell_type": "code",
   "execution_count": 4,
   "metadata": {
    "collapsed": true
   },
   "outputs": [],
   "source": [
    "kappa_phonemes = [\"b\", \"m\", \"B\", \"s\", \"D\", \"G\", \"w\", \"i\"]"
   ]
  },
  {
   "cell_type": "code",
   "execution_count": 5,
   "metadata": {
    "collapsed": true
   },
   "outputs": [],
   "source": [
    "sanity_phonemes = ['G', 'b', 'w', 'B', 'D', 'm', 'i', 's']"
   ]
  },
  {
   "cell_type": "code",
   "execution_count": 6,
   "metadata": {
    "collapsed": true
   },
   "outputs": [],
   "source": [
    "def dictionary_by_phoneme(filename):\n",
    "    with open(filename, \"r\") as f:\n",
    "        lines = []\n",
    "        for line in f.readlines():\n",
    "            line = line.strip().split(\":\")\n",
    "            lines.append(line)\n",
    "    lines = lines[:-1]\n",
    "    lines = [(l[0], float(l[1])) for l in lines if l[0] in sanity_phonemes]\n",
    "    return dict(lines)"
   ]
  },
  {
   "cell_type": "code",
   "execution_count": 7,
   "metadata": {},
   "outputs": [
    {
     "ename": "SyntaxError",
     "evalue": "invalid syntax (<ipython-input-7-b4e9b0558c82>, line 1)",
     "output_type": "error",
     "traceback": [
      "\u001b[0;36m  File \u001b[0;32m\"<ipython-input-7-b4e9b0558c82>\"\u001b[0;36m, line \u001b[0;32m1\u001b[0m\n\u001b[0;31m    B: 0.225165562915\u001b[0m\n\u001b[0m     ^\u001b[0m\n\u001b[0;31mSyntaxError\u001b[0m\u001b[0;31m:\u001b[0m invalid syntax\n"
     ]
    }
   ],
   "source": [
    "B: 0.225165562915\n",
    "D: 0.231225296443\n",
    "G: 0.206896551725\n",
    "i: 0.257352941177\n",
    "m: 0.202127659575\n",
    "s: 0.292409577178\n",
    "b: 0.191150442478\n",
    "w: 0.134078212291"
   ]
  },
  {
   "cell_type": "code",
   "execution_count": 8,
   "metadata": {},
   "outputs": [
    {
     "data": {
      "text/plain": [
       "{'B': 0.228826475071,\n",
       " 'D': 0.254355400698,\n",
       " 'G': 0.23232740802,\n",
       " 'b': 0.17803030303,\n",
       " 'i': 0.276292548573,\n",
       " 'm': 0.157699443414,\n",
       " 's': 0.3125,\n",
       " 'w': 0.170928667564}"
      ]
     },
     "execution_count": 8,
     "metadata": {},
     "output_type": "execute_result"
    }
   ],
   "source": [
    "dictionary_by_phoneme(degree_2_duration_filename)"
   ]
  },
  {
   "cell_type": "code",
   "execution_count": 9,
   "metadata": {},
   "outputs": [
    {
     "data": {
      "text/plain": [
       "{'B': 0.235981308411,\n",
       " 'D': 0.245893479343,\n",
       " 'G': 0.234234234234,\n",
       " 'b': 0.187341772153,\n",
       " 'i': 0.270597738289,\n",
       " 'm': 0.156771799629,\n",
       " 's': 0.314583333332,\n",
       " 'w': 0.169582772544}"
      ]
     },
     "execution_count": 9,
     "metadata": {},
     "output_type": "execute_result"
    }
   ],
   "source": [
    "dictionary_by_phoneme(degree_3_duration_filename)"
   ]
  },
  {
   "cell_type": "code",
   "execution_count": 10,
   "metadata": {
    "collapsed": true
   },
   "outputs": [],
   "source": [
    "def mean_kappa_values_by_experiment(filename):\n",
    "    with open(filename, \"r\") as f:\n",
    "        lines = []\n",
    "        for line in f.readlines():\n",
    "            line = line.strip().split(\":\")\n",
    "            lines.append(line)\n",
    "    lines = lines[:-1]\n",
    "    values = [float(l[1]) for l in lines if l[0] in kappa_phonemes]\n",
    "    return np.mean(np.array(values))"
   ]
  },
  {
   "cell_type": "code",
   "execution_count": 11,
   "metadata": {
    "collapsed": true
   },
   "outputs": [],
   "source": [
    "results_dict = {}"
   ]
  },
  {
   "cell_type": "code",
   "execution_count": 12,
   "metadata": {
    "collapsed": true
   },
   "outputs": [],
   "source": [
    "results_dict['degree_2_raw'] = mean_kappa_values_by_experiment(degree_2_raw_filename)\n",
    "results_dict['degree_2_duration'] = mean_kappa_values_by_experiment(degree_2_duration_filename)\n",
    "results_dict['degree_3_raw'] = mean_kappa_values_by_experiment(degree_3_raw_filename)\n",
    "results_dict['degree_3_duration'] = mean_kappa_values_by_experiment(degree_3_duration_filename)"
   ]
  },
  {
   "cell_type": "code",
   "execution_count": 13,
   "metadata": {},
   "outputs": [
    {
     "data": {
      "text/plain": [
       "{'degree_2_duration': 0.22637003079624998,\n",
       " 'degree_2_raw': 0.229417737484375,\n",
       " 'degree_3_duration': 0.226873304741875,\n",
       " 'degree_3_raw': 0.22935984070624998}"
      ]
     },
     "execution_count": 13,
     "metadata": {},
     "output_type": "execute_result"
    }
   ],
   "source": [
    "results_dict"
   ]
  },
  {
   "cell_type": "code",
   "execution_count": 14,
   "metadata": {},
   "outputs": [
    {
     "data": {
      "text/plain": [
       "0.013284529441986078"
      ]
     },
     "execution_count": 14,
     "metadata": {},
     "output_type": "execute_result"
    }
   ],
   "source": [
    "(results_dict['degree_2_raw'] - results_dict['degree_2_duration']) / results_dict['degree_2_raw']"
   ]
  },
  {
   "cell_type": "code",
   "execution_count": 15,
   "metadata": {},
   "outputs": [
    {
     "data": {
      "text/plain": [
       "0.010841200258590969"
      ]
     },
     "execution_count": 15,
     "metadata": {},
     "output_type": "execute_result"
    }
   ],
   "source": [
    "(results_dict['degree_3_raw'] - results_dict['degree_3_duration']) / results_dict['degree_3_raw']"
   ]
  },
  {
   "cell_type": "markdown",
   "metadata": {},
   "source": [
    "## El mejor sistema está conformado por DCT con 2 coefficientes"
   ]
  },
  {
   "cell_type": "code",
   "execution_count": 16,
   "metadata": {},
   "outputs": [
    {
     "data": {
      "text/plain": [
       "-0.00050327394562502126"
      ]
     },
     "execution_count": 16,
     "metadata": {},
     "output_type": "execute_result"
    }
   ],
   "source": [
    "(results_dict['degree_2_duration'] - results_dict['degree_3_duration']) "
   ]
  },
  {
   "cell_type": "markdown",
   "metadata": {},
   "source": [
    "## Plot Legendre vs DCT n_coefficients"
   ]
  },
  {
   "cell_type": "markdown",
   "metadata": {},
   "source": [
    "Valores tomados de ys_both"
   ]
  },
  {
   "cell_type": "code",
   "execution_count": 17,
   "metadata": {
    "collapsed": true
   },
   "outputs": [],
   "source": [
    "legendre_by_n_coefficients = [0.2372540617545,\n",
    " 0.22238856830737497,\n",
    " 0.219004746138625,\n",
    " 0.219052028093625,\n",
    " 0.22063522473137498,\n",
    " 0.222921521471,\n",
    " 0.225239761768\n",
    "]"
   ]
  },
  {
   "cell_type": "code",
   "execution_count": 18,
   "metadata": {
    "collapsed": true
   },
   "outputs": [],
   "source": [
    "dct_by_n_coefficients = [0.23879212281000001,\n",
    " 0.22649287792200001,\n",
    " 0.22674264755512502,\n",
    " 0.22976453797625002,\n",
    " 0.23023906660475002,\n",
    " 0.231152358068375,\n",
    " 0.23071800721200003\n",
    " ]"
   ]
  },
  {
   "cell_type": "code",
   "execution_count": 19,
   "metadata": {
    "collapsed": true
   },
   "outputs": [],
   "source": [
    "xs_legendre = range(1,8)\n",
    "xs_dct = range(1,8)"
   ]
  },
  {
   "cell_type": "code",
   "execution_count": 20,
   "metadata": {
    "collapsed": true
   },
   "outputs": [],
   "source": [
    "#a6cee3 (light blue)\n",
    "#1f78b4 (dark blue)\n",
    "#b2df8a (green)"
   ]
  },
  {
   "cell_type": "code",
   "execution_count": 21,
   "metadata": {
    "collapsed": true
   },
   "outputs": [],
   "source": [
    "colors = sns.color_palette(\"deep\", 2)"
   ]
  },
  {
   "cell_type": "code",
   "execution_count": 22,
   "metadata": {},
   "outputs": [
    {
     "name": "stderr",
     "output_type": "stream",
     "text": [
      "/Users/lmatayoshi/Documents/Projects/svm/env/lib/python2.7/site-packages/matplotlib/figure.py:1743: UserWarning: This figure includes Axes that are not compatible with tight_layout, so its results might be incorrect.\n",
      "  warnings.warn(\"This figure includes Axes that are not \"\n"
     ]
    },
    {
     "data": {
      "image/png": "[encoded data removed]",
      "text/plain": [
       "<matplotlib.figure.Figure at 0x10d728910>"
      ]
     },
     "metadata": {},
     "output_type": "display_data"
    }
   ],
   "source": [
    "plt.clf()\n",
    "sns.set_style(\"whitegrid\")\n",
    "plt.plot(xs_legendre, legendre_by_n_coefficients, label=\"Legendre\", color=colors[0])\n",
    "plt.plot(xs_legendre[2], legendre_by_n_coefficients[2], marker='o', color=colors[0])\n",
    "plt.plot(xs_dct, dct_by_n_coefficients, label=\"DCT\", color=colors[1])\n",
    "plt.plot(xs_dct[1], dct_by_n_coefficients[1], marker='o', color=colors[1])\n",
    "plt.legend()\n",
    "plt.xlabel(\"#coefficients\")\n",
    "plt.ylabel(\"Average EER (kappa phonemes)\")\n",
    "plt.savefig(\"/Users/lmatayoshi/Documents/Projects/tesis_notebooks/final_v2_experiments/dev/plots/legendre_dct_coefficients.png\")\n",
    "plt.show()"
   ]
  },
  {
   "cell_type": "code",
   "execution_count": 26,
   "metadata": {},
   "outputs": [],
   "source": [
    "legendre = legendre_by_n_coefficients[2]\n",
    "dct = dct_by_n_coefficients[1]"
   ]
  },
  {
   "cell_type": "code",
   "execution_count": 29,
   "metadata": {},
   "outputs": [
    {
     "data": {
      "text/plain": [
       "0.033061224052942574"
      ]
     },
     "execution_count": 29,
     "metadata": {},
     "output_type": "execute_result"
    }
   ],
   "source": [
    "relative = (dct - legendre)/dct\n",
    "relative"
   ]
  },
  {
   "cell_type": "code",
   "execution_count": 23,
   "metadata": {},
   "outputs": [
    {
     "ename": "NameError",
     "evalue": "name 'legendre' is not defined",
     "output_type": "error",
     "traceback": [
      "\u001b[0;31m---------------------------------------------------------------------------\u001b[0m",
      "\u001b[0;31mNameError\u001b[0m                                 Traceback (most recent call last)",
      "\u001b[0;32m<ipython-input-23-0ca0371a6ab1>\u001b[0m in \u001b[0;36m<module>\u001b[0;34m()\u001b[0m\n\u001b[0;32m----> 1\u001b[0;31m \u001b[0mplt\u001b[0m\u001b[0;34m.\u001b[0m\u001b[0mplot\u001b[0m\u001b[0;34m(\u001b[0m\u001b[0mxs_legendre\u001b[0m\u001b[0;34m,\u001b[0m \u001b[0mlegendre\u001b[0m\u001b[0;34m,\u001b[0m \u001b[0mlabel\u001b[0m\u001b[0;34m=\u001b[0m \u001b[0;34m\"Legendre degree\"\u001b[0m\u001b[0;34m,\u001b[0m \u001b[0mcolor\u001b[0m\u001b[0;34m=\u001b[0m\u001b[0;34m\"#2385D2\"\u001b[0m\u001b[0;34m)\u001b[0m\u001b[0;34m\u001b[0m\u001b[0m\n\u001b[0m\u001b[1;32m      2\u001b[0m \u001b[0mplt\u001b[0m\u001b[0;34m.\u001b[0m\u001b[0mplot\u001b[0m\u001b[0;34m(\u001b[0m\u001b[0mxs_legendre\u001b[0m\u001b[0;34m[\u001b[0m\u001b[0;36m3\u001b[0m\u001b[0;34m]\u001b[0m\u001b[0;34m,\u001b[0m \u001b[0mlegendre\u001b[0m\u001b[0;34m[\u001b[0m\u001b[0;36m3\u001b[0m\u001b[0;34m]\u001b[0m\u001b[0;34m,\u001b[0m \u001b[0mmarker\u001b[0m\u001b[0;34m=\u001b[0m\u001b[0;34m'o'\u001b[0m\u001b[0;34m,\u001b[0m \u001b[0mcolor\u001b[0m\u001b[0;34m=\u001b[0m\u001b[0;34m\"#2385D2\"\u001b[0m\u001b[0;34m)\u001b[0m\u001b[0;34m\u001b[0m\u001b[0m\n\u001b[1;32m      3\u001b[0m \u001b[0mplt\u001b[0m\u001b[0;34m.\u001b[0m\u001b[0mplot\u001b[0m\u001b[0;34m(\u001b[0m\u001b[0mxs_dct\u001b[0m\u001b[0;34m,\u001b[0m \u001b[0mdct\u001b[0m\u001b[0;34m,\u001b[0m \u001b[0mlabel\u001b[0m\u001b[0;34m=\u001b[0m \u001b[0;34m\"DCT #coefficients\"\u001b[0m\u001b[0;34m,\u001b[0m \u001b[0mcolor\u001b[0m\u001b[0;34m=\u001b[0m\u001b[0;34m\"green\"\u001b[0m\u001b[0;34m)\u001b[0m\u001b[0;34m\u001b[0m\u001b[0m\n\u001b[1;32m      4\u001b[0m \u001b[0mplt\u001b[0m\u001b[0;34m.\u001b[0m\u001b[0mplot\u001b[0m\u001b[0;34m(\u001b[0m\u001b[0mxs_dct\u001b[0m\u001b[0;34m[\u001b[0m\u001b[0;36m2\u001b[0m\u001b[0;34m]\u001b[0m\u001b[0;34m,\u001b[0m \u001b[0mdct\u001b[0m\u001b[0;34m[\u001b[0m\u001b[0;36m2\u001b[0m\u001b[0;34m]\u001b[0m\u001b[0;34m,\u001b[0m \u001b[0mlabel\u001b[0m\u001b[0;34m=\u001b[0m \u001b[0;34m\"DCT #coefficients\"\u001b[0m\u001b[0;34m,\u001b[0m \u001b[0mmarker\u001b[0m\u001b[0;34m=\u001b[0m\u001b[0;34m'o'\u001b[0m\u001b[0;34m,\u001b[0m \u001b[0mcolor\u001b[0m\u001b[0;34m=\u001b[0m\u001b[0;34m\"green\"\u001b[0m\u001b[0;34m)\u001b[0m\u001b[0;34m\u001b[0m\u001b[0m\n\u001b[1;32m      5\u001b[0m \u001b[0mplt\u001b[0m\u001b[0;34m.\u001b[0m\u001b[0mlegend\u001b[0m\u001b[0;34m(\u001b[0m\u001b[0;34m)\u001b[0m\u001b[0;34m\u001b[0m\u001b[0m\n",
      "\u001b[0;31mNameError\u001b[0m: name 'legendre' is not defined"
     ]
    }
   ],
   "source": [
    "plt.plot(xs_legendre, legendre, label= \"Legendre degree\", color=\"#2385D2\")\n",
    "plt.plot(xs_legendre[3], legendre[3], marker='o', color=\"#2385D2\")\n",
    "plt.plot(xs_dct, dct, label= \"DCT #coefficients\", color=\"green\")\n",
    "plt.plot(xs_dct[2], dct[2], label= \"DCT #coefficients\", marker='o', color=\"green\")\n",
    "plt.legend()\n",
    "plt.xlabel(\"Degree / #Coefficients\")\n",
    "plt.ylabel(\"Mean EER over Kappa\")\n",
    "plt.savefig(output_filename)\n",
    "plt.show()"
   ]
  },
  {
   "cell_type": "code",
   "execution_count": null,
   "metadata": {
    "collapsed": true
   },
   "outputs": [],
   "source": []
  }
 ],
 "metadata": {
  "kernelspec": {
   "display_name": "Python 2",
   "language": "python",
   "name": "python2"
  },
  "language_info": {
   "codemirror_mode": {
    "name": "ipython",
    "version": 2
   },
   "file_extension": ".py",
   "mimetype": "text/x-python",
   "name": "python",
   "nbconvert_exporter": "python",
   "pygments_lexer": "ipython2",
   "version": "2.7.10"
  }
 },
 "nbformat": 4,
 "nbformat_minor": 2
}
