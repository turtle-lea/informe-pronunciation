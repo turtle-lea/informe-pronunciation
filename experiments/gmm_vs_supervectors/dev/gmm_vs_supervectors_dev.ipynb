{
 "cells": [
  {
   "cell_type": "code",
   "execution_count": 34,
   "metadata": {
    "collapsed": true
   },
   "outputs": [],
   "source": [
    "import numpy as np\n",
    "import pandas as pd\n",
    "import matplotlib.pyplot as plt\n",
    "import seaborn as sns\n",
    "from os.path import expanduser"
   ]
  },
  {
   "cell_type": "markdown",
   "metadata": {
    "collapsed": true
   },
   "source": [
    "# indep_kmeans, indep_hier, adapt_kmeans, adapt_hier"
   ]
  },
  {
   "cell_type": "code",
   "execution_count": 65,
   "metadata": {
    "collapsed": true
   },
   "outputs": [],
   "source": [
    "phonemes_by_kappa = [\"b\", \"m\", \"B\", \"s\", \"D\", \"G\", \"w\", \"i\", \"y\", \"p\", \"r\", \"z\", \"t\", \"k\", \"rr\", \"a\", \"o\", \"l\", \"e\", \"n\", \"u\", \"c\", \"x\", \"d\", \"g\", \"N\"]"
   ]
  },
  {
   "cell_type": "code",
   "execution_count": 44,
   "metadata": {
    "collapsed": true
   },
   "outputs": [],
   "source": [
    "experiments_dir = expanduser(\"~\") + \"/tesis/informe-pronunciation/experiments/\"\n",
    "base_dir = experiments_dir + \"gmm_vs_supervectors/dev/\"\n",
    "eers_dir = base_dir + \"eers/\"\n",
    "plots_dir = base_dir + 'plots/'\n",
    "indep_kmeans_filename = eers_dir + \"indep_kmeans_999k/all_eers\"\n",
    "indep_hier_filename = eers_dir + \"indep_hierCOMP_50k/all_eers\"\n",
    "adapt_kmeans_filename = eers_dir + \"adapt_kmeans_999k/all_eers\"\n",
    "adapt_hier_filename = eers_dir + \"adapt_hierCOMP_25k/all_eers\""
   ]
  },
  {
   "cell_type": "code",
   "execution_count": 45,
   "metadata": {
    "collapsed": true
   },
   "outputs": [],
   "source": [
    "models_dict = {\n",
    "    \"indep_kmeans\" : {},\n",
    "    \"indep_hier\" : {},\n",
    "    \"adapt_kmeans\" : {},\n",
    "    \"adapt_hier\" : {}\n",
    "}"
   ]
  },
  {
   "cell_type": "code",
   "execution_count": 46,
   "metadata": {
    "collapsed": true
   },
   "outputs": [],
   "source": [
    "def add_to_models_dict(model_key, filename):\n",
    "    lines = []\n",
    "    \n",
    "    with open(filename, \"r\") as f:\n",
    "        for line in f.readlines():\n",
    "            lines.append(line.strip().split(\":\"))            \n",
    "    \n",
    "    lines_1 = [l[0] for l in lines]\n",
    "    lines_2 = [float(l[1]) for l in lines]\n",
    "    models_dict[model_key] = dict(zip(lines_1, lines_2))"
   ]
  },
  {
   "cell_type": "code",
   "execution_count": 47,
   "metadata": {},
   "outputs": [],
   "source": [
    "add_to_models_dict(\"indep_kmeans\", indep_kmeans_filename)\n",
    "add_to_models_dict(\"indep_hier\", indep_hier_filename)\n",
    "add_to_models_dict(\"adapt_kmeans\", adapt_kmeans_filename)\n",
    "add_to_models_dict(\"adapt_hier\", adapt_hier_filename)"
   ]
  },
  {
   "cell_type": "code",
   "execution_count": 48,
   "metadata": {
    "collapsed": true
   },
   "outputs": [],
   "source": [
    "base_matrix = np.array(phonemes_by_kappa).reshape(-1,1)"
   ]
  },
  {
   "cell_type": "code",
   "execution_count": 49,
   "metadata": {
    "collapsed": true
   },
   "outputs": [],
   "source": [
    "for key in models_dict.keys():\n",
    "    results = [models_dict[key][p] for p in phonemes_by_kappa]\n",
    "    results = np.array(results).reshape(-1,1)\n",
    "    base_matrix = np.hstack((base_matrix, results))"
   ]
  },
  {
   "cell_type": "code",
   "execution_count": 50,
   "metadata": {
    "collapsed": true
   },
   "outputs": [],
   "source": [
    "dataframe = pd.DataFrame(base_matrix[:, 1:], index=phonemes_by_kappa, columns=models_dict.keys())"
   ]
  },
  {
   "cell_type": "code",
   "execution_count": 51,
   "metadata": {},
   "outputs": [],
   "source": [
    "dataframe.to_csv(plots_dir + \"gmm_models.csv\", index_label=\"phones\")"
   ]
  },
  {
   "cell_type": "markdown",
   "metadata": {},
   "source": [
    "Al analizar estos resultados, selecciono Adapt Kmeans como método representativo. Adapt HIER tiene una performance levemente mejor, aunque la inicialización es n^2 y no escala con la cantidad de instancias"
   ]
  },
  {
   "cell_type": "code",
   "execution_count": 148,
   "metadata": {},
   "outputs": [
    {
     "data": {
      "text/html": [
       "<div>\n",
       "<style>\n",
       "    .dataframe thead tr:only-child th {\n",
       "        text-align: right;\n",
       "    }\n",
       "\n",
       "    .dataframe thead th {\n",
       "        text-align: left;\n",
       "    }\n",
       "\n",
       "    .dataframe tbody tr th {\n",
       "        vertical-align: top;\n",
       "    }\n",
       "</style>\n",
       "<table border=\"1\" class=\"dataframe\">\n",
       "  <thead>\n",
       "    <tr style=\"text-align: right;\">\n",
       "      <th></th>\n",
       "      <th>adapt_kmeans</th>\n",
       "      <th>indep_hier</th>\n",
       "      <th>indep_kmeans</th>\n",
       "      <th>adapt_hier</th>\n",
       "    </tr>\n",
       "  </thead>\n",
       "  <tbody>\n",
       "    <tr>\n",
       "      <th>b</th>\n",
       "      <td>0.12760910816</td>\n",
       "      <td>0.150227617602</td>\n",
       "      <td>0.138257575756</td>\n",
       "      <td>0.129113924051</td>\n",
       "    </tr>\n",
       "    <tr>\n",
       "      <th>m</th>\n",
       "      <td>0.155976676385</td>\n",
       "      <td>0.17254174397</td>\n",
       "      <td>0.162472756093</td>\n",
       "      <td>0.154607297466</td>\n",
       "    </tr>\n",
       "    <tr>\n",
       "      <th>B</th>\n",
       "      <td>0.220701454234</td>\n",
       "      <td>0.226689478186</td>\n",
       "      <td>0.227160493827</td>\n",
       "      <td>0.210436270317</td>\n",
       "    </tr>\n",
       "    <tr>\n",
       "      <th>s</th>\n",
       "      <td>0.32724879333</td>\n",
       "      <td>0.339642620782</td>\n",
       "      <td>0.312243547319</td>\n",
       "      <td>0.305625413633</td>\n",
       "    </tr>\n",
       "    <tr>\n",
       "      <th>D</th>\n",
       "      <td>0.18152173913</td>\n",
       "      <td>0.183088070516</td>\n",
       "      <td>0.18804347826</td>\n",
       "      <td>0.185664509706</td>\n",
       "    </tr>\n",
       "    <tr>\n",
       "      <th>G</th>\n",
       "      <td>0.182306738322</td>\n",
       "      <td>0.175722543353</td>\n",
       "      <td>0.191907514451</td>\n",
       "      <td>0.180404354588</td>\n",
       "    </tr>\n",
       "    <tr>\n",
       "      <th>w</th>\n",
       "      <td>0.166890982504</td>\n",
       "      <td>0.179004037685</td>\n",
       "      <td>0.1806968856</td>\n",
       "      <td>0.165545087485</td>\n",
       "    </tr>\n",
       "    <tr>\n",
       "      <th>i</th>\n",
       "      <td>0.27140549273</td>\n",
       "      <td>0.272913944372</td>\n",
       "      <td>0.289105295191</td>\n",
       "      <td>0.269304450339</td>\n",
       "    </tr>\n",
       "    <tr>\n",
       "      <th>y</th>\n",
       "      <td>0.335507541786</td>\n",
       "      <td>0.353658536585</td>\n",
       "      <td>0.351406441094</td>\n",
       "      <td>0.33375918237</td>\n",
       "    </tr>\n",
       "    <tr>\n",
       "      <th>p</th>\n",
       "      <td>0.320379146919</td>\n",
       "      <td>0.361496680749</td>\n",
       "      <td>0.350652323186</td>\n",
       "      <td>0.317535545024</td>\n",
       "    </tr>\n",
       "    <tr>\n",
       "      <th>r</th>\n",
       "      <td>0.330149025602</td>\n",
       "      <td>0.347250167672</td>\n",
       "      <td>0.340084065724</td>\n",
       "      <td>0.321742453191</td>\n",
       "    </tr>\n",
       "    <tr>\n",
       "      <th>z</th>\n",
       "      <td>0.237212750185</td>\n",
       "      <td>0.232804232805</td>\n",
       "      <td>0.227513227514</td>\n",
       "      <td>0.232804232804</td>\n",
       "    </tr>\n",
       "    <tr>\n",
       "      <th>t</th>\n",
       "      <td>0.315758811535</td>\n",
       "      <td>0.316000411057</td>\n",
       "      <td>0.330739299611</td>\n",
       "      <td>0.303501945525</td>\n",
       "    </tr>\n",
       "    <tr>\n",
       "      <th>k</th>\n",
       "      <td>0.342433361995</td>\n",
       "      <td>0.370244565217</td>\n",
       "      <td>0.364168618269</td>\n",
       "      <td>0.341032608696</td>\n",
       "    </tr>\n",
       "    <tr>\n",
       "      <th>rr</th>\n",
       "      <td>0.356415478615</td>\n",
       "      <td>0.372708757638</td>\n",
       "      <td>0.367452558942</td>\n",
       "      <td>0.353651523864</td>\n",
       "    </tr>\n",
       "    <tr>\n",
       "      <th>a</th>\n",
       "      <td>0.347027549541</td>\n",
       "      <td>0.371253943218</td>\n",
       "      <td>0.364427259545</td>\n",
       "      <td>0.34128548896</td>\n",
       "    </tr>\n",
       "    <tr>\n",
       "      <th>o</th>\n",
       "      <td>0.408014631438</td>\n",
       "      <td>0.417288557213</td>\n",
       "      <td>0.427539720751</td>\n",
       "      <td>0.40924410207</td>\n",
       "    </tr>\n",
       "    <tr>\n",
       "      <th>l</th>\n",
       "      <td>0.291332847779</td>\n",
       "      <td>0.304136947218</td>\n",
       "      <td>0.307356154406</td>\n",
       "      <td>0.290604515659</td>\n",
       "    </tr>\n",
       "    <tr>\n",
       "      <th>e</th>\n",
       "      <td>0.405940850469</td>\n",
       "      <td>0.416762342135</td>\n",
       "      <td>0.419458337264</td>\n",
       "      <td>0.389781859931</td>\n",
       "    </tr>\n",
       "    <tr>\n",
       "      <th>n</th>\n",
       "      <td>0.436988076724</td>\n",
       "      <td>0.418066157761</td>\n",
       "      <td>0.427432885906</td>\n",
       "      <td>0.406599552572</td>\n",
       "    </tr>\n",
       "    <tr>\n",
       "      <th>u</th>\n",
       "      <td>0.364989733059</td>\n",
       "      <td>0.377708978328</td>\n",
       "      <td>0.366234531526</td>\n",
       "      <td>0.373443983402</td>\n",
       "    </tr>\n",
       "    <tr>\n",
       "      <th>c</th>\n",
       "      <td>0.409523809524</td>\n",
       "      <td>0.438647342995</td>\n",
       "      <td>0.42962962963</td>\n",
       "      <td>0.425702811245</td>\n",
       "    </tr>\n",
       "    <tr>\n",
       "      <th>x</th>\n",
       "      <td>0.140223831468</td>\n",
       "      <td>0.18954248366</td>\n",
       "      <td>0.137000793441</td>\n",
       "      <td>0.1432871764</td>\n",
       "    </tr>\n",
       "    <tr>\n",
       "      <th>d</th>\n",
       "      <td>0.376455368693</td>\n",
       "      <td>0.38202247191</td>\n",
       "      <td>0.415730337079</td>\n",
       "      <td>0.374410774411</td>\n",
       "    </tr>\n",
       "    <tr>\n",
       "      <th>g</th>\n",
       "      <td>0.220571163223</td>\n",
       "      <td>0.261555806087</td>\n",
       "      <td>0.240135287487</td>\n",
       "      <td>0.213452299245</td>\n",
       "    </tr>\n",
       "    <tr>\n",
       "      <th>N</th>\n",
       "      <td>0.241534988713</td>\n",
       "      <td>0.255982192543</td>\n",
       "      <td>0.226125137212</td>\n",
       "      <td>0.248306997743</td>\n",
       "    </tr>\n",
       "  </tbody>\n",
       "</table>\n",
       "</div>"
      ],
      "text/plain": [
       "      adapt_kmeans      indep_hier    indep_kmeans      adapt_hier\n",
       "b    0.12760910816  0.150227617602  0.138257575756  0.129113924051\n",
       "m   0.155976676385   0.17254174397  0.162472756093  0.154607297466\n",
       "B   0.220701454234  0.226689478186  0.227160493827  0.210436270317\n",
       "s    0.32724879333  0.339642620782  0.312243547319  0.305625413633\n",
       "D    0.18152173913  0.183088070516   0.18804347826  0.185664509706\n",
       "G   0.182306738322  0.175722543353  0.191907514451  0.180404354588\n",
       "w   0.166890982504  0.179004037685    0.1806968856  0.165545087485\n",
       "i    0.27140549273  0.272913944372  0.289105295191  0.269304450339\n",
       "y   0.335507541786  0.353658536585  0.351406441094   0.33375918237\n",
       "p   0.320379146919  0.361496680749  0.350652323186  0.317535545024\n",
       "r   0.330149025602  0.347250167672  0.340084065724  0.321742453191\n",
       "z   0.237212750185  0.232804232805  0.227513227514  0.232804232804\n",
       "t   0.315758811535  0.316000411057  0.330739299611  0.303501945525\n",
       "k   0.342433361995  0.370244565217  0.364168618269  0.341032608696\n",
       "rr  0.356415478615  0.372708757638  0.367452558942  0.353651523864\n",
       "a   0.347027549541  0.371253943218  0.364427259545   0.34128548896\n",
       "o   0.408014631438  0.417288557213  0.427539720751   0.40924410207\n",
       "l   0.291332847779  0.304136947218  0.307356154406  0.290604515659\n",
       "e   0.405940850469  0.416762342135  0.419458337264  0.389781859931\n",
       "n   0.436988076724  0.418066157761  0.427432885906  0.406599552572\n",
       "u   0.364989733059  0.377708978328  0.366234531526  0.373443983402\n",
       "c   0.409523809524  0.438647342995   0.42962962963  0.425702811245\n",
       "x   0.140223831468   0.18954248366  0.137000793441    0.1432871764\n",
       "d   0.376455368693   0.38202247191  0.415730337079  0.374410774411\n",
       "g   0.220571163223  0.261555806087  0.240135287487  0.213452299245\n",
       "N   0.241534988713  0.255982192543  0.226125137212  0.248306997743"
      ]
     },
     "execution_count": 148,
     "metadata": {},
     "output_type": "execute_result"
    }
   ],
   "source": [
    "dataframe"
   ]
  },
  {
   "cell_type": "code",
   "execution_count": 52,
   "metadata": {},
   "outputs": [
    {
     "name": "stdout",
     "output_type": "stream",
     "text": [
      "Adapt kmeans: 0.289004613541\n"
     ]
    }
   ],
   "source": [
    "adapt_kmeans = dataframe[\"adapt_kmeans\"].values\n",
    "adapt_kmeans = np.array([np.float(x) for x in adapt_kmeans])\n",
    "print \"Adapt kmeans: \" + str(np.mean(adapt_kmeans))"
   ]
  },
  {
   "cell_type": "code",
   "execution_count": 53,
   "metadata": {},
   "outputs": [
    {
     "name": "stdout",
     "output_type": "stream",
     "text": [
      "Indep kmeans: 0.299345159811\n"
     ]
    }
   ],
   "source": [
    "indep_kmeans = dataframe[\"indep_kmeans\"].values\n",
    "indep_kmeans = np.array([np.float(x) for x in indep_kmeans])\n",
    "print \"Indep kmeans: \" + str(np.mean(indep_kmeans))"
   ]
  },
  {
   "cell_type": "code",
   "execution_count": 54,
   "metadata": {},
   "outputs": [
    {
     "name": "stdout",
     "output_type": "stream",
     "text": [
      "Indep hier: 0.303344639664\n"
     ]
    }
   ],
   "source": [
    "indep_hier = dataframe[\"indep_hier\"].values\n",
    "indep_hier = np.array([np.float(x) for x in indep_hier])\n",
    "print \"Indep hier: \" + str(np.mean(indep_hier))"
   ]
  },
  {
   "cell_type": "code",
   "execution_count": 55,
   "metadata": {},
   "outputs": [
    {
     "name": "stdout",
     "output_type": "stream",
     "text": [
      "adapt hier: 0.285417244642\n"
     ]
    }
   ],
   "source": [
    "adapt_hier = dataframe[\"adapt_hier\"].values\n",
    "adapt_hier = np.array([np.float(x) for x in adapt_hier])\n",
    "print \"adapt hier: \" + str(np.mean(adapt_hier))"
   ]
  },
  {
   "cell_type": "code",
   "execution_count": 56,
   "metadata": {
    "collapsed": true
   },
   "outputs": [],
   "source": [
    "supervectors_dict = {\n",
    "\t\"b\": 0.122,\n",
    "\t\"m\": 0.154,\n",
    "\t\"B\": 0.206,\n",
    "\t\"s\": 0.319,\n",
    "\t\"D\": 0.182,\n",
    "\t\"G\": 0.162,\n",
    "\t\"w\": 0.151,\n",
    "\t\"i\": 0.254,\n",
    "\t\"y\": 0.338,\n",
    "\t\"p\": 0.295,\n",
    "\t\"r\": 0.317,\n",
    "\t\"z\": 0.222,\n",
    "\t\"t\": 0.295,\n",
    "\t\"k\": 0.341,\n",
    "\t\"rr\": 0.324,\n",
    "\t\"a\": 0.346,\n",
    "\t\"o\": 0.408,\n",
    "\t\"l\": 0.279,\n",
    "\t\"e\": 0.4,\n",
    "\t\"n\": 0.424,\n",
    "\t\"u\": 0.354,\n",
    "\t\"c\": 0.44,\n",
    "\t\"x\": 0.164,\n",
    "\t\"d\": 0.364,\n",
    "\t\"g\": 0.234,\n",
    "\t\"N\": 0.217\n",
    "}"
   ]
  },
  {
   "cell_type": "markdown",
   "metadata": {},
   "source": [
    "# Final plot"
   ]
  },
  {
   "cell_type": "code",
   "execution_count": 58,
   "metadata": {
    "collapsed": true
   },
   "outputs": [],
   "source": [
    "values_supervectors = np.array([supervectors_dict[p] for p in phonemes_by_kappa]).reshape(-1,1).astype(float)\n",
    "values_gmm = np.array([models_dict[\"adapt_kmeans\"][p] for p in phonemes_by_kappa]).reshape(-1,1).astype(float)"
   ]
  },
  {
   "cell_type": "code",
   "execution_count": 59,
   "metadata": {
    "collapsed": true
   },
   "outputs": [],
   "source": [
    "base_matrix = np.array(phonemes_by_kappa).reshape(-1,1)\n",
    "base_matrix = np.column_stack((base_matrix, values_gmm))\n",
    "base_matrix = np.column_stack((base_matrix, values_supervectors))"
   ]
  },
  {
   "cell_type": "code",
   "execution_count": 60,
   "metadata": {
    "collapsed": true
   },
   "outputs": [],
   "source": [
    "plot_dataframe = pd.DataFrame(base_matrix, columns=['phones', 'GMM', 'supervectors'])"
   ]
  },
  {
   "cell_type": "code",
   "execution_count": 61,
   "metadata": {
    "collapsed": true
   },
   "outputs": [],
   "source": [
    "df = pd.melt(plot_dataframe, id_vars=\"phones\", var_name=\"model\", value_name=\"EER\")"
   ]
  },
  {
   "cell_type": "code",
   "execution_count": 62,
   "metadata": {},
   "outputs": [],
   "source": [
    "df[['EER']] = df[['EER']].apply(pd.to_numeric)"
   ]
  },
  {
   "cell_type": "code",
   "execution_count": 63,
   "metadata": {
    "collapsed": true
   },
   "outputs": [],
   "source": [
    "output_filename = plots_dir + \"gmm_supervectors_dev\""
   ]
  },
  {
   "cell_type": "code",
   "execution_count": 64,
   "metadata": {},
   "outputs": [
    {
     "data": {
      "image/png": "[encoded data removed]",
      "text/plain": [
       "<matplotlib.figure.Figure at 0x10f3395d0>"
      ]
     },
     "metadata": {},
     "output_type": "display_data"
    }
   ],
   "source": [
    "sns.set_style(\"whitegrid\")\n",
    "sns.factorplot(x='phones', y='EER', hue='model', data=df, kind='bar', size=4, aspect=2, palette=\"hls\")\n",
    "plt.savefig(output_filename)\n",
    "plt.show()"
   ]
  },
  {
   "cell_type": "markdown",
   "metadata": {},
   "source": [
    "## Plot first attempt"
   ]
  },
  {
   "cell_type": "code",
   "execution_count": 154,
   "metadata": {
    "collapsed": true
   },
   "outputs": [],
   "source": [
    "def plot_barplots(phonemes, title, filename=None):\n",
    "    for p in phonemes:\n",
    "        barplot_dicc[p][\"supervectors\"] = calculate_tuple(supervectors[p])\n",
    "        barplot_dicc[p][\"features_combination\"] = calculate_tuple(features_combination[p])\n",
    "        barplot_dicc[p][\"score_combination\"] = calculate_tuple(score_combination[p])\n",
    "        \n",
    "    min_yerr_supervectors = [barplot_dicc[p][\"supervectors\"][\"min\"] for p in phonemes]\n",
    "    max_yerr_supervectors = [barplot_dicc[p][\"supervectors\"][\"max\"] for p in phonemes]\n",
    "\n",
    "    min_yerr_features_combination = [barplot_dicc[p][\"features_combination\"][\"min\"] for p in phonemes]\n",
    "    max_yerr_features_combination = [barplot_dicc[p][\"features_combination\"][\"max\"] for p in phonemes]\n",
    "\n",
    "    min_yerr_score_combination = [barplot_dicc[p][\"score_combination\"][\"min\"] for p in phonemes]\n",
    "    max_yerr_score_combination = [barplot_dicc[p][\"score_combination\"][\"max\"] for p in phonemes]\n",
    "    \n",
    "    barWidth = 0.4\n",
    "    xs_1 = np.arange(len(phonemes)) * 1.6\n",
    "    xs_2 = [x + barWidth for x in xs_1]\n",
    "    xs_3 = [x + 2*barWidth for x in xs_1]\n",
    "\n",
    "    ys_1 = [barplot_dicc[p][\"supervectors\"][\"mean\"] for p in phonemes]\n",
    "    ys_2 = [barplot_dicc[p][\"features_combination\"][\"mean\"] for p in phonemes]\n",
    "    ys_3 = [barplot_dicc[p][\"score_combination\"][\"mean\"] for p in phonemes]\n",
    "    plt.bar(xs_1, ys_1, width=barWidth, color=\"blue\", yerr=[min_yerr_supervectors, max_yerr_supervectors], capsize=2, label=\"supervectors\")\n",
    "    plt.bar(xs_2, ys_2, width=barWidth, color=\"violet\", yerr=[min_yerr_features_combination, max_yerr_features_combination], capsize=2, label=\"features combination\")\n",
    "    plt.bar(xs_3, ys_3, width=barWidth, color=\"red\", yerr=[min_yerr_score_combination, max_yerr_score_combination], capsize=2, label=\"score combination\")\n",
    "    plt.xticks(xs_2, phonemes)\n",
    "    plt.legend(loc=\"lower left\")\n",
    "    plt.title(title)\n",
    "    plt.savefig(filename)\n",
    "    plt.show()"
   ]
  },
  {
   "cell_type": "code",
   "execution_count": 155,
   "metadata": {},
   "outputs": [
    {
     "data": {
      "image/png": "[encoded data removed]",
      "text/plain": [
       "<matplotlib.figure.Figure at 0x10c6902d0>"
      ]
     },
     "metadata": {},
     "output_type": "display_data"
    }
   ],
   "source": [
    "output_filename = \"/Users/lmatayoshi/Documents/Projects/tesis_notebooks/results/gmm_vs_supervectors/dev/gmm/plots/dev_results\"\n",
    "title = \"GMM vs supervectors. DEV results\"\n",
    "\n",
    "barWidth = 0.4\n",
    "xs_1 = np.arange(len(phonemes_by_kappa)) * 1.2\n",
    "xs_2 = [x + barWidth for x in xs_1]\n",
    "\n",
    "values_supervectors = [supervectors_dict[p] for p in phonemes_by_kappa]\n",
    "values_gmm = [models_dict['adapt_kmeans'][p] for p in phonemes_by_kappa]\n",
    "plt.bar(xs_1, values_gmm, width=barWidth, color=\"blue\", label=\"GMM\")\n",
    "plt.bar(xs_2, values_supervectors, width=barWidth, color=\"red\", label=\"supervectors\")\n",
    "plt.legend()\n",
    "plt.xticks(xs_1, phonemes_by_kappa)\n",
    "plt.ylabel(\"EER\")\n",
    "plt.xlabel(\"phones\")\n",
    "plt.title(title)\n",
    "plt.savefig(output_filename)\n",
    "plt.show()"
   ]
  }
 ],
 "metadata": {
  "kernelspec": {
   "display_name": "Python 2",
   "language": "python",
   "name": "python2"
  },
  "language_info": {
   "codemirror_mode": {
    "name": "ipython",
    "version": 2
   },
   "file_extension": ".py",
   "mimetype": "text/x-python",
   "name": "python",
   "nbconvert_exporter": "python",
   "pygments_lexer": "ipython2",
   "version": "2.7.10"
  }
 },
 "nbformat": 4,
 "nbformat_minor": 2
}
