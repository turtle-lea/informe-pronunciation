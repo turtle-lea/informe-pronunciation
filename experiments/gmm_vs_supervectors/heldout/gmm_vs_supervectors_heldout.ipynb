{
 "cells": [
  {
   "cell_type": "code",
   "execution_count": 4,
   "metadata": {
    "collapsed": true
   },
   "outputs": [],
   "source": [
    "import numpy as np\n",
    "import pandas as pd\n",
    "import matplotlib.pyplot as plt\n",
    "import seaborn as sns\n",
    "from os.path import expanduser"
   ]
  },
  {
   "cell_type": "markdown",
   "metadata": {
    "collapsed": true
   },
   "source": [
    "# Adapt Kmeans for Heldout"
   ]
  },
  {
   "cell_type": "code",
   "execution_count": 8,
   "metadata": {
    "collapsed": true
   },
   "outputs": [],
   "source": [
    "phonemes_by_kappa = [\"b\", \"m\", \"B\", \"s\", \"D\", \"G\", \"w\", \"i\", \"y\", \"p\", \"r\", \"z\", \"t\", \"k\", \"rr\", \"a\", \"o\", \"l\", \"e\", \"n\", \"u\", \"c\", \"x\", \"d\", \"g\", \"N\"]"
   ]
  },
  {
   "cell_type": "code",
   "execution_count": 9,
   "metadata": {
    "collapsed": true
   },
   "outputs": [],
   "source": [
    "models_dict = {\n",
    "    \"gmm\" : {},\n",
    "    \"supervectors\": {}\n",
    "}"
   ]
  },
  {
   "cell_type": "code",
   "execution_count": 18,
   "metadata": {
    "collapsed": true
   },
   "outputs": [],
   "source": [
    "experiments_dir = expanduser(\"~\") + \"/tesis/informe-pronunciation/experiments/\"\n",
    "base_dir = experiments_dir + \"gmm_vs_supervectors/heldout/\"\n",
    "adapt_kmeans_filename = base_dir + \"heldout_adapt_kmeans/all_eers\"\n",
    "plots_dir = base_dir + \"plots/\""
   ]
  },
  {
   "cell_type": "code",
   "execution_count": 14,
   "metadata": {
    "collapsed": true
   },
   "outputs": [],
   "source": [
    "def add_to_models_dict(model_key, filename):\n",
    "    lines = []\n",
    "    \n",
    "    with open(filename, \"r\") as f:\n",
    "        for line in f.readlines():\n",
    "            lines.append(line.strip().split(\":\"))            \n",
    "    \n",
    "    lines_1 = [l[0] for l in lines]\n",
    "    lines_2 = [float(l[1]) for l in lines]\n",
    "    models_dict[model_key] = dict(zip(lines_1, lines_2))"
   ]
  },
  {
   "cell_type": "code",
   "execution_count": 15,
   "metadata": {},
   "outputs": [],
   "source": [
    "add_to_models_dict(\"gmm\", adapt_kmeans_filename)"
   ]
  },
  {
   "cell_type": "markdown",
   "metadata": {},
   "source": [
    "## Supervectors"
   ]
  },
  {
   "cell_type": "code",
   "execution_count": 16,
   "metadata": {
    "collapsed": true
   },
   "outputs": [],
   "source": [
    "values = [0.133, 0.186, 0.179, 0.252, 0.185, 0.152, 0.141, 0.252, 0.371, 0.315, 0.331, 0.242, 0.323, 0.304, 0.341, 0.371, 0.387, 0.289, 0.392, 0.382, 0.355, 0.308, 0.135, 0.304, 0.236, 0.203]"
   ]
  },
  {
   "cell_type": "code",
   "execution_count": 17,
   "metadata": {
    "collapsed": true
   },
   "outputs": [],
   "source": [
    "models_dict[\"supervectors\"] = dict(zip(phonemes_by_kappa, values))"
   ]
  },
  {
   "cell_type": "markdown",
   "metadata": {},
   "source": [
    "# Dataframe"
   ]
  },
  {
   "cell_type": "code",
   "execution_count": 19,
   "metadata": {
    "collapsed": true
   },
   "outputs": [],
   "source": [
    "base_matrix = np.array(phonemes_by_kappa).reshape(-1,1)"
   ]
  },
  {
   "cell_type": "code",
   "execution_count": 20,
   "metadata": {
    "collapsed": true
   },
   "outputs": [],
   "source": [
    "for key in models_dict.keys():\n",
    "    results = [models_dict[key][p] for p in phonemes_by_kappa]\n",
    "    results = np.array(results).reshape(-1,1)\n",
    "    base_matrix = np.hstack((base_matrix, results))"
   ]
  },
  {
   "cell_type": "code",
   "execution_count": 21,
   "metadata": {
    "collapsed": true
   },
   "outputs": [],
   "source": [
    "dataframe = pd.DataFrame(base_matrix[:, 1:], index=phonemes_by_kappa, columns=models_dict.keys())"
   ]
  },
  {
   "cell_type": "code",
   "execution_count": 22,
   "metadata": {
    "collapsed": true
   },
   "outputs": [],
   "source": [
    "output_filename = plots_dir + \"gmm_vs_supervectors.csv\""
   ]
  },
  {
   "cell_type": "code",
   "execution_count": 23,
   "metadata": {
    "collapsed": true
   },
   "outputs": [],
   "source": [
    "dataframe.to_csv(output_filename, index_label=\"phones\")"
   ]
  },
  {
   "cell_type": "markdown",
   "metadata": {
    "collapsed": true
   },
   "source": [
    "# Final plots"
   ]
  },
  {
   "cell_type": "code",
   "execution_count": 25,
   "metadata": {
    "collapsed": true
   },
   "outputs": [],
   "source": [
    "values_supervectors = [models_dict['supervectors'][p] for p in phonemes_by_kappa]\n",
    "values_gmm = [models_dict['gmm'][p] for p in phonemes_by_kappa]"
   ]
  },
  {
   "cell_type": "code",
   "execution_count": 26,
   "metadata": {
    "collapsed": true
   },
   "outputs": [],
   "source": [
    "base_matrix = np.array(phonemes_by_kappa).reshape(-1,1)\n",
    "base_matrix = np.column_stack((base_matrix, values_gmm))\n",
    "base_matrix = np.column_stack((base_matrix, values_supervectors))"
   ]
  },
  {
   "cell_type": "code",
   "execution_count": 27,
   "metadata": {
    "collapsed": true
   },
   "outputs": [],
   "source": [
    "plot_dataframe = pd.DataFrame(base_matrix, columns=['phones', 'GMM', 'supervectors'])"
   ]
  },
  {
   "cell_type": "code",
   "execution_count": 28,
   "metadata": {
    "collapsed": true
   },
   "outputs": [],
   "source": [
    "df = pd.melt(plot_dataframe, id_vars=\"phones\", var_name=\"model\", value_name=\"EER\")"
   ]
  },
  {
   "cell_type": "code",
   "execution_count": 29,
   "metadata": {
    "collapsed": true
   },
   "outputs": [],
   "source": [
    "df[['EER']] = df[['EER']].apply(pd.to_numeric)"
   ]
  },
  {
   "cell_type": "code",
   "execution_count": 30,
   "metadata": {
    "collapsed": true
   },
   "outputs": [],
   "source": [
    "output_filename = plots_dir + \"gmm_vs_supervectors_heldout.png\""
   ]
  },
  {
   "cell_type": "code",
   "execution_count": 31,
   "metadata": {},
   "outputs": [
    {
     "data": {
      "image/png": "[encoded data removed]",
      "text/plain": [
       "<matplotlib.figure.Figure at 0x1165de650>"
      ]
     },
     "metadata": {},
     "output_type": "display_data"
    }
   ],
   "source": [
    "sns.set_style(\"whitegrid\")\n",
    "sns.factorplot(x='phones', y='EER', hue='model', data=df, kind='bar', size=4, aspect=2, palette=\"hls\")\n",
    "plt.title(\"GMM vs supervectors Heldout\")\n",
    "plt.savefig(output_filename)\n",
    "plt.show()"
   ]
  },
  {
   "cell_type": "markdown",
   "metadata": {},
   "source": [
    "# Barplots"
   ]
  },
  {
   "cell_type": "code",
   "execution_count": 35,
   "metadata": {},
   "outputs": [
    {
     "data": {
      "image/png": "[encoded data removed]",
      "text/plain": [
       "<matplotlib.figure.Figure at 0x1089f2b90>"
      ]
     },
     "metadata": {},
     "output_type": "display_data"
    }
   ],
   "source": [
    "output_filename = base_dir + \"plots/gmm_vs_supervectors_heldout.png\"\n",
    "title = \"GMM vs supervectors. HELDOUT results\"\n",
    "\n",
    "barWidth = 0.4\n",
    "xs_1 = np.arange(len(phonemes_by_kappa)) * 1.2\n",
    "xs_2 = [x + barWidth for x in xs_1]\n",
    "\n",
    "values_supervectors = [models_dict['supervectors'][p] for p in phonemes_by_kappa]\n",
    "values_gmm = [models_dict['gmm'][p] for p in phonemes_by_kappa]\n",
    "plt.bar(xs_1, values_gmm, width=barWidth, color=\"blue\", label=\"GMM\")\n",
    "plt.bar(xs_2, values_supervectors, width=barWidth, color=\"red\", label=\"supervectors\")\n",
    "plt.legend()\n",
    "plt.xticks(xs_1, phonemes_by_kappa)\n",
    "plt.ylabel(\"EER\")\n",
    "plt.xlabel(\"phones\")\n",
    "plt.title(title)\n",
    "plt.savefig(output_filename)\n",
    "plt.show()"
   ]
  }
 ],
 "metadata": {
  "kernelspec": {
   "display_name": "Python 2",
   "language": "python",
   "name": "python2"
  },
  "language_info": {
   "codemirror_mode": {
    "name": "ipython",
    "version": 2
   },
   "file_extension": ".py",
   "mimetype": "text/x-python",
   "name": "python",
   "nbconvert_exporter": "python",
   "pygments_lexer": "ipython2",
   "version": "2.7.10"
  }
 },
 "nbformat": 4,
 "nbformat_minor": 2
}
